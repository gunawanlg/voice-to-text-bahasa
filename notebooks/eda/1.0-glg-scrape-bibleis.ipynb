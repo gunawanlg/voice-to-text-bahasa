{
 "cells": [
  {
   "cell_type": "markdown",
   "metadata": {},
   "source": [
    "<span style=\"font-size:36px\"><b>Scrape Bibleis</b></span>\n",
    "\n",
    "Copyright &copy; 2020 Gunawan Lumban Gaol\n",
    "\n",
    "Licensed under the Apache License, Version 2.0 (the \"License\"); you may not use this file except in compliance with the License. You may obtain a copy of the License at http://www.apache.org/licenses/LICENSE-2.0\n",
    "\n",
    "Unless required by applicable law or agreed to in writing, software distributed under the License is distributed on an \"AS IS\" BASIS, WITHOUT WARRANTIES OR CONDITIONS OF ANY KIND, either express or implied. See the License for the specific language overning permissions and limitations under the License."
   ]
  },
  {
   "cell_type": "markdown",
   "metadata": {},
   "source": [
    "# Import Packages"
   ]
  },
  {
   "cell_type": "code",
   "execution_count": 71,
   "metadata": {
    "ExecuteTime": {
     "end_time": "2020-02-27T05:20:17.247804Z",
     "start_time": "2020-02-27T05:20:16.989804Z"
    }
   },
   "outputs": [
    {
     "name": "stdout",
     "output_type": "stream",
     "text": [
      "The autoreload extension is already loaded. To reload it, use:\n",
      "  %reload_ext autoreload\n"
     ]
    }
   ],
   "source": [
    "from gurih.data.scraper import BibleIsScraper\n",
    "\n",
    "%load_ext autoreload\n",
    "%autoreload 2"
   ]
  },
  {
   "cell_type": "markdown",
   "metadata": {},
   "source": [
    "# Configure Scraper"
   ]
  },
  {
   "cell_type": "code",
   "execution_count": 72,
   "metadata": {
    "ExecuteTime": {
     "end_time": "2020-02-27T05:20:18.400804Z",
     "start_time": "2020-02-27T05:20:18.203804Z"
    }
   },
   "outputs": [],
   "source": [
    "# INDASV version\n",
    "# base_url = \"https://live.bible.is/bible/INDASV/MRK/1?audio_type=audio\"\n",
    "# output_dir = \"../../dataset/raw/bibleis/INDASV/\"\n",
    "\n",
    "# INDWBT version\n",
    "base_url = \"https://live.bible.is/bible/INDWBT/MRK/1?audio_type=audio\"\n",
    "output_dir = \"../../dataset/raw/bibleis/INDWBT/\""
   ]
  },
  {
   "cell_type": "code",
   "execution_count": 73,
   "metadata": {
    "ExecuteTime": {
     "end_time": "2020-02-27T05:20:18.618804Z",
     "start_time": "2020-02-27T05:20:18.405804Z"
    }
   },
   "outputs": [
    {
     "name": "stdout",
     "output_type": "stream",
     "text": [
      "Output directory is already created at ../../dataset/raw/bibleis/INDWBT/\n",
      "\n",
      "Scrape text: True\n",
      "Scrape audio: True\n",
      "Edit the configuration by setting corresponding attributes.\n"
     ]
    }
   ],
   "source": [
    "scraper = BibleIsScraper(base_url, './chromedriver.exe', output_dir=output_dir)"
   ]
  },
  {
   "cell_type": "markdown",
   "metadata": {},
   "source": [
    "You can edit either scrape only the text or audio or both."
   ]
  },
  {
   "cell_type": "code",
   "execution_count": 74,
   "metadata": {
    "ExecuteTime": {
     "end_time": "2020-02-27T05:20:19.496804Z",
     "start_time": "2020-02-27T05:20:19.312804Z"
    }
   },
   "outputs": [],
   "source": [
    "# scraper.scrape_audio = False\n",
    "# scarper.scrape_text = False"
   ]
  },
  {
   "cell_type": "markdown",
   "metadata": {},
   "source": [
    "# Single Page Test\n",
    "\n",
    "Test `scrape_page` method, ensures expected return value."
   ]
  },
  {
   "cell_type": "markdown",
   "metadata": {
    "heading_collapsed": true
   },
   "source": [
    "## INDASV Version"
   ]
  },
  {
   "cell_type": "code",
   "execution_count": 62,
   "metadata": {
    "ExecuteTime": {
     "end_time": "2020-02-03T03:07:02.281500Z",
     "start_time": "2020-02-03T03:06:07.839500Z"
    },
    "hidden": true
   },
   "outputs": [
    {
     "data": {
      "text/plain": [
       "['https://live.bible.is/bible/INDASV/JOB/4?audio_type=audio',\n",
       " 'Maka berbicaralah Elifas, orang T\\'eman:\\n\\n\"Kesalkah engkau, bila orang mencoba berbicara kepadamu? Tetapi siapakah dapat tetap menutup mulutnya?\\n\\nSesungguhnya, engkau telah mengajar banyak orang, dan tangan yang lemah telah engkau kuatkan;\\n\\norang yang jatuh telah dibangunkan oleh kata-katamu, dan lutut yang lemas telah kaukokohkan;\\n\\ntetapi sekarang, dirimu yang tertimpa, dan engkau kesal, dirimu terkena, dan engkau terkejut.\\n\\nBukankah takutmu akan Allah yang menjadi sandaranmu, dan kesalehan hidupmu menjadi pengharapanmu?\\n\\nCamkanlah ini: siapa binasa dengan tidak bersalah dan di manakah orang yang jujur dipunahkan?\\n\\nYang telah kulihat ialah bahwa orang yang membajak kejahatan dan menabur kesusahan, ia menuainya juga.\\n\\nMereka binasa oleh nafas Allah, dan lenyap oleh hembusan hidung-Nya.\\n\\nSinga mengaum, singa meraung — patahlah gigi singa-singa muda.\\n\\nSinga binasa karena kekurangan mangsa, dan anak-anak singa betina bercerai-berai.\\n\\nSuatu perkataan telah disampaikan kepadaku dengan diam-diam dan telingaku menangkap bisikannya,\\n\\nwaktu bermenung oleh sebab khayal malam, ketika tidur nyenyak menghinggapi orang.\\n\\nAku terkejut dan gentar, sehingga tulang-tulangku gemetar.\\n\\nSuatu roh melewati aku, tegaklah bulu romaku.\\n\\nIa berhenti, tetapi rupanya tidak dapat kukenal. Suatu sosok ada di depan mataku, suara berbisik-bisik kudengar:\\n\\nMungkinkah seorang manusia benar di hadapan Allah, mungkinkah seseorang tahir di hadapan Penciptanya?\\n\\nSesungguhnya, hamba-hamba-Nya tidak dipercayai-Nya, malaikat-malaikat-Nya pun didapati-Nya tersesat,\\n\\nlebih-lebih lagi mereka yang diam dalam pondok tanah liat, yang dasarnya dalam debu, yang mati terpijat seperti gegat.\\n\\nDi antara pagi dan petang mereka dihancurkan, dan tanpa dihiraukan mereka binasa untuk selama-lamanya.\\n\\nBukankah kemah mereka dicabut? Mereka mati, tetapi tanpa hikmat.',\n",
       " '']"
      ]
     },
     "execution_count": 62,
     "metadata": {},
     "output_type": "execute_result"
    }
   ],
   "source": [
    "# url with hanging verses\n",
    "# test_url = \"https://live.bible.is/bible/INDASV/EZR/2?audio_type=audio\"\n",
    "# test_url = \"https://live.bible.is/bible/INDASV/1CH/6?audio_type=audio\"\n",
    "\n",
    "# url with no p element\n",
    "test_url = 'https://live.bible.is/bible/INDASV/JOB/4?audio_type=audio'\n",
    "scraper.scrape_page(test_url)"
   ]
  },
  {
   "cell_type": "markdown",
   "metadata": {},
   "source": [
    "## INDWBT Version"
   ]
  },
  {
   "cell_type": "code",
   "execution_count": 75,
   "metadata": {
    "ExecuteTime": {
     "end_time": "2020-02-27T05:21:52.438804Z",
     "start_time": "2020-02-27T05:20:31.610804Z"
    }
   },
   "outputs": [
    {
     "data": {
      "text/plain": [
       "['https://live.bible.is/bible/INDWBT/MAT/2?audio_type=audio',\n",
       " 'Yesus lahir di kota Betlehem di propinsi Yudea. Pada waktu itu Herodeslah yang memerintah sebagai raja Yudea di bawah pemerintahan kerajaan besar Roma. Kemudian datanglah beberapa orang peramal bintang dari negeri yang jauh di sebelah timur Yerusalem.\\n\\nMereka bertanya-tanya, “Di manakah Anak yang baru lahir itu— yaitu dia yang akan menjadi Raja orang Yahudi? Karena kami sudah melihat satu bintang muncul di sebelah timur yang adalah tanda kelahiran-Nya. Jadi kami pun datang untuk menyembah Dia.”\\n\\nKetika Raja Herodes mendengar berita tentang seorang raja orang Yahudi yang baru lahir itu, dia menjadi marah karena merasa tersaingi. Dan seluruh penduduk Yerusalem pun menjadi tidak tenang.\\n\\nLalu Herodes memanggil para imam kepala dan ahli Taurat dan bertanya kepada mereka di mana Kristus akan lahir.\\n\\nJawab mereka, “Di kota Betlehem, Yudea. Karena nabi yang sudah menuliskan perkataan Allah seperti ini,\\n\\n‘Hai penduduk Betlehem, di daerah Yehuda,\\n\\nsekarang kalian tidak lagi dianggap kota yang tidak penting di daerah itu!\\n\\nKarena di tengah-tengah kalian akan dilahirkan seorang pemimpin\\n\\nyang akan memimpin Israel, umat-Ku.’”\\n\\nKemudian Herodes mengadakan pertemuan tertutup bersama para peramal bintang itu. Dengan demikian dia mendapatkan keterangan yang tepat dari mereka tentang kapan bintang itu muncul pertama kali.\\n\\nKemudian dia menyuruh mereka ke Betlehem dan berkata, “Pergi dan carilah keterangan yang pasti tentang Anak itu. Dan setelah kalian menemukan Dia, beritahukanlah kepadaku, supaya saya pun datang menyembah-Nya.”\\n\\nSesudah pertemuan itu, para peramal bintang itu pun pergi. Saat mereka melihat lagi bintang itu sedang naik di sebelah timur, mereka sangat bersukacita. Lalu cahaya bintang itu mengarahkan mereka dan berhenti di atas rumah di mana Anak itu berada.\\n\\nLalu masuklah mereka ke dalam rumah, tempat di mana Anak itu berada. Mereka melihat Anak itu bersama Maria, ibu-Nya, lalu berlutut dan menyembah Anak itu. Mereka membuka kantong-kantongnya dan mempersembahkan berbagai hadiah kepada Anak itu— yaitu emas, kemenyan, dan mur.\\n\\nTetapi tidak lama kemudian, Allah memberitahu mereka melalui mimpi supaya tidak kembali kepada Herodes. Karena itu mereka pulang ke negeri mereka melalui jalan yang lain.\\n\\nSesudah para peramal bintang itu pergi, malaikat Tuhan datang kepada Yusuf dalam mimpi. Malaikat itu berkata, “Bangunlah! Segeralah bawa Anak itu dan ibu-Nya ke Mesir. Tinggallah di sana sampai aku datang lagi membawa pesan kepadamu untuk kembali. Karena Herodes berencana mencari Anak itu untuk membunuh Dia.”\\n\\nPada malam itu juga Yusuf bangun dan pergi menuju Mesir bersama Maria dan Yesus.\\n\\nMereka tinggal di Mesir sampai Herodes meninggal. Dengan demikian tepatlah apa yang dikatakan Allah melalui nabi-Nya, “Aku akan memanggil Anak-Ku keluar dari Mesir.”\\n\\nKetika Herodes tahu bahwa para peramal bintang itu sudah menipunya, dia menjadi sangat marah. Lalu dia memerintahkan tentara-tentaranya untuk membunuh semua anak laki-laki di kota Betlehem dan semua daerah di sekitarnya— yaitu anak-anak yang berumur dua tahun ke bawah, sesuai dengan keterangan dari para peramal bintang itu.\\n\\nLalu tepatlah apa yang dikatakan Allah melalui Nabi Yeremia,\\n\\n“Terdengar suara di kota Rama,\\n\\nyaitu suara-suara yang menangis dan ratapan karena rasa sedih yang sangat mendalam.\\n\\nRahel menangisi anak-anaknya,\\n\\ndan dia tidak mau dihibur,\\n\\nkarena anak-anaknya sudah mati.”\\n\\nSesudah Herodes meninggal, Yusuf dan keluarganya masih berada di negeri Mesir. Lalu malaikat Tuhan datang lagi kepadanya dalam mimpi.\\n\\nMalaikat itu berkata, “Bangunlah dan pergilah kembali ke tanah Israel bersama Yesus dan Maria! Karena orang-orang yang berusaha membunuh Dia sudah meninggal.”\\n\\nLalu Yusuf bangun dan langsung berangkat dengan mereka ke tanah Israel.\\n\\nTetapi waktu Yusuf mendengar bahwa yang menggantikan Raja Herodes adalah Arkelaus, dia takut kembali ke propinsi Yudea. Arkelaus adalah putra dari Raja Herodes sendiri. Lalu Yusuf mendapat petunjuk lagi melalui mimpi, sehingga dia membawa mereka ke propinsi Galilea.\\n\\nJadi mereka pergi ke kota yang bernama Nazaret dan tinggal di sana. Dengan demikian apa yang dikatakan Allah melalui para nabi ditepati— yaitu “Waktu Kristus datang, Dia akan disebut ‘Orang Nazaret.’”',\n",
       " '../../dataset/raw/bibleis/INDWBT/audio/INDWBT_MAT_2.mp3']"
      ]
     },
     "execution_count": 75,
     "metadata": {},
     "output_type": "execute_result"
    }
   ],
   "source": [
    "test_url = \"https://live.bible.is/bible/INDWBT/MAT/2?audio_type=audio\"\n",
    "scraper.scrape_page(test_url)"
   ]
  },
  {
   "cell_type": "markdown",
   "metadata": {},
   "source": [
    "# Get All Base Urls"
   ]
  },
  {
   "cell_type": "markdown",
   "metadata": {},
   "source": [
    "Get all urls from base urls."
   ]
  },
  {
   "cell_type": "code",
   "execution_count": 76,
   "metadata": {
    "ExecuteTime": {
     "end_time": "2020-02-27T05:29:43.720804Z",
     "start_time": "2020-02-27T05:28:41.786804Z"
    }
   },
   "outputs": [],
   "source": [
    "scraper.get_urls()"
   ]
  },
  {
   "cell_type": "markdown",
   "metadata": {},
   "source": [
    "Assert total number of base urls:\n",
    "1. INDASV version = `1189` (929 old + 260 new)\n",
    "2. INDWBT version = `260` (260 new only)"
   ]
  },
  {
   "cell_type": "code",
   "execution_count": 77,
   "metadata": {
    "ExecuteTime": {
     "end_time": "2020-02-27T05:29:53.995804Z",
     "start_time": "2020-02-27T05:29:53.799804Z"
    }
   },
   "outputs": [
    {
     "data": {
      "text/plain": [
       "260"
      ]
     },
     "execution_count": 77,
     "metadata": {},
     "output_type": "execute_result"
    }
   ],
   "source": [
    "len(scraper.urls)"
   ]
  },
  {
   "cell_type": "markdown",
   "metadata": {},
   "source": [
    "For every page, get verses and mp3s."
   ]
  },
  {
   "cell_type": "markdown",
   "metadata": {},
   "source": [
    "# Continue Scraping\n",
    "\n",
    "Continue Scraping from saved logs."
   ]
  },
  {
   "cell_type": "markdown",
   "metadata": {},
   "source": [
    "## INDASV"
   ]
  },
  {
   "cell_type": "code",
   "execution_count": 66,
   "metadata": {
    "ExecuteTime": {
     "end_time": "2020-02-03T03:08:04.210500Z",
     "start_time": "2020-02-03T03:08:03.903500Z"
    }
   },
   "outputs": [
    {
     "data": {
      "text/plain": [
       "(1189, 3)"
      ]
     },
     "execution_count": 66,
     "metadata": {},
     "output_type": "execute_result"
    }
   ],
   "source": [
    "df_res_continue = pd.read_csv(\"../../dataset/raw/bibleis/bibleis_transcription_v2.csv\")\n",
    "df_res_continue.shape"
   ]
  },
  {
   "cell_type": "code",
   "execution_count": 68,
   "metadata": {
    "ExecuteTime": {
     "end_time": "2020-02-03T03:13:16.671000Z",
     "start_time": "2020-02-03T03:13:16.513500Z"
    }
   },
   "outputs": [
    {
     "data": {
      "text/plain": [
       "149"
      ]
     },
     "execution_count": 68,
     "metadata": {},
     "output_type": "execute_result"
    }
   ],
   "source": [
    "l_cont = df_res_continue[df_res_continue['chapter_string'].isnull()]['url']\n",
    "len(l_cont)"
   ]
  },
  {
   "cell_type": "code",
   "execution_count": null,
   "metadata": {},
   "outputs": [],
   "source": [
    "scraper.run(list(l_cont.values))"
   ]
  },
  {
   "cell_type": "markdown",
   "metadata": {},
   "source": [
    "## INDWBT\n",
    "\n",
    "Currently not implemented."
   ]
  },
  {
   "cell_type": "markdown",
   "metadata": {},
   "source": [
    "# Scrape All"
   ]
  },
  {
   "cell_type": "code",
   "execution_count": null,
   "metadata": {
    "ExecuteTime": {
     "start_time": "2020-02-27T05:31:38.166Z"
    },
    "scrolled": false
   },
   "outputs": [
    {
     "name": "stdout",
     "output_type": "stream",
     "text": [
      "Running scraper:\n",
      "Scrape text: True\n",
      "Scrape audio: True\n"
     ]
    },
    {
     "data": {
      "application/vnd.jupyter.widget-view+json": {
       "model_id": "9fb5d2f93bb54b02ac3a97681b2679a6",
       "version_major": 2,
       "version_minor": 0
      },
      "text/plain": [
       "HBox(children=(FloatProgress(value=0.0, max=260.0), HTML(value='')))"
      ]
     },
     "metadata": {},
     "output_type": "display_data"
    }
   ],
   "source": [
    "scraper.run()"
   ]
  },
  {
   "cell_type": "markdown",
   "metadata": {},
   "source": [
    "Save scraped data to csv."
   ]
  },
  {
   "cell_type": "code",
   "execution_count": 71,
   "metadata": {
    "ExecuteTime": {
     "end_time": "2020-02-03T03:47:05.598500Z",
     "start_time": "2020-02-03T03:47:05.361000Z"
    }
   },
   "outputs": [
    {
     "name": "stdout",
     "output_type": "stream",
     "text": [
      "Data written in ../../dataset/raw/bibleis/bibleis_transcription_v2_add.csv\n"
     ]
    }
   ],
   "source": [
    "scraper.write_csv()"
   ]
  },
  {
   "cell_type": "markdown",
   "metadata": {},
   "source": [
    "If needed, rescrape broken audio files."
   ]
  },
  {
   "cell_type": "code",
   "execution_count": null,
   "metadata": {},
   "outputs": [],
   "source": [
    "import glob\n",
    "mp3s = glob.glob(output_dir+\"audio/*.mp3\")\n",
    "\n",
    "l = [x for x in mp3s if (os.stat(x).st_size < 3e5)]\n",
    "smol_files = [\"https://live.bible.is/bible/\" + x[:-4].replace(\"_\", \"/\") + \"?audio_type=audio\" for x in l]\n",
    "\n",
    "print(len(smol_files))\n",
    "print(smol_files[0])\n",
    "\n",
    "scraper.run(smol_files)"
   ]
  }
 ],
 "metadata": {
  "hide_input": false,
  "kernelspec": {
   "display_name": "Python 3",
   "language": "python",
   "name": "python3"
  },
  "language_info": {
   "codemirror_mode": {
    "name": "ipython",
    "version": 3
   },
   "file_extension": ".py",
   "mimetype": "text/x-python",
   "name": "python",
   "nbconvert_exporter": "python",
   "pygments_lexer": "ipython3",
   "version": "3.7.6"
  },
  "toc": {
   "base_numbering": 1,
   "nav_menu": {},
   "number_sections": true,
   "sideBar": true,
   "skip_h1_title": false,
   "title_cell": "Table of Contents",
   "title_sidebar": "Contents",
   "toc_cell": false,
   "toc_position": {},
   "toc_section_display": true,
   "toc_window_display": false
  }
 },
 "nbformat": 4,
 "nbformat_minor": 2
}
