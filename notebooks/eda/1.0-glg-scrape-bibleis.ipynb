{
 "cells": [
  {
   "cell_type": "markdown",
   "metadata": {},
   "source": [
    "<span style=\"font-size:36px\"><b>Scrape Bibleis</b></span>\n",
    "\n",
    "Copyright &copy; 2020 Gunawan Lumban Gaol\n",
    "\n",
    "Licensed under the Apache License, Version 2.0 (the \"License\"); you may not use this file except in compliance with the License. You may obtain a copy of the License at http://www.apache.org/licenses/LICENSE-2.0\n",
    "\n",
    "Unless required by applicable law or agreed to in writing, software distributed under the License is distributed on an \"AS IS\" BASIS, WITHOUT WARRANTIES OR CONDITIONS OF ANY KIND, either express or implied. See the License for the specific language overning permissions and limitations under the License."
   ]
  },
  {
   "cell_type": "markdown",
   "metadata": {},
   "source": [
    "# Import Packages"
   ]
  },
  {
   "cell_type": "code",
   "execution_count": 2,
   "metadata": {
    "ExecuteTime": {
     "end_time": "2020-02-29T12:31:26.936500Z",
     "start_time": "2020-02-29T12:31:26.931500Z"
    }
   },
   "outputs": [],
   "source": [
    "import os\n",
    "import re\n",
    "import glob\n",
    "\n",
    "import numpy as np\n",
    "import pandas as pd\n",
    "\n",
    "from gurih.data.scraper import BibleIsScraper"
   ]
  },
  {
   "cell_type": "code",
   "execution_count": 3,
   "metadata": {
    "ExecuteTime": {
     "end_time": "2020-02-29T12:31:26.971500Z",
     "start_time": "2020-02-29T12:31:26.946500Z"
    }
   },
   "outputs": [],
   "source": [
    "def urls_to_mp3s(urls):\n",
    "    return [re.search(\"[^?]*\", url[28:]).group().replace('/', '_') + \".mp3\" for url in urls]\n",
    "\n",
    "def mp3s_to_urls(mp3s):\n",
    "    base_url = 'https://live.bible.is/bible/'\n",
    "    tail_url = \"?audio_type=audio\"\n",
    "    return [base_url+mp3[:-4].replace('_', '/')+tail_url for mp3 in mp3s]"
   ]
  },
  {
   "cell_type": "markdown",
   "metadata": {},
   "source": [
    "# Configure Scraper"
   ]
  },
  {
   "cell_type": "code",
   "execution_count": 4,
   "metadata": {
    "ExecuteTime": {
     "end_time": "2020-02-29T12:31:29.114000Z",
     "start_time": "2020-02-29T12:31:29.104000Z"
    }
   },
   "outputs": [],
   "source": [
    "# INDASV version\n",
    "# base_url = \"https://live.bible.is/bible/INDASV/MRK/1?audio_type=audio\"\n",
    "# output_dir = \"../../dataset/raw/bibleis/INDASV/\"\n",
    "\n",
    "# INDWBT version\n",
    "base_url = \"https://live.bible.is/bible/INDWBT/MAT/1?audio_type=audio\"\n",
    "output_dir = \"../../dataset/raw/bibleis/INDWBT/\""
   ]
  },
  {
   "cell_type": "code",
   "execution_count": 5,
   "metadata": {
    "ExecuteTime": {
     "end_time": "2020-02-29T12:31:29.739000Z",
     "start_time": "2020-02-29T12:31:29.706500Z"
    }
   },
   "outputs": [
    {
     "name": "stdout",
     "output_type": "stream",
     "text": [
      "Output directory is already created at ../../dataset/raw/bibleis/INDWBT/\n",
      "\n",
      "Scrape text: True\n",
      "Scrape audio: True\n",
      "Edit the configuration by setting corresponding attributes.\n"
     ]
    }
   ],
   "source": [
    "scraper = BibleIsScraper(base_url, './chromedriver.exe', output_dir=output_dir)"
   ]
  },
  {
   "cell_type": "markdown",
   "metadata": {},
   "source": [
    "You can edit either scrape only the text or audio or both."
   ]
  },
  {
   "cell_type": "code",
   "execution_count": 6,
   "metadata": {
    "ExecuteTime": {
     "end_time": "2020-02-29T12:31:32.127750Z",
     "start_time": "2020-02-29T12:31:32.111500Z"
    }
   },
   "outputs": [],
   "source": [
    "# scraper.scrape_audio = False\n",
    "scraper.scrape_text = False"
   ]
  },
  {
   "cell_type": "markdown",
   "metadata": {},
   "source": [
    "# Single Page Test\n",
    "\n",
    "Test `scrape_page` method, ensures expected return value."
   ]
  },
  {
   "cell_type": "markdown",
   "metadata": {
    "heading_collapsed": true
   },
   "source": [
    "## INDASV Version"
   ]
  },
  {
   "cell_type": "code",
   "execution_count": 62,
   "metadata": {
    "ExecuteTime": {
     "end_time": "2020-02-03T03:07:02.281500Z",
     "start_time": "2020-02-03T03:06:07.839500Z"
    },
    "hidden": true
   },
   "outputs": [
    {
     "data": {
      "text/plain": [
       "['https://live.bible.is/bible/INDASV/JOB/4?audio_type=audio',\n",
       " 'Maka berbicaralah Elifas, orang T\\'eman:\\n\\n\"Kesalkah engkau, bila orang mencoba berbicara kepadamu? Tetapi siapakah dapat tetap menutup mulutnya?\\n\\nSesungguhnya, engkau telah mengajar banyak orang, dan tangan yang lemah telah engkau kuatkan;\\n\\norang yang jatuh telah dibangunkan oleh kata-katamu, dan lutut yang lemas telah kaukokohkan;\\n\\ntetapi sekarang, dirimu yang tertimpa, dan engkau kesal, dirimu terkena, dan engkau terkejut.\\n\\nBukankah takutmu akan Allah yang menjadi sandaranmu, dan kesalehan hidupmu menjadi pengharapanmu?\\n\\nCamkanlah ini: siapa binasa dengan tidak bersalah dan di manakah orang yang jujur dipunahkan?\\n\\nYang telah kulihat ialah bahwa orang yang membajak kejahatan dan menabur kesusahan, ia menuainya juga.\\n\\nMereka binasa oleh nafas Allah, dan lenyap oleh hembusan hidung-Nya.\\n\\nSinga mengaum, singa meraung — patahlah gigi singa-singa muda.\\n\\nSinga binasa karena kekurangan mangsa, dan anak-anak singa betina bercerai-berai.\\n\\nSuatu perkataan telah disampaikan kepadaku dengan diam-diam dan telingaku menangkap bisikannya,\\n\\nwaktu bermenung oleh sebab khayal malam, ketika tidur nyenyak menghinggapi orang.\\n\\nAku terkejut dan gentar, sehingga tulang-tulangku gemetar.\\n\\nSuatu roh melewati aku, tegaklah bulu romaku.\\n\\nIa berhenti, tetapi rupanya tidak dapat kukenal. Suatu sosok ada di depan mataku, suara berbisik-bisik kudengar:\\n\\nMungkinkah seorang manusia benar di hadapan Allah, mungkinkah seseorang tahir di hadapan Penciptanya?\\n\\nSesungguhnya, hamba-hamba-Nya tidak dipercayai-Nya, malaikat-malaikat-Nya pun didapati-Nya tersesat,\\n\\nlebih-lebih lagi mereka yang diam dalam pondok tanah liat, yang dasarnya dalam debu, yang mati terpijat seperti gegat.\\n\\nDi antara pagi dan petang mereka dihancurkan, dan tanpa dihiraukan mereka binasa untuk selama-lamanya.\\n\\nBukankah kemah mereka dicabut? Mereka mati, tetapi tanpa hikmat.',\n",
       " '']"
      ]
     },
     "execution_count": 62,
     "metadata": {},
     "output_type": "execute_result"
    }
   ],
   "source": [
    "# url with hanging verses\n",
    "# test_url = \"https://live.bible.is/bible/INDASV/EZR/2?audio_type=audio\"\n",
    "# test_url = \"https://live.bible.is/bible/INDASV/1CH/6?audio_type=audio\"\n",
    "\n",
    "# url with no p element\n",
    "test_url = 'https://live.bible.is/bible/INDASV/JOB/4?audio_type=audio'\n",
    "scraper.scrape_page(test_url)"
   ]
  },
  {
   "cell_type": "markdown",
   "metadata": {
    "heading_collapsed": true
   },
   "source": [
    "## INDWBT Version"
   ]
  },
  {
   "cell_type": "code",
   "execution_count": 4,
   "metadata": {
    "ExecuteTime": {
     "end_time": "2020-02-28T07:57:19.357250Z",
     "start_time": "2020-02-28T07:55:22.608250Z"
    },
    "hidden": true
   },
   "outputs": [
    {
     "name": "stdout",
     "output_type": "stream",
     "text": [
      "span[data-id^=\\31JN1], div[data-id^=\\31JN1]\n",
      "span[data-id^=\\31JN1], div[data-id^=\\31JN1]\n",
      "'span[data-id^=\\\\31JN1], div[data-id^=\\\\31JN1]'\n"
     ]
    },
    {
     "data": {
      "text/plain": [
       "['https://live.bible.is/bible/INDWBT/1JN/1?audio_type=audio',\n",
       " 'Kami ingin memberitakan kepada kalian tentang Dia yang disebut Firman— yaitu Dia yang memberikan hidup kepada kita dan yang sudah ada sebelum dunia diciptakan. Kami sudah mendengar dan melihat Dia dengan mata kami sendiri. Dan sungguh, kami sudah melihat Dia— bahkan kami sudah memegang Dia dengan tangan kami sendiri.\\n\\nBenar, Dia yang memberikan hidup itu sudah dinyatakan kepada kami, dan kami mendapat banyak kesempatan untuk melihat Dia. Sekarang kami bersaksi dan memberitakan kepada kalian tentang Dia yang memberi hidup yang selama-lamanya— yaitu Dia yang dari sejak semula sudah tinggal bersama Allah Bapa dan yang sudah dinyatakan oleh Bapa kepada kami.\\n\\nJadi, apa yang sudah kami lihat dan dengar, itulah yang kami beritakan kepada kalian, supaya kalian berhubungan dekat dengan kami dalam persekutuan kita. Dan bukan saja kita saling berhubungan, tetapi kita berhubungan dekat juga dengan Bapa dan Anak-Nya— yaitu Kristus Yesus.\\n\\nOleh karena itu, kami menulis surat ini kepada kalian, supaya melalui hubungan yang dekat itu sukacita kita semua akan sempurna.\\n\\nDan inilah berita yang sudah kami dengar dari Anak Allah dan yang sedang kami beritakan kepada kalian: Allah itu seperti terang, dan sama sekali tidak ada kegelapan di dalam Dia.\\n\\nJadi kalau kita berkata bahwa kita dengan Allah mempunyai hubungan yang erat, padahal kita masih hidup seperti orang yang tinggal di dalam kegelapan, berarti kita berbohong dan tidak menjalankan ajaran benar dari Allah.\\n\\nTetapi, kalau kita hidup di dalam terang sama seperti Allah hidup di dalam terang, kita dengan saudara-saudari seiman kita akan tetap mempunyai hubungan yang erat, dan darah Yesus— yang adalah Anak Allah, tetap menyucikan kita dari setiap dosa kita.\\n\\nKalau ada saudara kita yang berkata, “Saya tidak berdosa,” berarti dia tidak menerima ajaran yang benar dari Allah dan dia sudah menipu dirinya sendiri.\\n\\nTetapi kalau kita mengakui dosa-dosa kita kepada Allah, maka sesuai dengan janji-Nya, Allah yang sangat adil dan setia itu pasti mengampuni kita dan membersihkan hati kita dari setiap perbuatan jahat yang sudah kita lakukan.\\n\\nKalau ada saudara kita yang berkata, “Saya tidak pernah berbuat dosa,” berarti sama saja dia menganggap Allah sebagai Pembohong, dan ternyata ajaran yang benar dari Allah tidak mendapat tempat di dalam hatinya.',\n",
       " '../../dataset/raw/bibleis/INDWBT/audio/INDWBT_1JN_1.mp3']"
      ]
     },
     "execution_count": 4,
     "metadata": {},
     "output_type": "execute_result"
    }
   ],
   "source": [
    "# test_url = \"https://live.bible.is/bible/INDWBT/MAT/2?audio_type=audio\"\n",
    "# test_url = \"https://live.bible.is/bible/INDWBT/1CO/10?audio_type=audio\"\n",
    "# test_url = \"https://live.bible.is/bible/INDWBT/1CO/11?audio_type=audio\"\n",
    "test_url = \"https://live.bible.is/bible/INDWBT/1JN/1?audio_type=audio\"\n",
    "scraper.scrape_page(test_url)"
   ]
  },
  {
   "cell_type": "markdown",
   "metadata": {},
   "source": [
    "# Get All Base Urls"
   ]
  },
  {
   "cell_type": "markdown",
   "metadata": {},
   "source": [
    "Get all urls from base urls."
   ]
  },
  {
   "cell_type": "code",
   "execution_count": 7,
   "metadata": {
    "ExecuteTime": {
     "end_time": "2020-02-29T12:32:41.222500Z",
     "start_time": "2020-02-29T12:31:36.349000Z"
    }
   },
   "outputs": [],
   "source": [
    "scraper.get_urls()"
   ]
  },
  {
   "cell_type": "markdown",
   "metadata": {},
   "source": [
    "Assert total number of base urls:\n",
    "1. INDASV version = `1189` (929 old + 260 new)\n",
    "2. INDWBT version = `260` (260 new only)"
   ]
  },
  {
   "cell_type": "code",
   "execution_count": 9,
   "metadata": {
    "ExecuteTime": {
     "end_time": "2020-02-29T14:31:38.707000Z",
     "start_time": "2020-02-29T14:31:38.698250Z"
    }
   },
   "outputs": [
    {
     "data": {
      "text/plain": [
       "260"
      ]
     },
     "execution_count": 9,
     "metadata": {},
     "output_type": "execute_result"
    }
   ],
   "source": [
    "len(scraper.urls)"
   ]
  },
  {
   "cell_type": "markdown",
   "metadata": {},
   "source": [
    "# Continue Scraping\n",
    "\n",
    "Continue Scraping from saved logs."
   ]
  },
  {
   "cell_type": "markdown",
   "metadata": {
    "heading_collapsed": true
   },
   "source": [
    "## INDASV"
   ]
  },
  {
   "cell_type": "code",
   "execution_count": 66,
   "metadata": {
    "ExecuteTime": {
     "end_time": "2020-02-03T03:08:04.210500Z",
     "start_time": "2020-02-03T03:08:03.903500Z"
    },
    "hidden": true
   },
   "outputs": [
    {
     "data": {
      "text/plain": [
       "(1189, 3)"
      ]
     },
     "execution_count": 66,
     "metadata": {},
     "output_type": "execute_result"
    }
   ],
   "source": [
    "df_res_continue = pd.read_csv(\"../../dataset/raw/bibleis/INDASV/transcription.csv\")\n",
    "df_res_continue.shape"
   ]
  },
  {
   "cell_type": "code",
   "execution_count": 68,
   "metadata": {
    "ExecuteTime": {
     "end_time": "2020-02-03T03:13:16.671000Z",
     "start_time": "2020-02-03T03:13:16.513500Z"
    },
    "hidden": true
   },
   "outputs": [
    {
     "data": {
      "text/plain": [
       "149"
      ]
     },
     "execution_count": 68,
     "metadata": {},
     "output_type": "execute_result"
    }
   ],
   "source": [
    "l_cont = df_res_continue[df_res_continue['chapter_string'].isnull()]['url']\n",
    "len(l_cont)"
   ]
  },
  {
   "cell_type": "code",
   "execution_count": null,
   "metadata": {
    "hidden": true
   },
   "outputs": [],
   "source": [
    "scraper.run(list(l_cont.values))"
   ]
  },
  {
   "cell_type": "markdown",
   "metadata": {},
   "source": [
    "## INDWBT"
   ]
  },
  {
   "cell_type": "code",
   "execution_count": 41,
   "metadata": {
    "ExecuteTime": {
     "end_time": "2020-02-28T09:08:33.556171Z",
     "start_time": "2020-02-28T09:08:33.504166Z"
    }
   },
   "outputs": [
    {
     "data": {
      "text/plain": [
       "(198, 3)"
      ]
     },
     "execution_count": 41,
     "metadata": {},
     "output_type": "execute_result"
    }
   ],
   "source": [
    "df_res_continue = pd.read_csv(\"../../dataset/raw/bibleis/INDWBT/transcription.csv\")\n",
    "df_res_continue.shape"
   ]
  },
  {
   "cell_type": "code",
   "execution_count": 42,
   "metadata": {
    "ExecuteTime": {
     "end_time": "2020-02-28T09:08:37.412557Z",
     "start_time": "2020-02-28T09:08:37.402556Z"
    }
   },
   "outputs": [
    {
     "data": {
      "text/plain": [
       "62"
      ]
     },
     "execution_count": 42,
     "metadata": {},
     "output_type": "execute_result"
    }
   ],
   "source": [
    "l_cont = list(set(scraper.urls) - set(df_res_continue['url']))\n",
    "len(l_cont)"
   ]
  },
  {
   "cell_type": "code",
   "execution_count": 51,
   "metadata": {
    "ExecuteTime": {
     "end_time": "2020-02-28T09:10:40.480862Z",
     "start_time": "2020-02-28T09:10:40.473861Z"
    }
   },
   "outputs": [],
   "source": [
    "l_cont = sorted(l_cont)"
   ]
  },
  {
   "cell_type": "markdown",
   "metadata": {},
   "source": [
    "Continue Audio only."
   ]
  },
  {
   "cell_type": "code",
   "execution_count": 10,
   "metadata": {
    "ExecuteTime": {
     "end_time": "2020-02-29T14:31:42.053250Z",
     "start_time": "2020-02-29T14:31:42.040750Z"
    }
   },
   "outputs": [
    {
     "name": "stdout",
     "output_type": "stream",
     "text": [
      "243\n"
     ]
    },
    {
     "data": {
      "text/plain": [
       "'INDWBT_1CO_1.mp3'"
      ]
     },
     "execution_count": 10,
     "metadata": {},
     "output_type": "execute_result"
    }
   ],
   "source": [
    "mp3s = glob.glob(output_dir+'audio/*.mp3')\n",
    "mp3s = [os.path.basename(s) for s in mp3s]\n",
    "print(len(mp3s))\n",
    "mp3s[0]"
   ]
  },
  {
   "cell_type": "code",
   "execution_count": 11,
   "metadata": {
    "ExecuteTime": {
     "end_time": "2020-02-29T14:31:44.045750Z",
     "start_time": "2020-02-29T14:31:44.037000Z"
    }
   },
   "outputs": [],
   "source": [
    "# Get missing audio files\n",
    "missing_audios = list(set(urls_to_mp3s(scraper.urls)) - set(mp3s))\n",
    "missing_audios_urls = mp3s_to_urls(missing_audios)"
   ]
  },
  {
   "cell_type": "code",
   "execution_count": 12,
   "metadata": {
    "ExecuteTime": {
     "end_time": "2020-02-29T14:31:44.607000Z",
     "start_time": "2020-02-29T14:31:44.599500Z"
    }
   },
   "outputs": [],
   "source": [
    "assert (len(missing_audios_urls) + len(mp3s)) == len(scraper.urls)"
   ]
  },
  {
   "cell_type": "markdown",
   "metadata": {},
   "source": [
    "# Scrape All"
   ]
  },
  {
   "cell_type": "code",
   "execution_count": 13,
   "metadata": {
    "ExecuteTime": {
     "end_time": "2020-02-29T14:38:27.453250Z",
     "start_time": "2020-02-29T14:31:55.462000Z"
    },
    "scrolled": false
   },
   "outputs": [
    {
     "name": "stdout",
     "output_type": "stream",
     "text": [
      "Running scraper:\n",
      "Scrape text: False\n",
      "Scrape audio: True\n"
     ]
    },
    {
     "data": {
      "application/vnd.jupyter.widget-view+json": {
       "model_id": "c578566d147b419ba7a272fb728cbd24",
       "version_major": 2,
       "version_minor": 0
      },
      "text/plain": [
       "HBox(children=(FloatProgress(value=0.0, max=17.0), HTML(value='')))"
      ]
     },
     "metadata": {},
     "output_type": "display_data"
    },
    {
     "name": "stdout",
     "output_type": "stream",
     "text": [
      "\n"
     ]
    }
   ],
   "source": [
    "scraper.run(missing_audios_urls)"
   ]
  },
  {
   "cell_type": "markdown",
   "metadata": {},
   "source": [
    "Save scraped data to csv."
   ]
  },
  {
   "cell_type": "code",
   "execution_count": 11,
   "metadata": {
    "ExecuteTime": {
     "end_time": "2020-02-28T08:40:59.683596Z",
     "start_time": "2020-02-28T08:40:59.655496Z"
    }
   },
   "outputs": [
    {
     "name": "stdout",
     "output_type": "stream",
     "text": [
      "Data written in ../../dataset/raw/bibleis/INDWBT/transcription_add.csv\n"
     ]
    }
   ],
   "source": [
    "scraper.write_csv(\"../../dataset/raw/bibleis/INDWBT/transcription_add.csv\")"
   ]
  },
  {
   "cell_type": "markdown",
   "metadata": {},
   "source": [
    "If rescraping, run this cell."
   ]
  },
  {
   "cell_type": "code",
   "execution_count": 15,
   "metadata": {
    "ExecuteTime": {
     "end_time": "2020-02-28T08:43:10.759778Z",
     "start_time": "2020-02-28T08:43:10.709598Z"
    }
   },
   "outputs": [
    {
     "name": "stdout",
     "output_type": "stream",
     "text": [
      "(198, 3)\n",
      "(33, 3)\n"
     ]
    }
   ],
   "source": [
    "df_old = pd.read_csv(\"../../dataset/raw/bibleis/INDWBT/transcription.csv\")\n",
    "df_old = df_old.drop(df_old.columns[0], axis=1)\n",
    "df_new = pd.read_csv(\"../../dataset/raw/bibleis/INDWBT/transcription_add.csv\")\n",
    "print(df_old.shape)\n",
    "print(df_new.shape)"
   ]
  },
  {
   "cell_type": "code",
   "execution_count": 17,
   "metadata": {
    "ExecuteTime": {
     "end_time": "2020-02-28T08:43:15.457630Z",
     "start_time": "2020-02-28T08:43:15.348237Z"
    }
   },
   "outputs": [
    {
     "name": "stdout",
     "output_type": "stream",
     "text": [
      "(231, 3)\n"
     ]
    },
    {
     "ename": "AssertionError",
     "evalue": "",
     "output_type": "error",
     "traceback": [
      "\u001b[1;31m---------------------------------------------------------------------------\u001b[0m",
      "\u001b[1;31mAssertionError\u001b[0m                            Traceback (most recent call last)",
      "\u001b[1;32m<ipython-input-17-c25f49ec0f0e>\u001b[0m in \u001b[0;36m<module>\u001b[1;34m\u001b[0m\n\u001b[0;32m      7\u001b[0m \u001b[0mtest_df_join\u001b[0m \u001b[1;33m=\u001b[0m \u001b[0mpd\u001b[0m\u001b[1;33m.\u001b[0m\u001b[0mread_csv\u001b[0m\u001b[1;33m(\u001b[0m\u001b[1;34m'../../dataset/raw/bibleis/INDWBT/transcription_join.csv'\u001b[0m\u001b[1;33m)\u001b[0m\u001b[1;33m\u001b[0m\u001b[1;33m\u001b[0m\u001b[0m\n\u001b[0;32m      8\u001b[0m \u001b[1;33m\u001b[0m\u001b[0m\n\u001b[1;32m----> 9\u001b[1;33m \u001b[1;32massert\u001b[0m \u001b[0mint\u001b[0m\u001b[1;33m(\u001b[0m\u001b[1;33m(\u001b[0m\u001b[0mtest_df_join\u001b[0m \u001b[1;33m==\u001b[0m \u001b[0mdf_join\u001b[0m\u001b[1;33m)\u001b[0m\u001b[1;33m.\u001b[0m\u001b[0msum\u001b[0m\u001b[1;33m(\u001b[0m\u001b[1;33m)\u001b[0m\u001b[1;33m.\u001b[0m\u001b[0mmean\u001b[0m\u001b[1;33m(\u001b[0m\u001b[1;33m)\u001b[0m\u001b[1;33m)\u001b[0m \u001b[1;33m==\u001b[0m \u001b[0mtest_df_join\u001b[0m\u001b[1;33m.\u001b[0m\u001b[0mshape\u001b[0m\u001b[1;33m[\u001b[0m\u001b[1;36m0\u001b[0m\u001b[1;33m]\u001b[0m\u001b[1;33m\u001b[0m\u001b[1;33m\u001b[0m\u001b[0m\n\u001b[0m\u001b[0;32m     10\u001b[0m \u001b[1;33m\u001b[0m\u001b[0m\n\u001b[0;32m     11\u001b[0m \u001b[0mtest_df_join\u001b[0m\u001b[1;33m.\u001b[0m\u001b[0mto_csv\u001b[0m\u001b[1;33m(\u001b[0m\u001b[1;34m'../../dataset/raw/bibleis/INDWBT/transcription.csv'\u001b[0m\u001b[1;33m)\u001b[0m\u001b[1;33m\u001b[0m\u001b[1;33m\u001b[0m\u001b[0m\n",
      "\u001b[1;31mAssertionError\u001b[0m: "
     ]
    }
   ],
   "source": [
    "df_join = pd.concat([df_old, df_new]).sort_values(by=['url']).reset_index(drop=True)\n",
    "print(df_join.shape)\n",
    "\n",
    "df_join.to_csv('../../dataset/raw/bibleis/INDWBT/transcription_join.csv', sep=',', line_terminator='\\n', index=False)\n",
    "\n",
    "# Test\n",
    "test_df_join = pd.read_csv('../../dataset/raw/bibleis/INDWBT/transcription_join.csv')\n",
    "\n",
    "assert int((test_df_join == df_join).sum().mean()) == test_df_join.shape[0]\n",
    "\n",
    "test_df_join.to_csv('../../dataset/raw/bibleis/INDWBT/transcription.csv')\n",
    "\n",
    "os.remove(\"../../dataset/raw/bibleis/INDWBT/transcription_join.csv\")\n",
    "os.remove(\"../../dataset/raw/bibleis/INDWBT/transcription_add.csv\")"
   ]
  },
  {
   "cell_type": "markdown",
   "metadata": {},
   "source": [
    "If needed, rescrape broken audio files."
   ]
  },
  {
   "cell_type": "code",
   "execution_count": 28,
   "metadata": {
    "ExecuteTime": {
     "end_time": "2020-02-29T16:41:40.286750Z",
     "start_time": "2020-02-29T16:41:40.256750Z"
    }
   },
   "outputs": [
    {
     "name": "stdout",
     "output_type": "stream",
     "text": [
      "0\n",
      "[]\n"
     ]
    }
   ],
   "source": [
    "import glob\n",
    "\n",
    "while True:\n",
    "    mp3s = glob.glob(output_dir+\"audio/*.mp3\")\n",
    "    mp3s = [x for x in mp3s if (os.stat(x).st_size < 3e5)]\n",
    "    mp3s = [os.path.basename(s) for s in mp3s]\n",
    "    smol_files = mp3s_to_urls(mp3s)\n",
    "    if len(smol_files == 0):\n",
    "        print(\"Downloaded all audio.\")\n",
    "        break\n",
    "\n",
    "print(len(smol_files))\n",
    "print(smol_files)"
   ]
  },
  {
   "cell_type": "code",
   "execution_count": 25,
   "metadata": {
    "ExecuteTime": {
     "end_time": "2020-02-29T16:40:09.513750Z",
     "start_time": "2020-02-29T16:39:32.718750Z"
    }
   },
   "outputs": [
    {
     "name": "stdout",
     "output_type": "stream",
     "text": [
      "Running scraper:\n",
      "Scrape text: False\n",
      "Scrape audio: True\n"
     ]
    },
    {
     "data": {
      "application/vnd.jupyter.widget-view+json": {
       "model_id": "92afed5b97c54a16be9caca2589cdf48",
       "version_major": 2,
       "version_minor": 0
      },
      "text/plain": [
       "HBox(children=(FloatProgress(value=0.0, max=2.0), HTML(value='')))"
      ]
     },
     "metadata": {},
     "output_type": "display_data"
    },
    {
     "name": "stdout",
     "output_type": "stream",
     "text": [
      "\n"
     ]
    }
   ],
   "source": [
    "scraper.run(smol_files)"
   ]
  },
  {
   "cell_type": "markdown",
   "metadata": {},
   "source": [
    " "
   ]
  }
 ],
 "metadata": {
  "hide_input": false,
  "kernelspec": {
   "display_name": "Python 3",
   "language": "python",
   "name": "python3"
  },
  "language_info": {
   "codemirror_mode": {
    "name": "ipython",
    "version": 3
   },
   "file_extension": ".py",
   "mimetype": "text/x-python",
   "name": "python",
   "nbconvert_exporter": "python",
   "pygments_lexer": "ipython3",
   "version": "3.7.6"
  },
  "toc": {
   "base_numbering": 1,
   "nav_menu": {},
   "number_sections": true,
   "sideBar": true,
   "skip_h1_title": false,
   "title_cell": "Table of Contents",
   "title_sidebar": "Contents",
   "toc_cell": false,
   "toc_position": {},
   "toc_section_display": true,
   "toc_window_display": false
  }
 },
 "nbformat": 4,
 "nbformat_minor": 2
}
