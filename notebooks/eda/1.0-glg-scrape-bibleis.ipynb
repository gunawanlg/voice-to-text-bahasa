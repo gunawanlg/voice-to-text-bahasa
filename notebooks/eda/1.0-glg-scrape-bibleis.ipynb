{
 "cells": [
  {
   "cell_type": "markdown",
   "metadata": {},
   "source": [
    "<span style=\"font-size:36px\"><b>Scrape Bibleis</b></span>\n",
    "\n",
    "Copyright &copy; 2020 Gunawan Lumban Gaol\n",
    "\n",
    "Licensed under the Apache License, Version 2.0 (the \"License\"); you may not use this file except in compliance with the License. You may obtain a copy of the License at http://www.apache.org/licenses/LICENSE-2.0\n",
    "\n",
    "Unless required by applicable law or agreed to in writing, software distributed under the License is distributed on an \"AS IS\" BASIS, WITHOUT WARRANTIES OR CONDITIONS OF ANY KIND, either express or implied. See the License for the specific language overning permissions and limitations under the License."
   ]
  },
  {
   "cell_type": "code",
   "execution_count": 59,
   "metadata": {
    "ExecuteTime": {
     "end_time": "2020-02-03T03:06:05.956500Z",
     "start_time": "2020-02-03T03:06:05.665500Z"
    }
   },
   "outputs": [
    {
     "name": "stdout",
     "output_type": "stream",
     "text": [
      "The autoreload extension is already loaded. To reload it, use:\n",
      "  %reload_ext autoreload\n"
     ]
    }
   ],
   "source": [
    "from gurih.data.scraper import BibleIsScraper\n",
    "\n",
    "%load_ext autoreload\n",
    "%autoreload 2"
   ]
  },
  {
   "cell_type": "code",
   "execution_count": 60,
   "metadata": {
    "ExecuteTime": {
     "end_time": "2020-02-03T03:06:06.173500Z",
     "start_time": "2020-02-03T03:06:05.960500Z"
    }
   },
   "outputs": [
    {
     "name": "stdout",
     "output_type": "stream",
     "text": [
      "Output directory is already created at ../../dataset/raw/bibleis/\n",
      "Scrape text: True\n",
      "Scrape audio: True\n",
      "Edit the configuration by setting corresponding attributes.\n"
     ]
    }
   ],
   "source": [
    "base_url = \"https://live.bible.is/bible/INDASV/MRK/1?audio_type=audio\"\n",
    "scraper = BibleIsScraper(base_url, './chromedriver.exe')"
   ]
  },
  {
   "cell_type": "markdown",
   "metadata": {},
   "source": [
    "You can edit either scrape only the text or audio or both."
   ]
  },
  {
   "cell_type": "code",
   "execution_count": 61,
   "metadata": {
    "ExecuteTime": {
     "end_time": "2020-02-03T03:06:07.138500Z",
     "start_time": "2020-02-03T03:06:06.939500Z"
    }
   },
   "outputs": [],
   "source": [
    "scraper.scrape_audio = False\n",
    "# scarper.scrape_text = False"
   ]
  },
  {
   "cell_type": "markdown",
   "metadata": {},
   "source": [
    "Test `scrape_page` method, ensures expected return value."
   ]
  },
  {
   "cell_type": "code",
   "execution_count": 62,
   "metadata": {
    "ExecuteTime": {
     "end_time": "2020-02-03T03:07:02.281500Z",
     "start_time": "2020-02-03T03:06:07.839500Z"
    }
   },
   "outputs": [
    {
     "data": {
      "text/plain": [
       "['https://live.bible.is/bible/INDASV/JOB/4?audio_type=audio',\n",
       " 'Maka berbicaralah Elifas, orang T\\'eman:\\n\\n\"Kesalkah engkau, bila orang mencoba berbicara kepadamu? Tetapi siapakah dapat tetap menutup mulutnya?\\n\\nSesungguhnya, engkau telah mengajar banyak orang, dan tangan yang lemah telah engkau kuatkan;\\n\\norang yang jatuh telah dibangunkan oleh kata-katamu, dan lutut yang lemas telah kaukokohkan;\\n\\ntetapi sekarang, dirimu yang tertimpa, dan engkau kesal, dirimu terkena, dan engkau terkejut.\\n\\nBukankah takutmu akan Allah yang menjadi sandaranmu, dan kesalehan hidupmu menjadi pengharapanmu?\\n\\nCamkanlah ini: siapa binasa dengan tidak bersalah dan di manakah orang yang jujur dipunahkan?\\n\\nYang telah kulihat ialah bahwa orang yang membajak kejahatan dan menabur kesusahan, ia menuainya juga.\\n\\nMereka binasa oleh nafas Allah, dan lenyap oleh hembusan hidung-Nya.\\n\\nSinga mengaum, singa meraung — patahlah gigi singa-singa muda.\\n\\nSinga binasa karena kekurangan mangsa, dan anak-anak singa betina bercerai-berai.\\n\\nSuatu perkataan telah disampaikan kepadaku dengan diam-diam dan telingaku menangkap bisikannya,\\n\\nwaktu bermenung oleh sebab khayal malam, ketika tidur nyenyak menghinggapi orang.\\n\\nAku terkejut dan gentar, sehingga tulang-tulangku gemetar.\\n\\nSuatu roh melewati aku, tegaklah bulu romaku.\\n\\nIa berhenti, tetapi rupanya tidak dapat kukenal. Suatu sosok ada di depan mataku, suara berbisik-bisik kudengar:\\n\\nMungkinkah seorang manusia benar di hadapan Allah, mungkinkah seseorang tahir di hadapan Penciptanya?\\n\\nSesungguhnya, hamba-hamba-Nya tidak dipercayai-Nya, malaikat-malaikat-Nya pun didapati-Nya tersesat,\\n\\nlebih-lebih lagi mereka yang diam dalam pondok tanah liat, yang dasarnya dalam debu, yang mati terpijat seperti gegat.\\n\\nDi antara pagi dan petang mereka dihancurkan, dan tanpa dihiraukan mereka binasa untuk selama-lamanya.\\n\\nBukankah kemah mereka dicabut? Mereka mati, tetapi tanpa hikmat.',\n",
       " '']"
      ]
     },
     "execution_count": 62,
     "metadata": {},
     "output_type": "execute_result"
    }
   ],
   "source": [
    "# url with hanging verses\n",
    "# test_url = \"https://live.bible.is/bible/INDASV/EZR/2?audio_type=audio\"\n",
    "# test_url = \"https://live.bible.is/bible/INDASV/1CH/6?audio_type=audio\"\n",
    "\n",
    "# url with no p element\n",
    "test_url = 'https://live.bible.is/bible/INDASV/JOB/4?audio_type=audio'\n",
    "scraper.scrape_page(test_url)"
   ]
  },
  {
   "cell_type": "markdown",
   "metadata": {},
   "source": [
    "Get all urls from base urls."
   ]
  },
  {
   "cell_type": "code",
   "execution_count": 13,
   "metadata": {
    "ExecuteTime": {
     "end_time": "2020-01-30T08:21:00.667000Z",
     "start_time": "2020-01-30T08:20:29.061000Z"
    }
   },
   "outputs": [],
   "source": [
    "scraper.get_urls()"
   ]
  },
  {
   "cell_type": "code",
   "execution_count": 14,
   "metadata": {
    "ExecuteTime": {
     "end_time": "2020-01-30T08:21:00.887000Z",
     "start_time": "2020-01-30T08:21:00.671000Z"
    }
   },
   "outputs": [
    {
     "data": {
      "text/plain": [
       "1189"
      ]
     },
     "execution_count": 14,
     "metadata": {},
     "output_type": "execute_result"
    }
   ],
   "source": [
    "len(scraper.urls)"
   ]
  },
  {
   "cell_type": "markdown",
   "metadata": {},
   "source": [
    "For every page, get verses and mp3s."
   ]
  },
  {
   "cell_type": "code",
   "execution_count": 66,
   "metadata": {
    "ExecuteTime": {
     "end_time": "2020-02-03T03:08:04.210500Z",
     "start_time": "2020-02-03T03:08:03.903500Z"
    }
   },
   "outputs": [
    {
     "data": {
      "text/plain": [
       "(1189, 3)"
      ]
     },
     "execution_count": 66,
     "metadata": {},
     "output_type": "execute_result"
    }
   ],
   "source": [
    "df_res_continue = pd.read_csv(\"../../dataset/raw/bibleis/bibleis_transcription_v2.csv\")\n",
    "df_res_continue.shape"
   ]
  },
  {
   "cell_type": "code",
   "execution_count": 68,
   "metadata": {
    "ExecuteTime": {
     "end_time": "2020-02-03T03:13:16.671000Z",
     "start_time": "2020-02-03T03:13:16.513500Z"
    }
   },
   "outputs": [
    {
     "data": {
      "text/plain": [
       "149"
      ]
     },
     "execution_count": 68,
     "metadata": {},
     "output_type": "execute_result"
    }
   ],
   "source": [
    "l_cont = df_res_continue[df_res_continue['chapter_string'].isnull()]['url']\n",
    "len(l_cont)"
   ]
  },
  {
   "cell_type": "code",
   "execution_count": 69,
   "metadata": {
    "ExecuteTime": {
     "end_time": "2020-02-03T03:46:11.631000Z",
     "start_time": "2020-02-03T03:13:23.761000Z"
    },
    "scrolled": false
   },
   "outputs": [
    {
     "name": "stdout",
     "output_type": "stream",
     "text": [
      "Running scraper:\n",
      "Scrape text: True\n",
      "Scrape audio: False\n"
     ]
    },
    {
     "data": {
      "application/vnd.jupyter.widget-view+json": {
       "model_id": "301cea15c21a471bb76a4e6be134a4a5",
       "version_major": 2,
       "version_minor": 0
      },
      "text/plain": [
       "HBox(children=(FloatProgress(value=0.0, max=149.0), HTML(value='')))"
      ]
     },
     "metadata": {},
     "output_type": "display_data"
    },
    {
     "name": "stdout",
     "output_type": "stream",
     "text": [
      "\n"
     ]
    }
   ],
   "source": [
    "scraper.run(list(l_cont.values))"
   ]
  },
  {
   "cell_type": "markdown",
   "metadata": {},
   "source": [
    "Save scraped data to csv."
   ]
  },
  {
   "cell_type": "code",
   "execution_count": 71,
   "metadata": {
    "ExecuteTime": {
     "end_time": "2020-02-03T03:47:05.598500Z",
     "start_time": "2020-02-03T03:47:05.361000Z"
    }
   },
   "outputs": [
    {
     "name": "stdout",
     "output_type": "stream",
     "text": [
      "Data written in ../../dataset/raw/bibleis/bibleis_transcription_v2_add.csv\n"
     ]
    }
   ],
   "source": [
    "scraper.write_csv('../../dataset/raw/bibleis/bibleis_transcription_v2_add.csv')"
   ]
  },
  {
   "cell_type": "markdown",
   "metadata": {},
   "source": [
    "If needed, rescrape broken audio files."
   ]
  },
  {
   "cell_type": "code",
   "execution_count": null,
   "metadata": {},
   "outputs": [],
   "source": [
    "import glob\n",
    "mp3s = glob.glob(\"../../dataset/raw/*.mp3\")\n",
    "\n",
    "l = [x for x in mp3s if (os.stat(x).st_size < 3e5)]\n",
    "smol_files = [\"https://live.bible.is/bible/\" + x[:-4].replace(\"_\", \"/\") + \"?audio_type=audio\" for x in l]\n",
    "\n",
    "print(len(smol_files))\n",
    "print(smol_files[0])\n",
    "\n",
    "scraper.run(smol_files)"
   ]
  }
 ],
 "metadata": {
  "hide_input": false,
  "kernelspec": {
   "display_name": "Python 3",
   "language": "python",
   "name": "python3"
  },
  "language_info": {
   "codemirror_mode": {
    "name": "ipython",
    "version": 3
   },
   "file_extension": ".py",
   "mimetype": "text/x-python",
   "name": "python",
   "nbconvert_exporter": "python",
   "pygments_lexer": "ipython3",
   "version": "3.7.6"
  },
  "toc": {
   "base_numbering": 1,
   "nav_menu": {},
   "number_sections": true,
   "sideBar": true,
   "skip_h1_title": false,
   "title_cell": "Table of Contents",
   "title_sidebar": "Contents",
   "toc_cell": false,
   "toc_position": {},
   "toc_section_display": true,
   "toc_window_display": false
  }
 },
 "nbformat": 4,
 "nbformat_minor": 2
}
