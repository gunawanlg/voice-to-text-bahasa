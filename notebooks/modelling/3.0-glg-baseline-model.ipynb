{
 "cells": [
  {
   "cell_type": "markdown",
   "metadata": {},
   "source": [
    "<span style=\"font-size:36px\"><b>Baseline Model Tutorial</b></span>\n",
    "\n",
    "Copyright &copy; 2020 Gunawan Lumban Gaol\n",
    "\n",
    "Licensed under the Apache License, Version 2.0 (the \"License\"); you may not use this file except in compliance with the License. You may obtain a copy of the License at http://www.apache.org/licenses/LICENSE-2.0\n",
    "\n",
    "Unless required by applicable law or agreed to in writing, software distributed under the License is distributed on an \"AS IS\" BASIS, WITHOUT WARRANTIES OR CONDITIONS OF ANY KIND, either express or implied. See the License for the specific language overning permissions and limitations under the License."
   ]
  },
  {
   "cell_type": "markdown",
   "metadata": {},
   "source": [
    "# Import Packages"
   ]
  },
  {
   "cell_type": "code",
   "execution_count": 1,
   "metadata": {
    "ExecuteTime": {
     "end_time": "2020-02-12T05:17:22.059901Z",
     "start_time": "2020-02-12T05:17:16.003905Z"
    }
   },
   "outputs": [
    {
     "name": "stdout",
     "output_type": "stream",
     "text": [
      "tf.__version__ = 2.1.0\n"
     ]
    }
   ],
   "source": [
    "import os\n",
    "import sys\n",
    "import glob\n",
    "\n",
    "import numpy as np\n",
    "import pandas as pd\n",
    "from IPython.core.display import display, HTML\n",
    "import tensorflow as tf\n",
    "import tensorflow.keras.backend as K\n",
    "print(\"tf.__version__ = \"+tf.__version__)\n",
    "\n",
    "from gurih.data.data_generator import DataGenerator\n",
    "from gurih.models.model import BaselineASRModel\n",
    "from gurih.models.model_utils import CharMap, ctc_decode, wer\n",
    "\n",
    "%load_ext autoreload\n",
    "%autoreload 2"
   ]
  },
  {
   "cell_type": "markdown",
   "metadata": {},
   "source": [
    "# Train Model"
   ]
  },
  {
   "cell_type": "markdown",
   "metadata": {},
   "source": [
    "Define constant for ASR Model."
   ]
  },
  {
   "cell_type": "code",
   "execution_count": 2,
   "metadata": {
    "ExecuteTime": {
     "end_time": "2020-02-12T05:17:23.188900Z",
     "start_time": "2020-02-12T05:17:22.569901Z"
    }
   },
   "outputs": [],
   "source": [
    "CHAR_TO_IDX_MAP = CharMap.CHAR_TO_IDX_MAP\n",
    "IDX_TO_CHAR_MAP = CharMap.IDX_TO_CHAR_MAP\n",
    "\n",
    "MAX_SEQ_LENGTH = 3000\n",
    "MAX_LABEL_LENGTH = 300\n",
    "BATCH_SIZE = 16\n",
    "MAX_EPOCHS = 5000"
   ]
  },
  {
   "cell_type": "markdown",
   "metadata": {},
   "source": [
    "Create and compile keras model."
   ]
  },
  {
   "cell_type": "code",
   "execution_count": 3,
   "metadata": {
    "ExecuteTime": {
     "end_time": "2020-02-12T05:17:25.469897Z",
     "start_time": "2020-02-12T05:17:23.746900Z"
    },
    "scrolled": false
   },
   "outputs": [
    {
     "name": "stdout",
     "output_type": "stream",
     "text": [
      "Model directory is set to ../../models/\n",
      "Documentation directory is set to ../../docs/\n",
      "\n",
      "Model: \"BaselineASR_f200_k11_s2_pvalid_nlstm200_ndense29\"\n",
      "_________________________________________________________________\n",
      "Layer (type)                 Output Shape              Param #   \n",
      "=================================================================\n",
      "the_input (InputLayer)       [(None, 3000, 39)]        0         \n",
      "_________________________________________________________________\n",
      "masking (Masking)            (None, 3000, 39)          0         \n",
      "_________________________________________________________________\n",
      "conv1 (Conv1D)               (None, 1495, 200)         86000     \n",
      "_________________________________________________________________\n",
      "bidirectional (Bidirectional (None, 1495, 400)         641600    \n",
      "_________________________________________________________________\n",
      "the_output (TimeDistributed) (None, 1495, 30)          12030     \n",
      "=================================================================\n",
      "Total params: 739,630\n",
      "Trainable params: 739,630\n",
      "Non-trainable params: 0\n",
      "_________________________________________________________________\n"
     ]
    }
   ],
   "source": [
    "BaselineASR = BaselineASRModel(input_shape=(MAX_SEQ_LENGTH, 39), vocab_len=len(CharMap()))\n",
    "BaselineASR.compile()"
   ]
  },
  {
   "cell_type": "markdown",
   "metadata": {},
   "source": [
    "Get model output sequence length for ctc input. This is required as we are using custom `Lambda` layer inside model."
   ]
  },
  {
   "cell_type": "code",
   "execution_count": 4,
   "metadata": {
    "ExecuteTime": {
     "end_time": "2020-02-12T05:17:27.339896Z",
     "start_time": "2020-02-12T05:17:26.705896Z"
    }
   },
   "outputs": [
    {
     "data": {
      "text/plain": [
       "1495"
      ]
     },
     "execution_count": 4,
     "metadata": {},
     "output_type": "execute_result"
    }
   ],
   "source": [
    "CTC_INPUT_LENGTH = BaselineASR.model.get_layer('the_output').output.shape[1]\n",
    "CTC_INPUT_LENGTH"
   ]
  },
  {
   "cell_type": "markdown",
   "metadata": {},
   "source": [
    "## Train using `fit_generator()`"
   ]
  },
  {
   "cell_type": "markdown",
   "metadata": {},
   "source": [
    "Prepare data using `DataGenerator`."
   ]
  },
  {
   "cell_type": "code",
   "execution_count": 5,
   "metadata": {
    "ExecuteTime": {
     "end_time": "2020-02-12T05:17:28.501895Z",
     "start_time": "2020-02-12T05:17:27.906896Z"
    }
   },
   "outputs": [],
   "source": [
    "train_dir = \"../../dataset/interim/Model-010a/train/\"\n",
    "valid_dir = \"../../dataset/interim/Model-010a/valid/\"\n",
    "test_dir = \"../../dataset/interim/Model-010a/test/\""
   ]
  },
  {
   "cell_type": "markdown",
   "metadata": {},
   "source": [
    "Directories must contain all `.npz` and `.txt` files required for `DataGenerator`."
   ]
  },
  {
   "cell_type": "code",
   "execution_count": 6,
   "metadata": {
    "ExecuteTime": {
     "end_time": "2020-02-12T05:17:29.189894Z",
     "start_time": "2020-02-12T05:17:28.505895Z"
    }
   },
   "outputs": [],
   "source": [
    "train_generator = DataGenerator(input_dir=train_dir,\n",
    "                                max_seq_length=MAX_SEQ_LENGTH,\n",
    "                                max_label_length=MAX_LABEL_LENGTH,\n",
    "                                ctc_input_length=CTC_INPUT_LENGTH,\n",
    "                                char_to_idx_map=CHAR_TO_IDX_MAP,\n",
    "                                batch_size=BATCH_SIZE)\n",
    "\n",
    "validation_generator = DataGenerator(input_dir=valid_dir,\n",
    "                                     max_seq_length=MAX_SEQ_LENGTH,\n",
    "                                     max_label_length=MAX_LABEL_LENGTH,\n",
    "                                     ctc_input_length=CTC_INPUT_LENGTH,\n",
    "                                     char_to_idx_map=CHAR_TO_IDX_MAP,\n",
    "                                     batch_size=BATCH_SIZE)"
   ]
  },
  {
   "cell_type": "markdown",
   "metadata": {},
   "source": [
    "Fit model. Pass validation generator if using `EarlyStopping` and `ModelCheckpoint` callbacks."
   ]
  },
  {
   "cell_type": "code",
   "execution_count": 7,
   "metadata": {
    "ExecuteTime": {
     "end_time": "2020-02-12T05:17:30.383892Z",
     "start_time": "2020-02-12T05:17:29.798894Z"
    }
   },
   "outputs": [],
   "source": [
    "BaselineASR._callbacks(min_delta=1e-4, patience=20, save_weights_only=True)"
   ]
  },
  {
   "cell_type": "markdown",
   "metadata": {},
   "source": [
    "Optionally, retrained pretrained model."
   ]
  },
  {
   "cell_type": "code",
   "execution_count": 8,
   "metadata": {
    "ExecuteTime": {
     "end_time": "2020-02-12T05:17:31.545892Z",
     "start_time": "2020-02-12T05:17:30.948892Z"
    }
   },
   "outputs": [],
   "source": [
    "# filename = os.path.abspath(\"../../models/BaselineASR_f200_k11_s2_pvalid_nlstm200_ndense29.h5\") # must provide abs path\n",
    "# BaselineASR.load(filename)"
   ]
  },
  {
   "cell_type": "code",
   "execution_count": 9,
   "metadata": {
    "ExecuteTime": {
     "end_time": "2020-02-12T09:50:21.381601Z",
     "start_time": "2020-02-12T05:17:31.548892Z"
    },
    "scrolled": true
   },
   "outputs": [
    {
     "name": "stdout",
     "output_type": "stream",
     "text": [
      "WARNING:tensorflow:From d:\\data science academy (2)\\voice-to-text-bahasa\\gurih\\models\\model.py:368: Model.fit_generator (from tensorflow.python.keras.engine.training) is deprecated and will be removed in a future version.\n",
      "Instructions for updating:\n",
      "Please use Model.fit, which supports generators.\n",
      "WARNING:tensorflow:sample_weight modes were coerced from\n",
      "  {'ctc': '...'}\n",
      "    to  \n",
      "  ['...']\n",
      "WARNING:tensorflow:sample_weight modes were coerced from\n",
      "  {'ctc': '...'}\n",
      "    to  \n",
      "  ['...']\n",
      "Train for 37 steps, validate for 25 steps\n",
      "Epoch 1/5000\n",
      "37/37 [==============================] - 399s 11s/step - loss: 1024.6350 - val_loss: 722.6433\n",
      "Epoch 2/5000\n",
      "37/37 [==============================] - 432s 12s/step - loss: 697.7732 - val_loss: 712.9141\n",
      "Epoch 3/5000\n",
      "37/37 [==============================] - 418s 11s/step - loss: 691.3023 - val_loss: 704.4966\n",
      "Epoch 4/5000\n",
      "37/37 [==============================] - 427s 12s/step - loss: 673.8215 - val_loss: 678.7964\n",
      "Epoch 5/5000\n",
      "37/37 [==============================] - 436s 12s/step - loss: 623.4852 - val_loss: 627.5742\n",
      "Epoch 6/5000\n",
      "37/37 [==============================] - 434s 12s/step - loss: 549.1934 - val_loss: 555.2151\n",
      "Epoch 7/5000\n",
      "37/37 [==============================] - 435s 12s/step - loss: 484.5785 - val_loss: 505.4704\n",
      "Epoch 8/5000\n",
      "37/37 [==============================] - 441s 12s/step - loss: 436.6553 - val_loss: 470.6914\n",
      "Epoch 9/5000\n",
      "37/37 [==============================] - 458s 12s/step - loss: 404.4510 - val_loss: 452.7115\n",
      "Epoch 10/5000\n",
      "37/37 [==============================] - 439s 12s/step - loss: 386.1979 - val_loss: 438.9269\n",
      "Epoch 11/5000\n",
      "37/37 [==============================] - 454s 12s/step - loss: 365.8085 - val_loss: 419.0644\n",
      "Epoch 12/5000\n",
      "37/37 [==============================] - 499s 13s/step - loss: 347.7485 - val_loss: 409.4406\n",
      "Epoch 13/5000\n",
      "37/37 [==============================] - 513s 14s/step - loss: 334.9593 - val_loss: 396.0042\n",
      "Epoch 14/5000\n",
      "37/37 [==============================] - 502s 14s/step - loss: 321.2828 - val_loss: 398.2634\n",
      "Epoch 15/5000\n",
      "37/37 [==============================] - 497s 13s/step - loss: 309.8995 - val_loss: 379.1194\n",
      "Epoch 16/5000\n",
      "37/37 [==============================] - 537s 15s/step - loss: 300.6257 - val_loss: 375.5928\n",
      "Epoch 17/5000\n",
      "37/37 [==============================] - 442s 12s/step - loss: 288.7190 - val_loss: 367.9051\n",
      "Epoch 18/5000\n",
      "37/37 [==============================] - 441s 12s/step - loss: 279.5463 - val_loss: 367.9632\n",
      "Epoch 19/5000\n",
      "37/37 [==============================] - 553s 15s/step - loss: 272.6534 - val_loss: 368.0290\n",
      "Epoch 20/5000\n",
      "37/37 [==============================] - 501s 14s/step - loss: 269.6523 - val_loss: 363.8266\n",
      "Epoch 21/5000\n",
      "37/37 [==============================] - 520s 14s/step - loss: 259.2543 - val_loss: 359.6058\n",
      "Epoch 22/5000\n",
      "37/37 [==============================] - 536s 14s/step - loss: 251.0548 - val_loss: 355.8487\n",
      "Epoch 23/5000\n",
      "37/37 [==============================] - 511s 14s/step - loss: 244.5695 - val_loss: 352.4406\n",
      "Epoch 24/5000\n",
      "37/37 [==============================] - 522s 14s/step - loss: 238.5830 - val_loss: 351.7070\n",
      "Epoch 25/5000\n",
      "37/37 [==============================] - 505s 14s/step - loss: 229.3515 - val_loss: 355.1011\n",
      "Epoch 26/5000\n",
      "37/37 [==============================] - 512s 14s/step - loss: 224.8259 - val_loss: 352.9554\n",
      "Epoch 27/5000\n",
      "37/37 [==============================] - 504s 14s/step - loss: 220.0787 - val_loss: 352.2570\n",
      "Epoch 28/5000\n",
      "37/37 [==============================] - 475s 13s/step - loss: 213.7526 - val_loss: 347.9357\n",
      "Epoch 29/5000\n",
      "37/37 [==============================] - 468s 13s/step - loss: 204.4992 - val_loss: 346.3877\n",
      "Epoch 30/5000\n",
      "37/37 [==============================] - 505s 14s/step - loss: 199.2448 - val_loss: 345.7554\n",
      "Epoch 31/5000\n",
      "37/37 [==============================] - 524s 14s/step - loss: 197.4497 - val_loss: 351.8131\n",
      "Epoch 32/5000\n",
      "37/37 [==============================] - 531s 14s/step - loss: 190.6107 - val_loss: 344.1428\n",
      "Epoch 33/5000\n",
      "37/37 [==============================] - 483s 13s/step - loss: 182.9215 - val_loss: 346.5188\n",
      "Epoch 34/5000\n",
      "37/37 [==============================] - 502s 14s/step - loss: 180.4329 - val_loss: 350.3628\n",
      "Epoch 35/5000\n",
      " 1/37 [..............................] - ETA: 7:06WARNING:tensorflow:Can save best model only with val_loss available, skipping.\n",
      "WARNING:tensorflow:Early stopping conditioned on metric `val_loss` which is not available. Available metrics are: \n"
     ]
    },
    {
     "ename": "KeyError",
     "evalue": "'loss'",
     "output_type": "error",
     "traceback": [
      "\u001b[1;31m---------------------------------------------------------------------------\u001b[0m",
      "\u001b[1;31mKeyboardInterrupt\u001b[0m                         Traceback (most recent call last)",
      "\u001b[1;32mD:\\Anaconda2019\\envs\\gurih\\lib\\site-packages\\tensorflow_core\\python\\keras\\engine\\training_v2.py\u001b[0m in \u001b[0;36mon_epoch\u001b[1;34m(self, epoch, mode)\u001b[0m\n\u001b[0;32m    766\u001b[0m     \u001b[1;32mtry\u001b[0m\u001b[1;33m:\u001b[0m\u001b[1;33m\u001b[0m\u001b[1;33m\u001b[0m\u001b[0m\n\u001b[1;32m--> 767\u001b[1;33m       \u001b[1;32myield\u001b[0m \u001b[0mepoch_logs\u001b[0m\u001b[1;33m\u001b[0m\u001b[1;33m\u001b[0m\u001b[0m\n\u001b[0m\u001b[0;32m    768\u001b[0m     \u001b[1;32mfinally\u001b[0m\u001b[1;33m:\u001b[0m\u001b[1;33m\u001b[0m\u001b[1;33m\u001b[0m\u001b[0m\n",
      "\u001b[1;32mD:\\Anaconda2019\\envs\\gurih\\lib\\site-packages\\tensorflow_core\\python\\keras\\engine\\training_v2.py\u001b[0m in \u001b[0;36mfit\u001b[1;34m(self, model, x, y, batch_size, epochs, verbose, callbacks, validation_split, validation_data, shuffle, class_weight, sample_weight, initial_epoch, steps_per_epoch, validation_steps, validation_freq, max_queue_size, workers, use_multiprocessing, **kwargs)\u001b[0m\n\u001b[0;32m    341\u001b[0m                 \u001b[0mtraining_context\u001b[0m\u001b[1;33m=\u001b[0m\u001b[0mtraining_context\u001b[0m\u001b[1;33m,\u001b[0m\u001b[1;33m\u001b[0m\u001b[1;33m\u001b[0m\u001b[0m\n\u001b[1;32m--> 342\u001b[1;33m                 total_epochs=epochs)\n\u001b[0m\u001b[0;32m    343\u001b[0m             \u001b[0mcbks\u001b[0m\u001b[1;33m.\u001b[0m\u001b[0mmake_logs\u001b[0m\u001b[1;33m(\u001b[0m\u001b[0mmodel\u001b[0m\u001b[1;33m,\u001b[0m \u001b[0mepoch_logs\u001b[0m\u001b[1;33m,\u001b[0m \u001b[0mtraining_result\u001b[0m\u001b[1;33m,\u001b[0m \u001b[0mModeKeys\u001b[0m\u001b[1;33m.\u001b[0m\u001b[0mTRAIN\u001b[0m\u001b[1;33m)\u001b[0m\u001b[1;33m\u001b[0m\u001b[1;33m\u001b[0m\u001b[0m\n",
      "\u001b[1;32mD:\\Anaconda2019\\envs\\gurih\\lib\\site-packages\\tensorflow_core\\python\\keras\\engine\\training_v2.py\u001b[0m in \u001b[0;36mrun_one_epoch\u001b[1;34m(model, iterator, execution_function, dataset_size, batch_size, strategy, steps_per_epoch, num_samples, mode, training_context, total_epochs)\u001b[0m\n\u001b[0;32m    127\u001b[0m       \u001b[1;32mtry\u001b[0m\u001b[1;33m:\u001b[0m\u001b[1;33m\u001b[0m\u001b[1;33m\u001b[0m\u001b[0m\n\u001b[1;32m--> 128\u001b[1;33m         \u001b[0mbatch_outs\u001b[0m \u001b[1;33m=\u001b[0m \u001b[0mexecution_function\u001b[0m\u001b[1;33m(\u001b[0m\u001b[0miterator\u001b[0m\u001b[1;33m)\u001b[0m\u001b[1;33m\u001b[0m\u001b[1;33m\u001b[0m\u001b[0m\n\u001b[0m\u001b[0;32m    129\u001b[0m       \u001b[1;32mexcept\u001b[0m \u001b[1;33m(\u001b[0m\u001b[0mStopIteration\u001b[0m\u001b[1;33m,\u001b[0m \u001b[0merrors\u001b[0m\u001b[1;33m.\u001b[0m\u001b[0mOutOfRangeError\u001b[0m\u001b[1;33m)\u001b[0m\u001b[1;33m:\u001b[0m\u001b[1;33m\u001b[0m\u001b[1;33m\u001b[0m\u001b[0m\n",
      "\u001b[1;32mD:\\Anaconda2019\\envs\\gurih\\lib\\site-packages\\tensorflow_core\\python\\keras\\engine\\training_v2_utils.py\u001b[0m in \u001b[0;36mexecution_function\u001b[1;34m(input_fn)\u001b[0m\n\u001b[0;32m     97\u001b[0m     return nest.map_structure(_non_none_constant_value,\n\u001b[1;32m---> 98\u001b[1;33m                               distributed_function(input_fn))\n\u001b[0m\u001b[0;32m     99\u001b[0m \u001b[1;33m\u001b[0m\u001b[0m\n",
      "\u001b[1;32mD:\\Anaconda2019\\envs\\gurih\\lib\\site-packages\\tensorflow_core\\python\\eager\\def_function.py\u001b[0m in \u001b[0;36m__call__\u001b[1;34m(self, *args, **kwds)\u001b[0m\n\u001b[0;32m    567\u001b[0m     \u001b[1;32melse\u001b[0m\u001b[1;33m:\u001b[0m\u001b[1;33m\u001b[0m\u001b[1;33m\u001b[0m\u001b[0m\n\u001b[1;32m--> 568\u001b[1;33m       \u001b[0mresult\u001b[0m \u001b[1;33m=\u001b[0m \u001b[0mself\u001b[0m\u001b[1;33m.\u001b[0m\u001b[0m_call\u001b[0m\u001b[1;33m(\u001b[0m\u001b[1;33m*\u001b[0m\u001b[0margs\u001b[0m\u001b[1;33m,\u001b[0m \u001b[1;33m**\u001b[0m\u001b[0mkwds\u001b[0m\u001b[1;33m)\u001b[0m\u001b[1;33m\u001b[0m\u001b[1;33m\u001b[0m\u001b[0m\n\u001b[0m\u001b[0;32m    569\u001b[0m \u001b[1;33m\u001b[0m\u001b[0m\n",
      "\u001b[1;32mD:\\Anaconda2019\\envs\\gurih\\lib\\site-packages\\tensorflow_core\\python\\eager\\def_function.py\u001b[0m in \u001b[0;36m_call\u001b[1;34m(self, *args, **kwds)\u001b[0m\n\u001b[0;32m    598\u001b[0m       \u001b[1;31m# defunned version which is guaranteed to never create variables.\u001b[0m\u001b[1;33m\u001b[0m\u001b[1;33m\u001b[0m\u001b[1;33m\u001b[0m\u001b[0m\n\u001b[1;32m--> 599\u001b[1;33m       \u001b[1;32mreturn\u001b[0m \u001b[0mself\u001b[0m\u001b[1;33m.\u001b[0m\u001b[0m_stateless_fn\u001b[0m\u001b[1;33m(\u001b[0m\u001b[1;33m*\u001b[0m\u001b[0margs\u001b[0m\u001b[1;33m,\u001b[0m \u001b[1;33m**\u001b[0m\u001b[0mkwds\u001b[0m\u001b[1;33m)\u001b[0m  \u001b[1;31m# pylint: disable=not-callable\u001b[0m\u001b[1;33m\u001b[0m\u001b[1;33m\u001b[0m\u001b[0m\n\u001b[0m\u001b[0;32m    600\u001b[0m     \u001b[1;32melif\u001b[0m \u001b[0mself\u001b[0m\u001b[1;33m.\u001b[0m\u001b[0m_stateful_fn\u001b[0m \u001b[1;32mis\u001b[0m \u001b[1;32mnot\u001b[0m \u001b[1;32mNone\u001b[0m\u001b[1;33m:\u001b[0m\u001b[1;33m\u001b[0m\u001b[1;33m\u001b[0m\u001b[0m\n",
      "\u001b[1;32mD:\\Anaconda2019\\envs\\gurih\\lib\\site-packages\\tensorflow_core\\python\\eager\\function.py\u001b[0m in \u001b[0;36m__call__\u001b[1;34m(self, *args, **kwargs)\u001b[0m\n\u001b[0;32m   2362\u001b[0m       \u001b[0mgraph_function\u001b[0m\u001b[1;33m,\u001b[0m \u001b[0margs\u001b[0m\u001b[1;33m,\u001b[0m \u001b[0mkwargs\u001b[0m \u001b[1;33m=\u001b[0m \u001b[0mself\u001b[0m\u001b[1;33m.\u001b[0m\u001b[0m_maybe_define_function\u001b[0m\u001b[1;33m(\u001b[0m\u001b[0margs\u001b[0m\u001b[1;33m,\u001b[0m \u001b[0mkwargs\u001b[0m\u001b[1;33m)\u001b[0m\u001b[1;33m\u001b[0m\u001b[1;33m\u001b[0m\u001b[0m\n\u001b[1;32m-> 2363\u001b[1;33m     \u001b[1;32mreturn\u001b[0m \u001b[0mgraph_function\u001b[0m\u001b[1;33m.\u001b[0m\u001b[0m_filtered_call\u001b[0m\u001b[1;33m(\u001b[0m\u001b[0margs\u001b[0m\u001b[1;33m,\u001b[0m \u001b[0mkwargs\u001b[0m\u001b[1;33m)\u001b[0m  \u001b[1;31m# pylint: disable=protected-access\u001b[0m\u001b[1;33m\u001b[0m\u001b[1;33m\u001b[0m\u001b[0m\n\u001b[0m\u001b[0;32m   2364\u001b[0m \u001b[1;33m\u001b[0m\u001b[0m\n",
      "\u001b[1;32mD:\\Anaconda2019\\envs\\gurih\\lib\\site-packages\\tensorflow_core\\python\\eager\\function.py\u001b[0m in \u001b[0;36m_filtered_call\u001b[1;34m(self, args, kwargs)\u001b[0m\n\u001b[0;32m   1610\u001b[0m                            resource_variable_ops.BaseResourceVariable))),\n\u001b[1;32m-> 1611\u001b[1;33m         self.captured_inputs)\n\u001b[0m\u001b[0;32m   1612\u001b[0m \u001b[1;33m\u001b[0m\u001b[0m\n",
      "\u001b[1;32mD:\\Anaconda2019\\envs\\gurih\\lib\\site-packages\\tensorflow_core\\python\\eager\\function.py\u001b[0m in \u001b[0;36m_call_flat\u001b[1;34m(self, args, captured_inputs, cancellation_manager)\u001b[0m\n\u001b[0;32m   1691\u001b[0m       return self._build_call_outputs(self._inference_function.call(\n\u001b[1;32m-> 1692\u001b[1;33m           ctx, args, cancellation_manager=cancellation_manager))\n\u001b[0m\u001b[0;32m   1693\u001b[0m     forward_backward = self._select_forward_and_backward_functions(\n",
      "\u001b[1;32mD:\\Anaconda2019\\envs\\gurih\\lib\\site-packages\\tensorflow_core\\python\\eager\\function.py\u001b[0m in \u001b[0;36mcall\u001b[1;34m(self, ctx, args, cancellation_manager)\u001b[0m\n\u001b[0;32m    544\u001b[0m               \u001b[0mattrs\u001b[0m\u001b[1;33m=\u001b[0m\u001b[1;33m(\u001b[0m\u001b[1;34m\"executor_type\"\u001b[0m\u001b[1;33m,\u001b[0m \u001b[0mexecutor_type\u001b[0m\u001b[1;33m,\u001b[0m \u001b[1;34m\"config_proto\"\u001b[0m\u001b[1;33m,\u001b[0m \u001b[0mconfig\u001b[0m\u001b[1;33m)\u001b[0m\u001b[1;33m,\u001b[0m\u001b[1;33m\u001b[0m\u001b[1;33m\u001b[0m\u001b[0m\n\u001b[1;32m--> 545\u001b[1;33m               ctx=ctx)\n\u001b[0m\u001b[0;32m    546\u001b[0m         \u001b[1;32melse\u001b[0m\u001b[1;33m:\u001b[0m\u001b[1;33m\u001b[0m\u001b[1;33m\u001b[0m\u001b[0m\n",
      "\u001b[1;32mD:\\Anaconda2019\\envs\\gurih\\lib\\site-packages\\tensorflow_core\\python\\eager\\execute.py\u001b[0m in \u001b[0;36mquick_execute\u001b[1;34m(op_name, num_outputs, inputs, attrs, ctx, name)\u001b[0m\n\u001b[0;32m     60\u001b[0m                                                \u001b[0mop_name\u001b[0m\u001b[1;33m,\u001b[0m \u001b[0minputs\u001b[0m\u001b[1;33m,\u001b[0m \u001b[0mattrs\u001b[0m\u001b[1;33m,\u001b[0m\u001b[1;33m\u001b[0m\u001b[1;33m\u001b[0m\u001b[0m\n\u001b[1;32m---> 61\u001b[1;33m                                                num_outputs)\n\u001b[0m\u001b[0;32m     62\u001b[0m   \u001b[1;32mexcept\u001b[0m \u001b[0mcore\u001b[0m\u001b[1;33m.\u001b[0m\u001b[0m_NotOkStatusException\u001b[0m \u001b[1;32mas\u001b[0m \u001b[0me\u001b[0m\u001b[1;33m:\u001b[0m\u001b[1;33m\u001b[0m\u001b[1;33m\u001b[0m\u001b[0m\n",
      "\u001b[1;31mKeyboardInterrupt\u001b[0m: ",
      "\nDuring handling of the above exception, another exception occurred:\n",
      "\u001b[1;31mKeyError\u001b[0m                                  Traceback (most recent call last)",
      "\u001b[1;32m<ipython-input-9-a03b04ee2b37>\u001b[0m in \u001b[0;36m<module>\u001b[1;34m\u001b[0m\n\u001b[0;32m      1\u001b[0m BaselineASR.fit_generator(train_generator=train_generator,\n\u001b[0;32m      2\u001b[0m                           \u001b[0mvalidation_generator\u001b[0m\u001b[1;33m=\u001b[0m\u001b[0mvalidation_generator\u001b[0m\u001b[1;33m,\u001b[0m\u001b[1;33m\u001b[0m\u001b[1;33m\u001b[0m\u001b[0m\n\u001b[1;32m----> 3\u001b[1;33m                           \u001b[0mepochs\u001b[0m\u001b[1;33m=\u001b[0m\u001b[0mMAX_EPOCHS\u001b[0m\u001b[1;33m,\u001b[0m\u001b[1;33m\u001b[0m\u001b[1;33m\u001b[0m\u001b[0m\n\u001b[0m\u001b[0;32m      4\u001b[0m \u001b[1;31m#                           use_multiprocessing=False,\u001b[0m\u001b[1;33m\u001b[0m\u001b[1;33m\u001b[0m\u001b[1;33m\u001b[0m\u001b[0m\n\u001b[0;32m      5\u001b[0m \u001b[1;31m#                           worker=4,\u001b[0m\u001b[1;33m\u001b[0m\u001b[1;33m\u001b[0m\u001b[1;33m\u001b[0m\u001b[0m\n",
      "\u001b[1;32md:\\data science academy (2)\\voice-to-text-bahasa\\gurih\\models\\model.py\u001b[0m in \u001b[0;36mfit_generator\u001b[1;34m(self, train_generator, validation_generator, epochs, **kwargs)\u001b[0m\n\u001b[0;32m    366\u001b[0m                                  \u001b[0mepochs\u001b[0m\u001b[1;33m=\u001b[0m\u001b[0mepochs\u001b[0m\u001b[1;33m,\u001b[0m\u001b[1;33m\u001b[0m\u001b[1;33m\u001b[0m\u001b[0m\n\u001b[0;32m    367\u001b[0m                                  \u001b[0mcallbacks\u001b[0m\u001b[1;33m=\u001b[0m\u001b[0mself\u001b[0m\u001b[1;33m.\u001b[0m\u001b[0mcallbacks\u001b[0m\u001b[1;33m,\u001b[0m\u001b[1;33m\u001b[0m\u001b[1;33m\u001b[0m\u001b[0m\n\u001b[1;32m--> 368\u001b[1;33m                                  **kwargs)\n\u001b[0m\u001b[0;32m    369\u001b[0m         \u001b[0mself\u001b[0m\u001b[1;33m.\u001b[0m\u001b[0m_save_history_figure\u001b[0m\u001b[1;33m(\u001b[0m\u001b[1;33m)\u001b[0m\u001b[1;33m\u001b[0m\u001b[1;33m\u001b[0m\u001b[0m\n\u001b[0;32m    370\u001b[0m \u001b[1;33m\u001b[0m\u001b[0m\n",
      "\u001b[1;32mD:\\Anaconda2019\\envs\\gurih\\lib\\site-packages\\tensorflow_core\\python\\util\\deprecation.py\u001b[0m in \u001b[0;36mnew_func\u001b[1;34m(*args, **kwargs)\u001b[0m\n\u001b[0;32m    322\u001b[0m               \u001b[1;34m'in a future version'\u001b[0m \u001b[1;32mif\u001b[0m \u001b[0mdate\u001b[0m \u001b[1;32mis\u001b[0m \u001b[1;32mNone\u001b[0m \u001b[1;32melse\u001b[0m \u001b[1;33m(\u001b[0m\u001b[1;34m'after %s'\u001b[0m \u001b[1;33m%\u001b[0m \u001b[0mdate\u001b[0m\u001b[1;33m)\u001b[0m\u001b[1;33m,\u001b[0m\u001b[1;33m\u001b[0m\u001b[1;33m\u001b[0m\u001b[0m\n\u001b[0;32m    323\u001b[0m               instructions)\n\u001b[1;32m--> 324\u001b[1;33m       \u001b[1;32mreturn\u001b[0m \u001b[0mfunc\u001b[0m\u001b[1;33m(\u001b[0m\u001b[1;33m*\u001b[0m\u001b[0margs\u001b[0m\u001b[1;33m,\u001b[0m \u001b[1;33m**\u001b[0m\u001b[0mkwargs\u001b[0m\u001b[1;33m)\u001b[0m\u001b[1;33m\u001b[0m\u001b[1;33m\u001b[0m\u001b[0m\n\u001b[0m\u001b[0;32m    325\u001b[0m     return tf_decorator.make_decorator(\n\u001b[0;32m    326\u001b[0m         \u001b[0mfunc\u001b[0m\u001b[1;33m,\u001b[0m \u001b[0mnew_func\u001b[0m\u001b[1;33m,\u001b[0m \u001b[1;34m'deprecated'\u001b[0m\u001b[1;33m,\u001b[0m\u001b[1;33m\u001b[0m\u001b[1;33m\u001b[0m\u001b[0m\n",
      "\u001b[1;32mD:\\Anaconda2019\\envs\\gurih\\lib\\site-packages\\tensorflow_core\\python\\keras\\engine\\training.py\u001b[0m in \u001b[0;36mfit_generator\u001b[1;34m(self, generator, steps_per_epoch, epochs, verbose, callbacks, validation_data, validation_steps, validation_freq, class_weight, max_queue_size, workers, use_multiprocessing, shuffle, initial_epoch)\u001b[0m\n\u001b[0;32m   1304\u001b[0m         \u001b[0muse_multiprocessing\u001b[0m\u001b[1;33m=\u001b[0m\u001b[0muse_multiprocessing\u001b[0m\u001b[1;33m,\u001b[0m\u001b[1;33m\u001b[0m\u001b[1;33m\u001b[0m\u001b[0m\n\u001b[0;32m   1305\u001b[0m         \u001b[0mshuffle\u001b[0m\u001b[1;33m=\u001b[0m\u001b[0mshuffle\u001b[0m\u001b[1;33m,\u001b[0m\u001b[1;33m\u001b[0m\u001b[1;33m\u001b[0m\u001b[0m\n\u001b[1;32m-> 1306\u001b[1;33m         initial_epoch=initial_epoch)\n\u001b[0m\u001b[0;32m   1307\u001b[0m \u001b[1;33m\u001b[0m\u001b[0m\n\u001b[0;32m   1308\u001b[0m   @deprecation.deprecated(\n",
      "\u001b[1;32mD:\\Anaconda2019\\envs\\gurih\\lib\\site-packages\\tensorflow_core\\python\\keras\\engine\\training.py\u001b[0m in \u001b[0;36mfit\u001b[1;34m(self, x, y, batch_size, epochs, verbose, callbacks, validation_split, validation_data, shuffle, class_weight, sample_weight, initial_epoch, steps_per_epoch, validation_steps, validation_freq, max_queue_size, workers, use_multiprocessing, **kwargs)\u001b[0m\n\u001b[0;32m    817\u001b[0m         \u001b[0mmax_queue_size\u001b[0m\u001b[1;33m=\u001b[0m\u001b[0mmax_queue_size\u001b[0m\u001b[1;33m,\u001b[0m\u001b[1;33m\u001b[0m\u001b[1;33m\u001b[0m\u001b[0m\n\u001b[0;32m    818\u001b[0m         \u001b[0mworkers\u001b[0m\u001b[1;33m=\u001b[0m\u001b[0mworkers\u001b[0m\u001b[1;33m,\u001b[0m\u001b[1;33m\u001b[0m\u001b[1;33m\u001b[0m\u001b[0m\n\u001b[1;32m--> 819\u001b[1;33m         use_multiprocessing=use_multiprocessing)\n\u001b[0m\u001b[0;32m    820\u001b[0m \u001b[1;33m\u001b[0m\u001b[0m\n\u001b[0;32m    821\u001b[0m   def evaluate(self,\n",
      "\u001b[1;32mD:\\Anaconda2019\\envs\\gurih\\lib\\site-packages\\tensorflow_core\\python\\keras\\engine\\training_v2.py\u001b[0m in \u001b[0;36mfit\u001b[1;34m(self, model, x, y, batch_size, epochs, verbose, callbacks, validation_split, validation_data, shuffle, class_weight, sample_weight, initial_epoch, steps_per_epoch, validation_steps, validation_freq, max_queue_size, workers, use_multiprocessing, **kwargs)\u001b[0m\n\u001b[0;32m    395\u001b[0m                       total_epochs=1)\n\u001b[0;32m    396\u001b[0m                   cbks.make_logs(model, epoch_logs, eval_result, ModeKeys.TEST,\n\u001b[1;32m--> 397\u001b[1;33m                                  prefix='val_')\n\u001b[0m\u001b[0;32m    398\u001b[0m \u001b[1;33m\u001b[0m\u001b[0m\n\u001b[0;32m    399\u001b[0m     \u001b[1;32mreturn\u001b[0m \u001b[0mmodel\u001b[0m\u001b[1;33m.\u001b[0m\u001b[0mhistory\u001b[0m\u001b[1;33m\u001b[0m\u001b[1;33m\u001b[0m\u001b[0m\n",
      "\u001b[1;32mD:\\Anaconda2019\\envs\\gurih\\lib\\contextlib.py\u001b[0m in \u001b[0;36m__exit__\u001b[1;34m(self, type, value, traceback)\u001b[0m\n\u001b[0;32m    128\u001b[0m                 \u001b[0mvalue\u001b[0m \u001b[1;33m=\u001b[0m \u001b[0mtype\u001b[0m\u001b[1;33m(\u001b[0m\u001b[1;33m)\u001b[0m\u001b[1;33m\u001b[0m\u001b[1;33m\u001b[0m\u001b[0m\n\u001b[0;32m    129\u001b[0m             \u001b[1;32mtry\u001b[0m\u001b[1;33m:\u001b[0m\u001b[1;33m\u001b[0m\u001b[1;33m\u001b[0m\u001b[0m\n\u001b[1;32m--> 130\u001b[1;33m                 \u001b[0mself\u001b[0m\u001b[1;33m.\u001b[0m\u001b[0mgen\u001b[0m\u001b[1;33m.\u001b[0m\u001b[0mthrow\u001b[0m\u001b[1;33m(\u001b[0m\u001b[0mtype\u001b[0m\u001b[1;33m,\u001b[0m \u001b[0mvalue\u001b[0m\u001b[1;33m,\u001b[0m \u001b[0mtraceback\u001b[0m\u001b[1;33m)\u001b[0m\u001b[1;33m\u001b[0m\u001b[1;33m\u001b[0m\u001b[0m\n\u001b[0m\u001b[0;32m    131\u001b[0m             \u001b[1;32mexcept\u001b[0m \u001b[0mStopIteration\u001b[0m \u001b[1;32mas\u001b[0m \u001b[0mexc\u001b[0m\u001b[1;33m:\u001b[0m\u001b[1;33m\u001b[0m\u001b[1;33m\u001b[0m\u001b[0m\n\u001b[0;32m    132\u001b[0m                 \u001b[1;31m# Suppress StopIteration *unless* it's the same exception that\u001b[0m\u001b[1;33m\u001b[0m\u001b[1;33m\u001b[0m\u001b[1;33m\u001b[0m\u001b[0m\n",
      "\u001b[1;32mD:\\Anaconda2019\\envs\\gurih\\lib\\site-packages\\tensorflow_core\\python\\keras\\engine\\training_v2.py\u001b[0m in \u001b[0;36mon_epoch\u001b[1;34m(self, epoch, mode)\u001b[0m\n\u001b[0;32m    769\u001b[0m       \u001b[1;32mif\u001b[0m \u001b[0mmode\u001b[0m \u001b[1;33m==\u001b[0m \u001b[0mModeKeys\u001b[0m\u001b[1;33m.\u001b[0m\u001b[0mTRAIN\u001b[0m\u001b[1;33m:\u001b[0m\u001b[1;33m\u001b[0m\u001b[1;33m\u001b[0m\u001b[0m\n\u001b[0;32m    770\u001b[0m         \u001b[1;31m# Epochs only apply to `fit`.\u001b[0m\u001b[1;33m\u001b[0m\u001b[1;33m\u001b[0m\u001b[1;33m\u001b[0m\u001b[0m\n\u001b[1;32m--> 771\u001b[1;33m         \u001b[0mself\u001b[0m\u001b[1;33m.\u001b[0m\u001b[0mcallbacks\u001b[0m\u001b[1;33m.\u001b[0m\u001b[0mon_epoch_end\u001b[0m\u001b[1;33m(\u001b[0m\u001b[0mepoch\u001b[0m\u001b[1;33m,\u001b[0m \u001b[0mepoch_logs\u001b[0m\u001b[1;33m)\u001b[0m\u001b[1;33m\u001b[0m\u001b[1;33m\u001b[0m\u001b[0m\n\u001b[0m\u001b[0;32m    772\u001b[0m       \u001b[0mself\u001b[0m\u001b[1;33m.\u001b[0m\u001b[0mprogbar\u001b[0m\u001b[1;33m.\u001b[0m\u001b[0mon_epoch_end\u001b[0m\u001b[1;33m(\u001b[0m\u001b[0mepoch\u001b[0m\u001b[1;33m,\u001b[0m \u001b[0mepoch_logs\u001b[0m\u001b[1;33m)\u001b[0m\u001b[1;33m\u001b[0m\u001b[1;33m\u001b[0m\u001b[0m\n\u001b[0;32m    773\u001b[0m \u001b[1;33m\u001b[0m\u001b[0m\n",
      "\u001b[1;32mD:\\Anaconda2019\\envs\\gurih\\lib\\site-packages\\tensorflow_core\\python\\keras\\callbacks.py\u001b[0m in \u001b[0;36mon_epoch_end\u001b[1;34m(self, epoch, logs)\u001b[0m\n\u001b[0;32m    300\u001b[0m     \u001b[0mlogs\u001b[0m \u001b[1;33m=\u001b[0m \u001b[0mlogs\u001b[0m \u001b[1;32mor\u001b[0m \u001b[1;33m{\u001b[0m\u001b[1;33m}\u001b[0m\u001b[1;33m\u001b[0m\u001b[1;33m\u001b[0m\u001b[0m\n\u001b[0;32m    301\u001b[0m     \u001b[1;32mfor\u001b[0m \u001b[0mcallback\u001b[0m \u001b[1;32min\u001b[0m \u001b[0mself\u001b[0m\u001b[1;33m.\u001b[0m\u001b[0mcallbacks\u001b[0m\u001b[1;33m:\u001b[0m\u001b[1;33m\u001b[0m\u001b[1;33m\u001b[0m\u001b[0m\n\u001b[1;32m--> 302\u001b[1;33m       \u001b[0mcallback\u001b[0m\u001b[1;33m.\u001b[0m\u001b[0mon_epoch_end\u001b[0m\u001b[1;33m(\u001b[0m\u001b[0mepoch\u001b[0m\u001b[1;33m,\u001b[0m \u001b[0mlogs\u001b[0m\u001b[1;33m)\u001b[0m\u001b[1;33m\u001b[0m\u001b[1;33m\u001b[0m\u001b[0m\n\u001b[0m\u001b[0;32m    303\u001b[0m \u001b[1;33m\u001b[0m\u001b[0m\n\u001b[0;32m    304\u001b[0m   \u001b[1;32mdef\u001b[0m \u001b[0mon_train_batch_begin\u001b[0m\u001b[1;33m(\u001b[0m\u001b[0mself\u001b[0m\u001b[1;33m,\u001b[0m \u001b[0mbatch\u001b[0m\u001b[1;33m,\u001b[0m \u001b[0mlogs\u001b[0m\u001b[1;33m=\u001b[0m\u001b[1;32mNone\u001b[0m\u001b[1;33m)\u001b[0m\u001b[1;33m:\u001b[0m\u001b[1;33m\u001b[0m\u001b[1;33m\u001b[0m\u001b[0m\n",
      "\u001b[1;32mD:\\Anaconda2019\\envs\\gurih\\lib\\site-packages\\tensorflow_core\\python\\keras\\callbacks.py\u001b[0m in \u001b[0;36mon_epoch_end\u001b[1;34m(self, epoch, logs)\u001b[0m\n\u001b[0;32m   2044\u001b[0m \u001b[1;33m\u001b[0m\u001b[0m\n\u001b[0;32m   2045\u001b[0m     \u001b[0mrow_dict\u001b[0m \u001b[1;33m=\u001b[0m \u001b[0mcollections\u001b[0m\u001b[1;33m.\u001b[0m\u001b[0mOrderedDict\u001b[0m\u001b[1;33m(\u001b[0m\u001b[1;33m{\u001b[0m\u001b[1;34m'epoch'\u001b[0m\u001b[1;33m:\u001b[0m \u001b[0mepoch\u001b[0m\u001b[1;33m}\u001b[0m\u001b[1;33m)\u001b[0m\u001b[1;33m\u001b[0m\u001b[1;33m\u001b[0m\u001b[0m\n\u001b[1;32m-> 2046\u001b[1;33m     \u001b[0mrow_dict\u001b[0m\u001b[1;33m.\u001b[0m\u001b[0mupdate\u001b[0m\u001b[1;33m(\u001b[0m\u001b[1;33m(\u001b[0m\u001b[0mkey\u001b[0m\u001b[1;33m,\u001b[0m \u001b[0mhandle_value\u001b[0m\u001b[1;33m(\u001b[0m\u001b[0mlogs\u001b[0m\u001b[1;33m[\u001b[0m\u001b[0mkey\u001b[0m\u001b[1;33m]\u001b[0m\u001b[1;33m)\u001b[0m\u001b[1;33m)\u001b[0m \u001b[1;32mfor\u001b[0m \u001b[0mkey\u001b[0m \u001b[1;32min\u001b[0m \u001b[0mself\u001b[0m\u001b[1;33m.\u001b[0m\u001b[0mkeys\u001b[0m\u001b[1;33m)\u001b[0m\u001b[1;33m\u001b[0m\u001b[1;33m\u001b[0m\u001b[0m\n\u001b[0m\u001b[0;32m   2047\u001b[0m     \u001b[0mself\u001b[0m\u001b[1;33m.\u001b[0m\u001b[0mwriter\u001b[0m\u001b[1;33m.\u001b[0m\u001b[0mwriterow\u001b[0m\u001b[1;33m(\u001b[0m\u001b[0mrow_dict\u001b[0m\u001b[1;33m)\u001b[0m\u001b[1;33m\u001b[0m\u001b[1;33m\u001b[0m\u001b[0m\n\u001b[0;32m   2048\u001b[0m     \u001b[0mself\u001b[0m\u001b[1;33m.\u001b[0m\u001b[0mcsv_file\u001b[0m\u001b[1;33m.\u001b[0m\u001b[0mflush\u001b[0m\u001b[1;33m(\u001b[0m\u001b[1;33m)\u001b[0m\u001b[1;33m\u001b[0m\u001b[1;33m\u001b[0m\u001b[0m\n",
      "\u001b[1;32mD:\\Anaconda2019\\envs\\gurih\\lib\\site-packages\\tensorflow_core\\python\\keras\\callbacks.py\u001b[0m in \u001b[0;36m<genexpr>\u001b[1;34m(.0)\u001b[0m\n\u001b[0;32m   2044\u001b[0m \u001b[1;33m\u001b[0m\u001b[0m\n\u001b[0;32m   2045\u001b[0m     \u001b[0mrow_dict\u001b[0m \u001b[1;33m=\u001b[0m \u001b[0mcollections\u001b[0m\u001b[1;33m.\u001b[0m\u001b[0mOrderedDict\u001b[0m\u001b[1;33m(\u001b[0m\u001b[1;33m{\u001b[0m\u001b[1;34m'epoch'\u001b[0m\u001b[1;33m:\u001b[0m \u001b[0mepoch\u001b[0m\u001b[1;33m}\u001b[0m\u001b[1;33m)\u001b[0m\u001b[1;33m\u001b[0m\u001b[1;33m\u001b[0m\u001b[0m\n\u001b[1;32m-> 2046\u001b[1;33m     \u001b[0mrow_dict\u001b[0m\u001b[1;33m.\u001b[0m\u001b[0mupdate\u001b[0m\u001b[1;33m(\u001b[0m\u001b[1;33m(\u001b[0m\u001b[0mkey\u001b[0m\u001b[1;33m,\u001b[0m \u001b[0mhandle_value\u001b[0m\u001b[1;33m(\u001b[0m\u001b[0mlogs\u001b[0m\u001b[1;33m[\u001b[0m\u001b[0mkey\u001b[0m\u001b[1;33m]\u001b[0m\u001b[1;33m)\u001b[0m\u001b[1;33m)\u001b[0m \u001b[1;32mfor\u001b[0m \u001b[0mkey\u001b[0m \u001b[1;32min\u001b[0m \u001b[0mself\u001b[0m\u001b[1;33m.\u001b[0m\u001b[0mkeys\u001b[0m\u001b[1;33m)\u001b[0m\u001b[1;33m\u001b[0m\u001b[1;33m\u001b[0m\u001b[0m\n\u001b[0m\u001b[0;32m   2047\u001b[0m     \u001b[0mself\u001b[0m\u001b[1;33m.\u001b[0m\u001b[0mwriter\u001b[0m\u001b[1;33m.\u001b[0m\u001b[0mwriterow\u001b[0m\u001b[1;33m(\u001b[0m\u001b[0mrow_dict\u001b[0m\u001b[1;33m)\u001b[0m\u001b[1;33m\u001b[0m\u001b[1;33m\u001b[0m\u001b[0m\n\u001b[0;32m   2048\u001b[0m     \u001b[0mself\u001b[0m\u001b[1;33m.\u001b[0m\u001b[0mcsv_file\u001b[0m\u001b[1;33m.\u001b[0m\u001b[0mflush\u001b[0m\u001b[1;33m(\u001b[0m\u001b[1;33m)\u001b[0m\u001b[1;33m\u001b[0m\u001b[1;33m\u001b[0m\u001b[0m\n",
      "\u001b[1;31mKeyError\u001b[0m: 'loss'"
     ]
    }
   ],
   "source": [
    "BaselineASR.fit_generator(train_generator=train_generator,\n",
    "                          validation_generator=validation_generator,\n",
    "                          epochs=MAX_EPOCHS,\n",
    "#                           use_multiprocessing=False,\n",
    "#                           worker=4,\n",
    ")"
   ]
  },
  {
   "cell_type": "markdown",
   "metadata": {},
   "source": [
    "See training plots."
   ]
  },
  {
   "cell_type": "code",
   "execution_count": 43,
   "metadata": {
    "ExecuteTime": {
     "end_time": "2020-02-12T05:00:36.681504Z",
     "start_time": "2020-02-12T05:00:36.036507Z"
    }
   },
   "outputs": [
    {
     "ename": "AttributeError",
     "evalue": "Model is not fitted. No history figure found. Call fit() method first",
     "output_type": "error",
     "traceback": [
      "\u001b[1;31m---------------------------------------------------------------------------\u001b[0m",
      "\u001b[1;31mAttributeError\u001b[0m                            Traceback (most recent call last)",
      "\u001b[1;32m<ipython-input-43-176ab8a70e79>\u001b[0m in \u001b[0;36m<module>\u001b[1;34m\u001b[0m\n\u001b[1;32m----> 1\u001b[1;33m \u001b[0mBaselineASR\u001b[0m\u001b[1;33m.\u001b[0m\u001b[0mplot_history\u001b[0m\u001b[1;33m(\u001b[0m\u001b[1;33m)\u001b[0m\u001b[1;33m\u001b[0m\u001b[1;33m\u001b[0m\u001b[0m\n\u001b[0m",
      "\u001b[1;32md:\\data science academy (2)\\voice-to-text-bahasa\\gurih\\models\\model.py\u001b[0m in \u001b[0;36mplot_history\u001b[1;34m(self)\u001b[0m\n\u001b[0;32m    111\u001b[0m         \u001b[1;34m\"\"\"Plot train/val loss figure created from _save_history()\"\"\"\u001b[0m\u001b[1;33m\u001b[0m\u001b[1;33m\u001b[0m\u001b[0m\n\u001b[0;32m    112\u001b[0m         \u001b[1;32mif\u001b[0m \u001b[0mself\u001b[0m\u001b[1;33m.\u001b[0m\u001b[0mfig\u001b[0m \u001b[1;32mis\u001b[0m \u001b[1;32mNone\u001b[0m\u001b[1;33m:\u001b[0m\u001b[1;33m\u001b[0m\u001b[1;33m\u001b[0m\u001b[0m\n\u001b[1;32m--> 113\u001b[1;33m             \u001b[1;32mraise\u001b[0m \u001b[0mAttributeError\u001b[0m\u001b[1;33m(\u001b[0m\u001b[1;34m\"Model is not fitted. No history figure found. Call fit() method first\"\u001b[0m\u001b[1;33m)\u001b[0m\u001b[1;33m\u001b[0m\u001b[1;33m\u001b[0m\u001b[0m\n\u001b[0m\u001b[0;32m    114\u001b[0m         \u001b[1;32mreturn\u001b[0m \u001b[0mself\u001b[0m\u001b[1;33m.\u001b[0m\u001b[0mfig\u001b[0m\u001b[1;33m\u001b[0m\u001b[1;33m\u001b[0m\u001b[0m\n\u001b[0;32m    115\u001b[0m \u001b[1;33m\u001b[0m\u001b[0m\n",
      "\u001b[1;31mAttributeError\u001b[0m: Model is not fitted. No history figure found. Call fit() method first"
     ]
    }
   ],
   "source": [
    "BaselineASR.plot_history()"
   ]
  },
  {
   "cell_type": "code",
   "execution_count": 25,
   "metadata": {
    "ExecuteTime": {
     "end_time": "2020-02-12T04:59:06.509905Z",
     "start_time": "2020-02-12T04:59:05.921909Z"
    }
   },
   "outputs": [
    {
     "name": "stdout",
     "output_type": "stream",
     "text": [
      "Model BaselineASR_f200_k11_s2_pvalid_nlstm200_ndense29 saved at: ../../models/BaselineASR_f200_k11_s2_pvalid_nlstm200_ndense29.json\n",
      "Weights serialized at: ../../models/BaselineASR_f200_k11_s2_pvalid_nlstm200_ndense29.h5\n"
     ]
    }
   ],
   "source": [
    "BaselineASR.save()"
   ]
  },
  {
   "cell_type": "markdown",
   "metadata": {},
   "source": [
    "## Evaluation"
   ]
  },
  {
   "cell_type": "markdown",
   "metadata": {},
   "source": [
    "Evaluate using test data."
   ]
  },
  {
   "cell_type": "code",
   "execution_count": 70,
   "metadata": {
    "ExecuteTime": {
     "end_time": "2020-02-12T10:04:46.913013Z",
     "start_time": "2020-02-12T10:04:45.525014Z"
    }
   },
   "outputs": [],
   "source": [
    "model = BaselineASR"
   ]
  },
  {
   "cell_type": "markdown",
   "metadata": {},
   "source": [
    "Alternatively, load pretrained model."
   ]
  },
  {
   "cell_type": "code",
   "execution_count": null,
   "metadata": {},
   "outputs": [],
   "source": [
    "# model = BaselineASRModel(input_shape=(3000, 39), vocab_len=29)\n",
    "# model.compile()\n",
    "\n",
    "# filename = os.path.abspath(\"../../docs/Model010b/BaselineASR_f200_k11_s2_pvalid_nlstm200_ndense29.h5\") # must provide abs path\n",
    "# model.load(filename)"
   ]
  },
  {
   "cell_type": "code",
   "execution_count": 71,
   "metadata": {
    "ExecuteTime": {
     "end_time": "2020-02-12T10:04:49.905005Z",
     "start_time": "2020-02-12T10:04:48.741009Z"
    }
   },
   "outputs": [
    {
     "data": {
      "text/plain": [
       "(3, 3000, 39)"
      ]
     },
     "execution_count": 71,
     "metadata": {},
     "output_type": "execute_result"
    }
   ],
   "source": [
    "test_generator = DataGenerator(input_dir=test_dir,\n",
    "                                max_seq_length=MAX_SEQ_LENGTH,\n",
    "                                max_label_length=MAX_LABEL_LENGTH,\n",
    "                                ctc_input_length=CTC_INPUT_LENGTH,\n",
    "                                char_to_idx_map=CHAR_TO_IDX_MAP,\n",
    "                                batch_size=3,\n",
    "                                shuffle=False) # set to False to ensure correct alignment between y_true and y_pred\n",
    "\n",
    "X_test = test_generator[0][0]['the_input']\n",
    "X_test.shape"
   ]
  },
  {
   "cell_type": "code",
   "execution_count": 72,
   "metadata": {
    "ExecuteTime": {
     "end_time": "2020-02-12T10:04:52.808004Z",
     "start_time": "2020-02-12T10:04:49.909005Z"
    }
   },
   "outputs": [
    {
     "data": {
      "text/plain": [
       "(3, 1495, 30)"
      ]
     },
     "execution_count": 72,
     "metadata": {},
     "output_type": "execute_result"
    }
   ],
   "source": [
    "ctc_matrix = model.predict(X_test)\n",
    "ctc_matrix.shape"
   ]
  },
  {
   "cell_type": "markdown",
   "metadata": {},
   "source": [
    "Calculate and display word error rate."
   ]
  },
  {
   "cell_type": "code",
   "execution_count": 73,
   "metadata": {
    "ExecuteTime": {
     "end_time": "2020-02-12T10:04:53.995001Z",
     "start_time": "2020-02-12T10:04:52.812004Z"
    }
   },
   "outputs": [],
   "source": [
    "def get_y(filename):\n",
    "    with open(filename, 'r') as f:\n",
    "        return f.readline()"
   ]
  },
  {
   "cell_type": "code",
   "execution_count": 74,
   "metadata": {
    "ExecuteTime": {
     "end_time": "2020-02-12T10:04:57.116990Z",
     "start_time": "2020-02-12T10:04:53.999001Z"
    }
   },
   "outputs": [],
   "source": [
    "txts = sorted(glob.glob(test_dir+\"*.txt\"))\n",
    "\n",
    "y_true = [get_y(txt) for txt in txts]\n",
    "y_pred = ctc_decode(ctc_matrix, IDX_TO_CHAR_MAP, greedy=False)"
   ]
  },
  {
   "cell_type": "code",
   "execution_count": 75,
   "metadata": {
    "ExecuteTime": {
     "end_time": "2020-02-12T10:04:58.355988Z",
     "start_time": "2020-02-12T10:04:57.119990Z"
    }
   },
   "outputs": [
    {
     "name": "stdout",
     "output_type": "stream",
     "text": [
      "WER 91.4696 %\n"
     ]
    }
   ],
   "source": [
    "word_error_rate = wer(y_true, y_pred)\n",
    "print('WER %.4f %%' % word_error_rate)"
   ]
  },
  {
   "cell_type": "markdown",
   "metadata": {},
   "source": [
    "Display prediction errors. \n",
    "* Red colors are <span style=\"background-color:rgba(255, 0, 0, 0.23)\">missing word</span>\n",
    "* Green colors are <span style=\"background-color:rgba(0, 128, 0, 0.23)\">insertion word</span>.\n",
    "* Yellow colors are <span style=\"background-color:rgba(255, 165, 0, 0.5)\">substitution word</span> and the references are in parenthesis."
   ]
  },
  {
   "cell_type": "code",
   "execution_count": 76,
   "metadata": {
    "ExecuteTime": {
     "end_time": "2020-02-12T10:04:59.641985Z",
     "start_time": "2020-02-12T10:04:58.355988Z"
    }
   },
   "outputs": [],
   "source": [
    "_ = wer(y_true, y_pred, write_html=False)"
   ]
  },
  {
   "cell_type": "code",
   "execution_count": 77,
   "metadata": {
    "ExecuteTime": {
     "end_time": "2020-02-12T10:05:00.968985Z",
     "start_time": "2020-02-12T10:04:59.641985Z"
    }
   },
   "outputs": [
    {
     "data": {
      "text/html": [
       "j a <span class=\"r\">n</span> <span class=\"y\">l(g)</span> a <span class=\"r\">n</span> l a <span class=\"r\">h</span> <span class=\"r\"> </span> k a <span class=\"g\">n</span> m u <span class=\"r\"> </span> <span class=\"r\">m</span> <span class=\"y\">n(e)</span> <span class=\"y\">j(n)</span> y a n <span class=\"r\">g</span> k a <span class=\"r\">,</span>   b a h <span class=\"r\">w</span> <span class=\"y\"> (a)</span> <span class=\"y\">u( )</span> k i t <span class=\"y\">u(a)</span> <span class=\"y\">g(b)</span>   s <span class=\"y\">i(u)</span> <span class=\"y\">j(c)</span> i <span class=\"r\"> </span> t a <span class=\"r\">n</span> p <span class=\"r\">a</span> <span class=\"r\"> </span> a l a s a n   b e r k a t a <span class=\"r\"> </span> <span class=\"r\">r</span> <span class=\"r\">o</span> <span class=\"r\">h</span>   y a n g   d i <span class=\"g\"> </span> t e <span class=\"r\">m</span> p a <span class=\"y\"> (t)</span> k a n   a <span class=\"r\">l</span> l a <span class=\"r\">h</span>   d i <span class=\"r\"> </span> <span class=\"r\">d</span> <span class=\"r\">a</span> <span class=\"y\">k(l)</span> a <span class=\"y\">n(m)</span>   <span class=\"r\">d</span> i r <span class=\"r\">i</span> <span class=\"r\"> </span> <span class=\"r\">k</span> i t a <span class=\"r\">,</span>   <span class=\"r\">d</span> <span class=\"r\">i</span> <span class=\"r\">i</span> <span class=\"r\">n</span> <span class=\"y\">t(g)</span> i n i <span class=\"r\"> </span> n y a   d <span class=\"r\">e</span> <span class=\"r\">n</span> <span class=\"y\">i(g)</span> a <span class=\"r\">n</span>   c e <span class=\"r\">m</span> <span class=\"r\">b</span> <span class=\"r\">u</span> <span class=\"r\">r</span> u   t e t a p i <span class=\"r\"> </span> k a s <span class=\"r\">i</span> <span class=\"r\">h</span> <span class=\"r\"> </span> k a r <span class=\"r\">u</span> <span class=\"r\">n</span> i a <span class=\"r\">,</span>   y a n g   d <span class=\"g\">g</span> i a n <span class=\"y\">d(u)</span> <span class=\"y\">u(g)</span> <span class=\"y\"> (e)</span> <span class=\"y\">k(r)</span> a <span class=\"y\"> (h)</span> k a <span class=\"r\">n</span> <span class=\"r\"> </span> n y a   k e <span class=\"r\">p</span> <span class=\"r\">a</span> <span class=\"y\">n(d)</span> a <span class=\"r\"> </span> k i t a <span class=\"r\">,</span>   <span class=\"r\">l</span> e <span class=\"y\">d(b)</span> i <span class=\"r\">h</span>   b e s a <span class=\"r\">r</span>   d <span class=\"g\">a</span> <span class=\"g\">j</span> <span class=\"g\">i</span> <span class=\"g\">p</span> a <span class=\"y\"> (r)</span> i <span class=\"g\">t</span> <span class=\"g\">u</span>   <span class=\"y\">k(p)</span> a <span class=\"y\">n(d)</span> a   i <span class=\"r\">t</span> <span class=\"y\"> (u)</span> <span class=\"y\">t(.)</span> <html><body><head><meta charset=\"utf-8\"></head><style>.g{background-color:#0080004d}.r{background-color:#ff00004d}.y{background-color:#ffa50099}</style></body></html>"
      ],
      "text/plain": [
       "<IPython.core.display.HTML object>"
      ]
     },
     "metadata": {},
     "output_type": "display_data"
    }
   ],
   "source": [
    "with open(\"diff.html\", 'r') as f:\n",
    "    html = f.readlines()[0]\n",
    "display(HTML(html))"
   ]
  },
  {
   "cell_type": "code",
   "execution_count": 78,
   "metadata": {
    "ExecuteTime": {
     "end_time": "2020-02-12T10:05:02.111983Z",
     "start_time": "2020-02-12T10:05:00.972985Z"
    }
   },
   "outputs": [
    {
     "name": "stdout",
     "output_type": "stream",
     "text": [
      "(1495, 30)\n",
      "daaa%mm%%%%%uuu%%lu%%%%%%%%%%%%%%%%%%%%%%%%%%%%%%%%%%%%%%%%%%%%%%%%%%%% %%% %de%m%%%%%tuu%%%%%%h%%%%%%%%j%%aaa%%%%llaa%%mm%%%%%%%%ke%%%lii%%%%%%%%%%%%%%%%%%%%%%%%%%%%%%%%%%%%%%%%  %a%%%%%n%%%%aan%%%%%%%%%%%%%  yee%%%%duu%%%%%%% %mee%%%%%%%%%t%aa%n%%%a%%%%%%muu%%%%%%%%%%%%%%%%%%%%%%%%%%%%%%%%%%%%%%%%%%%%%%%%%%%%%%%%   %a%%%%%%lmu%% %%%%ss%ae%mm%%ppaaii%%g%%%%see%%%%%aaa%%%%%% iii%%%%muue%%%%%%%daann%%a%%%%%m%u%%%%%%%%%%%%%%%%%%%%%%%%%%%%%%%%%%%%%%%%%%%%%%%%%%%  %aa%%%%kka%%%bee%%%%%%%%%kii%e%%% mm%a%%%%%%%l%a%%%%  %meeree%%%%ka%% dii%%%%see%%%%%%%daaanngg%%%  %%%ssu%%n%%ee%%%%a%%%%%%%%%%%o%%%%%%%%%%%%%%%%%%%%%%%%%%%%%%  ienng%a%ng%%%% piii%%%%d%aa%%%  meen%%%%%%ssu%%%%%%%dd%a%%rra%%%%m%%%%%%%a%%%%%%%%%%%%%%%%%%%%%%%%%%%%%%%%%%%%%%%%% %%sse%%%%aa%%%%%k%%%%s%en%%%%bleeee%%%% %%%aa%%%%%%%%%%%oann%%%%  ii%%%%%mu%%%%llaa%%%%%  p%a%%%%%%%%%p%aa%%%%%sse%%%d%e%%%rra%%%%%%%%%%%%%%%%%%%%%%%%%%%%%%%%%%%%%%%%%%%%%%%%%%%%%%%%%%%%%%%%%%%%%%%%%%%%%%%%%%%%%%%%%%%%%%%%%%%%%%%%% %%l%aa%%%%ll%%%%%oo%%reang  ii%% %sse%r%eee%%%%%%g%nn%%%ii%%%%rii%%% %%%%%tu%%%%%ss%aa%n%%%%ke% bee%mdee%%%%siii%%%k%%%%oa%%%%%%%%%%%%%%%%%%% %%%r%aa%%%%%%k%%%a%%% %e%rr%%%% aa%%%%mmuu%a%%%%%%%%%%%%%%%%%%%%%%%%%%%%% %%%%rraa%%%%%%%%%%%%a%%%%%% ii%%% %ii%%%%s%ii%%%%%%%%%.%%%%%%%%%%%%%%%%%%%%%%%%%%%%%%  %%%%%%%%%%%%%%%%%%%%%%%%%%%%%%%%%%%%%%%%%%%%%%%%%%%%%%%%%%                                                                                                                                                               \n"
     ]
    }
   ],
   "source": [
    "for ctc in ctc_matrix:\n",
    "    print(ctc.shape)\n",
    "    tmp = np.argmax(ctc, axis=1)\n",
    "    out_str = ''.join([IDX_TO_CHAR_MAP[x] for x in tmp])\n",
    "    print(out_str)\n",
    "    break"
   ]
  },
  {
   "cell_type": "code",
   "execution_count": 79,
   "metadata": {
    "ExecuteTime": {
     "end_time": "2020-02-12T10:05:03.472983Z",
     "start_time": "2020-02-12T10:05:02.111983Z"
    }
   },
   "outputs": [
    {
     "data": {
      "text/plain": [
       "['kemudian mereka berjalan melalui padang gurun, menempuh jalan keliling tanah edom dan tanah moab, lalu sampai ke sebelah timur tanah moab, maka berkemahlah mereka di seberang sungai arnon, dengan tidak masuk daerah moab, sebab sungai arnon itulah batas daerah moab.',\n",
       " 'beberapa waktu kemudian, dalam musim menuai gandum, pergilah simson mengunjungi isterinya, dengan membawa seekor anak kambing, serta berkata aku mau ke kamar mendapatkan isteriku. tetapi ayah perempuan itu tidak membiarkan dia masuk.',\n",
       " 'berkatalah orang filistin siapakah yang melakukan ini orang menjawab simson, menantu orang timna itu, sebab orang itu telah mengambil isteri simson dan memberikannya kepada kawannya. kemudian pergilah orang filistin ke sana dan membakar perempuan itu beserta ayahnya.']"
      ]
     },
     "execution_count": 79,
     "metadata": {},
     "output_type": "execute_result"
    }
   ],
   "source": [
    "y_true"
   ]
  },
  {
   "cell_type": "code",
   "execution_count": 80,
   "metadata": {
    "ExecuteTime": {
     "end_time": "2020-02-12T10:05:04.824983Z",
     "start_time": "2020-02-12T10:05:03.476983Z"
    }
   },
   "outputs": [
    {
     "data": {
      "text/plain": [
       "['dambulu emtuh jalam keli anan yedu metanamu alu sampai sela imuedanamu akabekie mala mereka diselang suneamo engag pida mensu daramua sebaksenle anon imula papa sederau lalorang i sere gnmiri tusanke bemdesikoa rakea er amua ra i isio.',\n",
       " 'buberapawa tu kemudian dalahmusi menuwaikandu perdilah sinm son memuntugi is terinya diban membaoas e kur anakampi serta berka a kembekana nakaik etapi a ya perempuan itu tida memakan ia mas',\n",
       " 'berkatalah orang tilisti canlapkeaeamaukadi orang menjan sierisan nha tiora tingaituba antitelan anya iseisinso an menbikan ya pada kana kemudian berdila orang tilis tinm gesana dan membakarepermpua itu r a alh']"
      ]
     },
     "execution_count": 80,
     "metadata": {},
     "output_type": "execute_result"
    }
   ],
   "source": [
    "y_pred"
   ]
  },
  {
   "cell_type": "markdown",
   "metadata": {},
   "source": [
    " "
   ]
  }
 ],
 "metadata": {
  "hide_input": false,
  "kernelspec": {
   "display_name": "Python 3",
   "language": "python",
   "name": "python3"
  },
  "language_info": {
   "codemirror_mode": {
    "name": "ipython",
    "version": 3
   },
   "file_extension": ".py",
   "mimetype": "text/x-python",
   "name": "python",
   "nbconvert_exporter": "python",
   "pygments_lexer": "ipython3",
   "version": "3.7.6"
  },
  "toc": {
   "base_numbering": 1,
   "nav_menu": {},
   "number_sections": true,
   "sideBar": true,
   "skip_h1_title": false,
   "title_cell": "Table of Contents",
   "title_sidebar": "Contents",
   "toc_cell": false,
   "toc_position": {},
   "toc_section_display": true,
   "toc_window_display": false
  }
 },
 "nbformat": 4,
 "nbformat_minor": 2
}
