{
 "cells": [
  {
   "cell_type": "markdown",
   "metadata": {},
   "source": [
    "<span style=\"font-size:36px\"><b>Baseline Model Tutorial</b></span>\n",
    "\n",
    "Copyright &copy; 2020 Gunawan Lumban Gaol\n",
    "\n",
    "Licensed under the Apache License, Version 2.0 (the \"License\"); you may not use this file except in compliance with the License. You may obtain a copy of the License at http://www.apache.org/licenses/LICENSE-2.0\n",
    "\n",
    "Unless required by applicable law or agreed to in writing, software distributed under the License is distributed on an \"AS IS\" BASIS, WITHOUT WARRANTIES OR CONDITIONS OF ANY KIND, either express or implied. See the License for the specific language overning permissions and limitations under the License."
   ]
  },
  {
   "cell_type": "markdown",
   "metadata": {},
   "source": [
    "# Import Packages"
   ]
  },
  {
   "cell_type": "code",
   "execution_count": 1,
   "metadata": {
    "ExecuteTime": {
     "end_time": "2020-02-04T08:31:45.638000Z",
     "start_time": "2020-02-04T08:31:40.085000Z"
    }
   },
   "outputs": [
    {
     "name": "stdout",
     "output_type": "stream",
     "text": [
      "tf.__version__ = 2.1.0\n"
     ]
    }
   ],
   "source": [
    "import sys\n",
    "import glob\n",
    "\n",
    "import numpy as np\n",
    "import pandas as pd\n",
    "from IPython.core.display import display, HTML\n",
    "import tensorflow as tf\n",
    "import tensorflow.keras.backend as K\n",
    "print(\"tf.__version__ = \"+tf.__version__)\n",
    "\n",
    "from gurih.data.data_generator import DataGenerator\n",
    "from gurih.models.model import BaselineASRModel\n",
    "from gurih.models.model_utils import CharMap, ctc_decode, wer\n",
    "\n",
    "%load_ext autoreload\n",
    "%autoreload 2"
   ]
  },
  {
   "cell_type": "markdown",
   "metadata": {},
   "source": [
    "# Train Model"
   ]
  },
  {
   "cell_type": "markdown",
   "metadata": {},
   "source": [
    "Define constant for ASR Model."
   ]
  },
  {
   "cell_type": "code",
   "execution_count": 2,
   "metadata": {
    "ExecuteTime": {
     "end_time": "2020-02-04T08:31:47.678000Z",
     "start_time": "2020-02-04T08:31:47.246000Z"
    }
   },
   "outputs": [],
   "source": [
    "CHAR_TO_IDX_MAP = CharMap.CHAR_TO_IDX_MAP\n",
    "IDX_TO_CHAR_MAP = CharMap.IDX_TO_CHAR_MAP\n",
    "\n",
    "MAX_SEQ_LENGTH = 2500\n",
    "MAX_LABEL_LENGTH = 100\n",
    "BATCH_SIZE = 1"
   ]
  },
  {
   "cell_type": "markdown",
   "metadata": {},
   "source": [
    "Create and compile keras model."
   ]
  },
  {
   "cell_type": "code",
   "execution_count": 3,
   "metadata": {
    "ExecuteTime": {
     "end_time": "2020-02-04T08:31:49.483000Z",
     "start_time": "2020-02-04T08:31:48.322000Z"
    },
    "scrolled": false
   },
   "outputs": [
    {
     "name": "stdout",
     "output_type": "stream",
     "text": [
      "Model directory is set to ../../models/\n",
      "Documentation directory is set to ../../docs/\n",
      "\n",
      "Model: \"BaselineASR_f200_k11_s2_pvalid_nlstm200_ndense29\"\n",
      "_________________________________________________________________\n",
      "Layer (type)                 Output Shape              Param #   \n",
      "=================================================================\n",
      "the_input (InputLayer)       [(None, 2500, 39)]        0         \n",
      "_________________________________________________________________\n",
      "masking (Masking)            (None, 2500, 39)          0         \n",
      "_________________________________________________________________\n",
      "conv1 (Conv1D)               (None, 1245, 200)         86000     \n",
      "_________________________________________________________________\n",
      "bidirectional (Bidirectional (None, 1245, 400)         641600    \n",
      "_________________________________________________________________\n",
      "the_output (TimeDistributed) (None, 1245, 30)          12030     \n",
      "=================================================================\n",
      "Total params: 739,630\n",
      "Trainable params: 739,630\n",
      "Non-trainable params: 0\n",
      "_________________________________________________________________\n"
     ]
    }
   ],
   "source": [
    "BaselineASR = BaselineASRModel(input_shape=(MAX_SEQ_LENGTH, 39), vocab_len=len(CharMap()))\n",
    "BaselineASR.compile()"
   ]
  },
  {
   "cell_type": "markdown",
   "metadata": {},
   "source": [
    "Get model output sequence length for ctc input. This is required as we are using custom `Lambda` layer inside model."
   ]
  },
  {
   "cell_type": "code",
   "execution_count": 4,
   "metadata": {
    "ExecuteTime": {
     "end_time": "2020-02-04T08:31:54.194000Z",
     "start_time": "2020-02-04T08:31:53.728000Z"
    }
   },
   "outputs": [
    {
     "data": {
      "text/plain": [
       "1245"
      ]
     },
     "execution_count": 4,
     "metadata": {},
     "output_type": "execute_result"
    }
   ],
   "source": [
    "CTC_INPUT_LENGTH = BaselineASR.model.get_layer('the_output').output.shape[1]\n",
    "CTC_INPUT_LENGTH"
   ]
  },
  {
   "cell_type": "markdown",
   "metadata": {},
   "source": [
    "## Train using `fit_generator()`"
   ]
  },
  {
   "cell_type": "markdown",
   "metadata": {},
   "source": [
    "Prepare data using `DataGenerator`."
   ]
  },
  {
   "cell_type": "code",
   "execution_count": 5,
   "metadata": {
    "ExecuteTime": {
     "end_time": "2020-02-04T08:31:56.012000Z",
     "start_time": "2020-02-04T08:31:55.496000Z"
    }
   },
   "outputs": [],
   "source": [
    "train_dir = \"../../test/test_data/data_generator/\"\n",
    "valid_dir = \"../../test/test_data/data_generator/\"\n",
    "test_dir = \"../../test/test_data/data_generator/\""
   ]
  },
  {
   "cell_type": "markdown",
   "metadata": {},
   "source": [
    "Directories must contain all `.npz` and `.txt` files required for `DataGenerator`."
   ]
  },
  {
   "cell_type": "code",
   "execution_count": 6,
   "metadata": {
    "ExecuteTime": {
     "end_time": "2020-02-04T08:31:57.143000Z",
     "start_time": "2020-02-04T08:31:56.699000Z"
    }
   },
   "outputs": [],
   "source": [
    "train_generator = DataGenerator(input_dir=train_dir,\n",
    "                                max_seq_length=MAX_SEQ_LENGTH,\n",
    "                                max_label_length=MAX_LABEL_LENGTH,\n",
    "                                ctc_input_length=CTC_INPUT_LENGTH,\n",
    "                                char_to_idx_map=CHAR_TO_IDX_MAP,\n",
    "                                batch_size=BATCH_SIZE)\n",
    "\n",
    "# validation_generator = DataGenerator(input_dir=valid_dir,\n",
    "#                                      max_seq_length=MAX_SEQ_LENGTH,\n",
    "#                                      max_label_length=MAX_LABEL_LENGTH,\n",
    "#                                      ctc_input_length=CTC_INPUT_LENGTH,\n",
    "#                                      char_to_idx_map=CHAR_TO_IDX_MAP,\n",
    "#                                      batch_size=BATCH_SIZE)"
   ]
  },
  {
   "cell_type": "markdown",
   "metadata": {},
   "source": [
    "Fit model. Pass validation generator if using `EarlyStopping` and `ModelCheckpoint` callbacks."
   ]
  },
  {
   "cell_type": "code",
   "execution_count": 7,
   "metadata": {
    "ExecuteTime": {
     "end_time": "2020-02-04T08:31:58.357000Z",
     "start_time": "2020-02-04T08:31:57.926000Z"
    }
   },
   "outputs": [],
   "source": [
    "# BaselineASR._callbacks(min_delta=1e-4, patience=5)"
   ]
  },
  {
   "cell_type": "code",
   "execution_count": 8,
   "metadata": {
    "ExecuteTime": {
     "end_time": "2020-02-04T08:38:19.212000Z",
     "start_time": "2020-02-04T08:31:58.998000Z"
    },
    "scrolled": true
   },
   "outputs": [
    {
     "name": "stdout",
     "output_type": "stream",
     "text": [
      "WARNING:tensorflow:From d:\\data science academy (2)\\voice-to-text-bahasa\\gurih\\models\\model.py:362: Model.fit_generator (from tensorflow.python.keras.engine.training) is deprecated and will be removed in a future version.\n",
      "Instructions for updating:\n",
      "Please use Model.fit, which supports generators.\n",
      "WARNING:tensorflow:sample_weight modes were coerced from\n",
      "  {'ctc': '...'}\n",
      "    to  \n",
      "  ['...']\n",
      "Train for 2 steps\n",
      "Epoch 1/100\n",
      "2/2 [==============================] - 6s 3s/step - loss: 2627.1412\n",
      "Epoch 2/100\n",
      "2/2 [==============================] - 4s 2s/step - loss: 1095.6481\n",
      "Epoch 3/100\n",
      "2/2 [==============================] - 4s 2s/step - loss: 1089.6100\n",
      "Epoch 4/100\n",
      "2/2 [==============================] - 4s 2s/step - loss: 1095.4626\n",
      "Epoch 5/100\n",
      "2/2 [==============================] - 3s 2s/step - loss: 1057.6677\n",
      "Epoch 6/100\n",
      "2/2 [==============================] - 3s 2s/step - loss: 1015.8221\n",
      "Epoch 7/100\n",
      "2/2 [==============================] - 4s 2s/step - loss: 830.2688\n",
      "Epoch 8/100\n",
      "2/2 [==============================] - 3s 2s/step - loss: 575.4380\n",
      "Epoch 9/100\n",
      "2/2 [==============================] - 4s 2s/step - loss: 391.5358\n",
      "Epoch 10/100\n",
      "2/2 [==============================] - 3s 2s/step - loss: 383.9924\n",
      "Epoch 11/100\n",
      "2/2 [==============================] - 4s 2s/step - loss: 390.9701\n",
      "Epoch 12/100\n",
      "2/2 [==============================] - 3s 2s/step - loss: 370.3696\n",
      "Epoch 13/100\n",
      "2/2 [==============================] - 4s 2s/step - loss: 355.7895\n",
      "Epoch 14/100\n",
      "2/2 [==============================] - 3s 2s/step - loss: 344.7042\n",
      "Epoch 15/100\n",
      "2/2 [==============================] - 3s 2s/step - loss: 327.8991\n",
      "Epoch 16/100\n",
      "2/2 [==============================] - 3s 2s/step - loss: 305.8646\n",
      "Epoch 17/100\n",
      "2/2 [==============================] - 4s 2s/step - loss: 289.5815\n",
      "Epoch 18/100\n",
      "2/2 [==============================] - 4s 2s/step - loss: 279.0816\n",
      "Epoch 19/100\n",
      "2/2 [==============================] - 4s 2s/step - loss: 270.9840\n",
      "Epoch 20/100\n",
      "2/2 [==============================] - 4s 2s/step - loss: 262.7027\n",
      "Epoch 21/100\n",
      "2/2 [==============================] - 4s 2s/step - loss: 253.1273\n",
      "Epoch 22/100\n",
      "2/2 [==============================] - 4s 2s/step - loss: 244.5162\n",
      "Epoch 23/100\n",
      "2/2 [==============================] - 4s 2s/step - loss: 235.9962\n",
      "Epoch 24/100\n",
      "2/2 [==============================] - 3s 2s/step - loss: 228.5620\n",
      "Epoch 25/100\n",
      "2/2 [==============================] - 4s 2s/step - loss: 221.1627\n",
      "Epoch 26/100\n",
      "2/2 [==============================] - 4s 2s/step - loss: 213.4249\n",
      "Epoch 27/100\n",
      "2/2 [==============================] - 4s 2s/step - loss: 205.7630\n",
      "Epoch 28/100\n",
      "2/2 [==============================] - 4s 2s/step - loss: 198.1686\n",
      "Epoch 29/100\n",
      "2/2 [==============================] - 3s 2s/step - loss: 191.0998\n",
      "Epoch 30/100\n",
      "2/2 [==============================] - 4s 2s/step - loss: 184.2469\n",
      "Epoch 31/100\n",
      "2/2 [==============================] - 4s 2s/step - loss: 176.1309\n",
      "Epoch 32/100\n",
      "2/2 [==============================] - 4s 2s/step - loss: 169.3036\n",
      "Epoch 33/100\n",
      "2/2 [==============================] - 4s 2s/step - loss: 161.7301\n",
      "Epoch 34/100\n",
      "2/2 [==============================] - 4s 2s/step - loss: 154.2189\n",
      "Epoch 35/100\n",
      "2/2 [==============================] - 3s 2s/step - loss: 146.4789\n",
      "Epoch 36/100\n",
      "2/2 [==============================] - 4s 2s/step - loss: 138.9695\n",
      "Epoch 37/100\n",
      "2/2 [==============================] - 4s 2s/step - loss: 131.9865\n",
      "Epoch 38/100\n",
      "2/2 [==============================] - 4s 2s/step - loss: 124.0590\n",
      "Epoch 39/100\n",
      "2/2 [==============================] - 4s 2s/step - loss: 116.1230\n",
      "Epoch 40/100\n",
      "2/2 [==============================] - 5s 2s/step - loss: 108.8986\n",
      "Epoch 41/100\n",
      "2/2 [==============================] - 4s 2s/step - loss: 101.6145\n",
      "Epoch 42/100\n",
      "2/2 [==============================] - 4s 2s/step - loss: 94.4858\n",
      "Epoch 43/100\n",
      "2/2 [==============================] - 4s 2s/step - loss: 87.7369\n",
      "Epoch 44/100\n",
      "2/2 [==============================] - 4s 2s/step - loss: 81.0770\n",
      "Epoch 45/100\n",
      "2/2 [==============================] - 4s 2s/step - loss: 74.7024\n",
      "Epoch 46/100\n",
      "2/2 [==============================] - 4s 2s/step - loss: 68.5893\n",
      "Epoch 47/100\n",
      "2/2 [==============================] - 4s 2s/step - loss: 62.7843\n",
      "Epoch 48/100\n",
      "2/2 [==============================] - 4s 2s/step - loss: 58.1048\n",
      "Epoch 49/100\n",
      "2/2 [==============================] - 4s 2s/step - loss: 52.5025\n",
      "Epoch 50/100\n",
      "2/2 [==============================] - 4s 2s/step - loss: 48.2281\n",
      "Epoch 51/100\n",
      "2/2 [==============================] - 4s 2s/step - loss: 43.7938\n",
      "Epoch 52/100\n",
      "2/2 [==============================] - 4s 2s/step - loss: 39.8027\n",
      "Epoch 53/100\n",
      "2/2 [==============================] - 4s 2s/step - loss: 36.5010\n",
      "Epoch 54/100\n",
      "2/2 [==============================] - 4s 2s/step - loss: 33.1677\n",
      "Epoch 55/100\n",
      "2/2 [==============================] - 4s 2s/step - loss: 30.2590\n",
      "Epoch 56/100\n",
      "2/2 [==============================] - 4s 2s/step - loss: 27.6622\n",
      "Epoch 57/100\n",
      "2/2 [==============================] - 3s 2s/step - loss: 25.3694\n",
      "Epoch 58/100\n",
      "2/2 [==============================] - 3s 2s/step - loss: 23.3307\n",
      "Epoch 59/100\n",
      "2/2 [==============================] - 4s 2s/step - loss: 21.7837\n",
      "Epoch 60/100\n",
      "2/2 [==============================] - 4s 2s/step - loss: 19.9790\n",
      "Epoch 61/100\n",
      "2/2 [==============================] - 4s 2s/step - loss: 18.5901\n",
      "Epoch 62/100\n",
      "2/2 [==============================] - 4s 2s/step - loss: 17.4607\n",
      "Epoch 63/100\n",
      "2/2 [==============================] - 4s 2s/step - loss: 16.3040\n",
      "Epoch 64/100\n",
      "2/2 [==============================] - 4s 2s/step - loss: 15.2218\n",
      "Epoch 65/100\n",
      "2/2 [==============================] - 4s 2s/step - loss: 14.4034\n",
      "Epoch 66/100\n",
      "2/2 [==============================] - 4s 2s/step - loss: 13.5825\n",
      "Epoch 67/100\n",
      "2/2 [==============================] - 3s 2s/step - loss: 12.8472\n",
      "Epoch 68/100\n",
      "2/2 [==============================] - 4s 2s/step - loss: 12.2236\n",
      "Epoch 69/100\n",
      "2/2 [==============================] - 3s 2s/step - loss: 11.6115\n",
      "Epoch 70/100\n",
      "2/2 [==============================] - 3s 2s/step - loss: 11.0579\n",
      "Epoch 71/100\n",
      "2/2 [==============================] - 4s 2s/step - loss: 10.5555\n",
      "Epoch 72/100\n",
      "2/2 [==============================] - 3s 2s/step - loss: 10.1004\n",
      "Epoch 73/100\n",
      "2/2 [==============================] - 3s 2s/step - loss: 9.7145\n",
      "Epoch 74/100\n",
      "2/2 [==============================] - 4s 2s/step - loss: 9.3286\n",
      "Epoch 75/100\n",
      "2/2 [==============================] - 4s 2s/step - loss: 8.9601\n",
      "Epoch 76/100\n",
      "2/2 [==============================] - 4s 2s/step - loss: 8.6475\n",
      "Epoch 77/100\n",
      "2/2 [==============================] - 4s 2s/step - loss: 8.3356\n",
      "Epoch 78/100\n",
      "2/2 [==============================] - 4s 2s/step - loss: 8.0559\n",
      "Epoch 79/100\n",
      "2/2 [==============================] - 4s 2s/step - loss: 7.8090\n",
      "Epoch 80/100\n",
      "2/2 [==============================] - 4s 2s/step - loss: 7.5548\n",
      "Epoch 81/100\n",
      "2/2 [==============================] - 4s 2s/step - loss: 7.3479\n",
      "Epoch 82/100\n",
      "2/2 [==============================] - 4s 2s/step - loss: 7.1383\n",
      "Epoch 83/100\n",
      "2/2 [==============================] - 4s 2s/step - loss: 6.9445\n",
      "Epoch 84/100\n",
      "2/2 [==============================] - 4s 2s/step - loss: 6.7658\n",
      "Epoch 85/100\n",
      "2/2 [==============================] - 4s 2s/step - loss: 6.5984\n",
      "Epoch 86/100\n",
      "2/2 [==============================] - 3s 2s/step - loss: 6.4412\n",
      "Epoch 87/100\n",
      "2/2 [==============================] - 4s 2s/step - loss: 6.2988\n",
      "Epoch 88/100\n",
      "2/2 [==============================] - 4s 2s/step - loss: 6.1630\n",
      "Epoch 89/100\n",
      "2/2 [==============================] - 3s 2s/step - loss: 6.0259\n",
      "Epoch 90/100\n",
      "2/2 [==============================] - 3s 2s/step - loss: 5.9118\n",
      "Epoch 91/100\n",
      "2/2 [==============================] - 4s 2s/step - loss: 5.7910\n",
      "Epoch 92/100\n",
      "2/2 [==============================] - 4s 2s/step - loss: 5.6867\n",
      "Epoch 93/100\n",
      "2/2 [==============================] - 4s 2s/step - loss: 5.5773\n",
      "Epoch 94/100\n",
      "2/2 [==============================] - 4s 2s/step - loss: 5.4777\n",
      "Epoch 95/100\n",
      "2/2 [==============================] - 4s 2s/step - loss: 5.3883\n",
      "Epoch 96/100\n",
      "2/2 [==============================] - 4s 2s/step - loss: 5.2953\n",
      "Epoch 97/100\n",
      "2/2 [==============================] - 4s 2s/step - loss: 5.2065\n",
      "Epoch 98/100\n",
      "2/2 [==============================] - 4s 2s/step - loss: 5.1213\n",
      "Epoch 99/100\n"
     ]
    },
    {
     "name": "stdout",
     "output_type": "stream",
     "text": [
      "2/2 [==============================] - 4s 2s/step - loss: 5.0382\n",
      "Epoch 100/100\n",
      "2/2 [==============================] - 4s 2s/step - loss: 4.9662\n"
     ]
    }
   ],
   "source": [
    "BaselineASR.fit_generator(train_generator=train_generator,\n",
    "#                           validation_generator=validation_generator,\n",
    "                          epochs=100)"
   ]
  },
  {
   "cell_type": "markdown",
   "metadata": {},
   "source": [
    "See training plots."
   ]
  },
  {
   "cell_type": "code",
   "execution_count": 9,
   "metadata": {
    "ExecuteTime": {
     "end_time": "2020-02-04T08:44:42.789000Z",
     "start_time": "2020-02-04T08:44:42.142000Z"
    }
   },
   "outputs": [
    {
     "data": {
      "image/png": "[encoded data removed]",
      "text/plain": [
       "<Figure size 1080x432 with 1 Axes>"
      ]
     },
     "execution_count": 9,
     "metadata": {},
     "output_type": "execute_result"
    }
   ],
   "source": [
    "BaselineASR.plot_history()"
   ]
  },
  {
   "cell_type": "markdown",
   "metadata": {},
   "source": [
    "Evaluate using test data."
   ]
  },
  {
   "cell_type": "code",
   "execution_count": 102,
   "metadata": {
    "ExecuteTime": {
     "end_time": "2020-02-04T09:02:05.849000Z",
     "start_time": "2020-02-04T09:02:05.365000Z"
    }
   },
   "outputs": [
    {
     "data": {
      "text/plain": [
       "(2, 2500, 39)"
      ]
     },
     "execution_count": 102,
     "metadata": {},
     "output_type": "execute_result"
    }
   ],
   "source": [
    "test_generator = DataGenerator(input_dir=test_dir,\n",
    "                                max_seq_length=MAX_SEQ_LENGTH,\n",
    "                                max_label_length=MAX_LABEL_LENGTH,\n",
    "                                ctc_input_length=CTC_INPUT_LENGTH,\n",
    "                                char_to_idx_map=CHAR_TO_IDX_MAP,\n",
    "                                batch_size=2,\n",
    "                                shuffle=False) # set to False to ensure correct alignment between y_true and y_pred\n",
    "\n",
    "X_test = test_generator[0][0]['the_input']\n",
    "X_test.shape"
   ]
  },
  {
   "cell_type": "code",
   "execution_count": 103,
   "metadata": {
    "ExecuteTime": {
     "end_time": "2020-02-04T09:02:12.376000Z",
     "start_time": "2020-02-04T09:02:11.540000Z"
    }
   },
   "outputs": [
    {
     "data": {
      "text/plain": [
       "(2, 1245, 30)"
      ]
     },
     "execution_count": 103,
     "metadata": {},
     "output_type": "execute_result"
    }
   ],
   "source": [
    "ctc_matrix = BaselineASR.predict(X_test)\n",
    "ctc_matrix.shape"
   ]
  },
  {
   "cell_type": "markdown",
   "metadata": {},
   "source": [
    "Calculate and display word error rate."
   ]
  },
  {
   "cell_type": "code",
   "execution_count": 104,
   "metadata": {
    "ExecuteTime": {
     "end_time": "2020-02-04T09:02:12.875000Z",
     "start_time": "2020-02-04T09:02:12.411000Z"
    }
   },
   "outputs": [],
   "source": [
    "def get_y(filename):\n",
    "    with open(filename, 'r') as f:\n",
    "        return f.readline()"
   ]
  },
  {
   "cell_type": "code",
   "execution_count": 105,
   "metadata": {
    "ExecuteTime": {
     "end_time": "2020-02-04T09:02:14.331000Z",
     "start_time": "2020-02-04T09:02:13.405000Z"
    }
   },
   "outputs": [],
   "source": [
    "txts = sorted(glob.glob(test_dir+\"*.txt\"))\n",
    "\n",
    "y_true = [get_y(txt) for txt in txts]\n",
    "y_pred = ctc_decode(ctc_matrix, IDX_TO_CHAR_MAP, greedy=False)"
   ]
  },
  {
   "cell_type": "code",
   "execution_count": 126,
   "metadata": {
    "ExecuteTime": {
     "end_time": "2020-02-04T09:06:51.693000Z",
     "start_time": "2020-02-04T09:06:51.222000Z"
    }
   },
   "outputs": [
    {
     "name": "stdout",
     "output_type": "stream",
     "text": [
      "WER 3.5714 %\n"
     ]
    }
   ],
   "source": [
    "word_error_rate = wer(y_true, y_pred)\n",
    "print('WER %.4f %%' % word_error_rate)"
   ]
  },
  {
   "cell_type": "markdown",
   "metadata": {},
   "source": [
    "Display prediction errors. \n",
    "* Red colors are <span style=\"background-color:rgba(255, 0, 0, 0.23)\">missing word</span>\n",
    "* Green colors are <span style=\"background-color:rgba(0, 128, 0, 0.23)\">insertion word</span>.\n",
    "* Yellow colors are <span style=\"background-color:rgba(255, 165, 0, 0.5)\">substitution word</span> and the references are in parenthesis."
   ]
  },
  {
   "cell_type": "code",
   "execution_count": 130,
   "metadata": {
    "ExecuteTime": {
     "end_time": "2020-02-04T09:18:20.884000Z",
     "start_time": "2020-02-04T09:18:20.334000Z"
    }
   },
   "outputs": [],
   "source": [
    "_ = wer(y_true[0], y_pred[0], write_html=True)"
   ]
  },
  {
   "cell_type": "code",
   "execution_count": 131,
   "metadata": {
    "ExecuteTime": {
     "end_time": "2020-02-04T09:18:24.185000Z",
     "start_time": "2020-02-04T09:18:23.745000Z"
    }
   },
   "outputs": [
    {
     "data": {
      "text/html": [
       "a d a m ,   s e t ,   e n o s ,   k e n a n ,   m a h a l a l <span class=\"r\">e</span> e l ,   y a r e d ,   h e n o k h ,   m e t u s a l a h ,   l a m e k h ,   n u h ,   s e m ,   h a m   d a n   y a f e t . <html><body><head><meta charset=\"utf-8\"></head><style>.g{background-color:#0080004d}.r{background-color:#ff00004d}.y{background-color:#ffa50099}</style></body></html>"
      ],
      "text/plain": [
       "<IPython.core.display.HTML object>"
      ]
     },
     "metadata": {},
     "output_type": "display_data"
    }
   ],
   "source": [
    "with open(\"diff.html\", 'r') as f:\n",
    "    html = f.readlines()[0]\n",
    "display(HTML(html))"
   ]
  }
 ],
 "metadata": {
  "hide_input": false,
  "kernelspec": {
   "display_name": "Python 3",
   "language": "python",
   "name": "python3"
  },
  "language_info": {
   "codemirror_mode": {
    "name": "ipython",
    "version": 3
   },
   "file_extension": ".py",
   "mimetype": "text/x-python",
   "name": "python",
   "nbconvert_exporter": "python",
   "pygments_lexer": "ipython3",
   "version": "3.7.6"
  },
  "toc": {
   "base_numbering": 1,
   "nav_menu": {},
   "number_sections": true,
   "sideBar": true,
   "skip_h1_title": false,
   "title_cell": "Table of Contents",
   "title_sidebar": "Contents",
   "toc_cell": false,
   "toc_position": {},
   "toc_section_display": true,
   "toc_window_display": false
  }
 },
 "nbformat": 4,
 "nbformat_minor": 2
}
