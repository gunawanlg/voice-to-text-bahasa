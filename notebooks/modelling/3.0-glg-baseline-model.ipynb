{
 "cells": [
  {
   "cell_type": "markdown",
   "metadata": {},
   "source": [
    "<span style=\"font-size:36px\"><b>Baseline Model Tutorial</b></span>\n",
    "\n",
    "Copyright &copy; 2020 Gunawan Lumban Gaol\n",
    "\n",
    "Licensed under the Apache License, Version 2.0 (the \"License\"); you may not use this file except in compliance with the License. You may obtain a copy of the License at http://www.apache.org/licenses/LICENSE-2.0\n",
    "\n",
    "Unless required by applicable law or agreed to in writing, software distributed under the License is distributed on an \"AS IS\" BASIS, WITHOUT WARRANTIES OR CONDITIONS OF ANY KIND, either express or implied. See the License for the specific language overning permissions and limitations under the License."
   ]
  },
  {
   "cell_type": "markdown",
   "metadata": {},
   "source": [
    "# Import Packages"
   ]
  },
  {
   "cell_type": "code",
   "execution_count": 19,
   "metadata": {
    "ExecuteTime": {
     "end_time": "2020-02-11T03:14:53.842523Z",
     "start_time": "2020-02-11T03:14:53.259482Z"
    }
   },
   "outputs": [
    {
     "name": "stdout",
     "output_type": "stream",
     "text": [
      "tf.__version__ = 2.1.0\n",
      "The autoreload extension is already loaded. To reload it, use:\n",
      "  %reload_ext autoreload\n"
     ]
    }
   ],
   "source": [
    "import sys\n",
    "import glob\n",
    "\n",
    "import numpy as np\n",
    "import pandas as pd\n",
    "from IPython.core.display import display, HTML\n",
    "import tensorflow as tf\n",
    "import tensorflow.keras.backend as K\n",
    "print(\"tf.__version__ = \"+tf.__version__)\n",
    "\n",
    "from gurih.data.data_generator import DataGenerator\n",
    "from gurih.models.model import BaselineASRModel\n",
    "from gurih.models.model_utils import CharMap, ctc_decode, wer\n",
    "\n",
    "%load_ext autoreload\n",
    "%autoreload 2"
   ]
  },
  {
   "cell_type": "markdown",
   "metadata": {},
   "source": [
    "# Train Model"
   ]
  },
  {
   "cell_type": "markdown",
   "metadata": {},
   "source": [
    "Define constant for ASR Model."
   ]
  },
  {
   "cell_type": "code",
   "execution_count": 20,
   "metadata": {
    "ExecuteTime": {
     "end_time": "2020-02-11T03:14:55.553647Z",
     "start_time": "2020-02-11T03:14:55.018615Z"
    }
   },
   "outputs": [],
   "source": [
    "CHAR_TO_IDX_MAP = CharMap.CHAR_TO_IDX_MAP\n",
    "IDX_TO_CHAR_MAP = CharMap.IDX_TO_CHAR_MAP\n",
    "\n",
    "MAX_SEQ_LENGTH = 3000\n",
    "MAX_LABEL_LENGTH = 300\n",
    "BATCH_SIZE = 16\n",
    "MAX_EPOCHS = 5000"
   ]
  },
  {
   "cell_type": "markdown",
   "metadata": {},
   "source": [
    "Create and compile keras model."
   ]
  },
  {
   "cell_type": "code",
   "execution_count": 21,
   "metadata": {
    "ExecuteTime": {
     "end_time": "2020-02-11T03:14:57.718807Z",
     "start_time": "2020-02-11T03:14:56.308718Z"
    },
    "scrolled": false
   },
   "outputs": [
    {
     "name": "stdout",
     "output_type": "stream",
     "text": [
      "Model directory is set to ../../models/\n",
      "Documentation directory is set to ../../docs/\n",
      "\n",
      "Model: \"BaselineASR_f200_k11_s2_pvalid_nlstm200_ndense29\"\n",
      "_________________________________________________________________\n",
      "Layer (type)                 Output Shape              Param #   \n",
      "=================================================================\n",
      "the_input (InputLayer)       [(None, 3000, 39)]        0         \n",
      "_________________________________________________________________\n",
      "masking (Masking)            (None, 3000, 39)          0         \n",
      "_________________________________________________________________\n",
      "conv1 (Conv1D)               (None, 1495, 200)         86000     \n",
      "_________________________________________________________________\n",
      "bidirectional (Bidirectional (None, 1495, 400)         641600    \n",
      "_________________________________________________________________\n",
      "the_output (TimeDistributed) (None, 1495, 30)          12030     \n",
      "=================================================================\n",
      "Total params: 739,630\n",
      "Trainable params: 739,630\n",
      "Non-trainable params: 0\n",
      "_________________________________________________________________\n"
     ]
    }
   ],
   "source": [
    "BaselineASR = BaselineASRModel(input_shape=(MAX_SEQ_LENGTH, 39), vocab_len=len(CharMap()))\n",
    "BaselineASR.compile()"
   ]
  },
  {
   "cell_type": "markdown",
   "metadata": {},
   "source": [
    "Get model output sequence length for ctc input. This is required as we are using custom `Lambda` layer inside model."
   ]
  },
  {
   "cell_type": "code",
   "execution_count": 22,
   "metadata": {
    "ExecuteTime": {
     "end_time": "2020-02-11T03:14:59.055904Z",
     "start_time": "2020-02-11T03:14:58.544875Z"
    }
   },
   "outputs": [
    {
     "data": {
      "text/plain": [
       "1495"
      ]
     },
     "execution_count": 22,
     "metadata": {},
     "output_type": "execute_result"
    }
   ],
   "source": [
    "CTC_INPUT_LENGTH = BaselineASR.model.get_layer('the_output').output.shape[1]\n",
    "CTC_INPUT_LENGTH"
   ]
  },
  {
   "cell_type": "markdown",
   "metadata": {},
   "source": [
    "## Train using `fit_generator()`"
   ]
  },
  {
   "cell_type": "markdown",
   "metadata": {},
   "source": [
    "Prepare data using `DataGenerator`."
   ]
  },
  {
   "cell_type": "code",
   "execution_count": 23,
   "metadata": {
    "ExecuteTime": {
     "end_time": "2020-02-11T03:15:21.153558Z",
     "start_time": "2020-02-11T03:15:20.593502Z"
    }
   },
   "outputs": [],
   "source": [
    "train_dir = \"../../dataset/interim/Model-010a/train/\"\n",
    "valid_dir = \"../../dataset/interim/Model-010a/valid/\"\n",
    "# test_dir = \"../../test/test_data/data_generator/\""
   ]
  },
  {
   "cell_type": "markdown",
   "metadata": {},
   "source": [
    "Directories must contain all `.npz` and `.txt` files required for `DataGenerator`."
   ]
  },
  {
   "cell_type": "code",
   "execution_count": 24,
   "metadata": {
    "ExecuteTime": {
     "end_time": "2020-02-11T03:15:22.332645Z",
     "start_time": "2020-02-11T03:15:21.772616Z"
    }
   },
   "outputs": [],
   "source": [
    "train_generator = DataGenerator(input_dir=train_dir,\n",
    "                                max_seq_length=MAX_SEQ_LENGTH,\n",
    "                                max_label_length=MAX_LABEL_LENGTH,\n",
    "                                ctc_input_length=CTC_INPUT_LENGTH,\n",
    "                                char_to_idx_map=CHAR_TO_IDX_MAP,\n",
    "                                batch_size=BATCH_SIZE)\n",
    "\n",
    "validation_generator = DataGenerator(input_dir=valid_dir,\n",
    "                                     max_seq_length=MAX_SEQ_LENGTH,\n",
    "                                     max_label_length=MAX_LABEL_LENGTH,\n",
    "                                     ctc_input_length=CTC_INPUT_LENGTH,\n",
    "                                     char_to_idx_map=CHAR_TO_IDX_MAP,\n",
    "                                     batch_size=BATCH_SIZE)"
   ]
  },
  {
   "cell_type": "markdown",
   "metadata": {},
   "source": [
    "Fit model. Pass validation generator if using `EarlyStopping` and `ModelCheckpoint` callbacks."
   ]
  },
  {
   "cell_type": "code",
   "execution_count": 25,
   "metadata": {
    "ExecuteTime": {
     "end_time": "2020-02-11T03:15:31.883308Z",
     "start_time": "2020-02-11T03:15:31.369290Z"
    }
   },
   "outputs": [],
   "source": [
    "BaselineASR._callbacks(min_delta=1e-4, patience=50)"
   ]
  },
  {
   "cell_type": "code",
   "execution_count": 26,
   "metadata": {
    "ExecuteTime": {
     "end_time": "2020-02-11T06:37:28.179824Z",
     "start_time": "2020-02-11T03:15:33.726387Z"
    },
    "scrolled": true
   },
   "outputs": [
    {
     "name": "stdout",
     "output_type": "stream",
     "text": [
      "WARNING:tensorflow:sample_weight modes were coerced from\n",
      "  {'ctc': '...'}\n",
      "    to  \n",
      "  ['...']\n",
      "WARNING:tensorflow:sample_weight modes were coerced from\n",
      "  {'ctc': '...'}\n",
      "    to  \n",
      "  ['...']\n",
      "Train for 37 steps, validate for 25 steps\n",
      "Epoch 1/5000\n",
      "37/37 [==============================] - 468s 13s/step - loss: 1413.5064 - val_loss: 1155.1588\n",
      "Epoch 2/5000\n",
      "37/37 [==============================] - 477s 13s/step - loss: 1061.9293 - val_loss: 1072.1651\n",
      "Epoch 3/5000\n",
      "37/37 [==============================] - 446s 12s/step - loss: 1004.9710 - val_loss: 1036.3027\n",
      "Epoch 4/5000\n",
      "37/37 [==============================] - 484s 13s/step - loss: 953.8460 - val_loss: 938.3067\n",
      "Epoch 5/5000\n",
      "37/37 [==============================] - 420s 11s/step - loss: 754.2203 - val_loss: 729.0567\n",
      "Epoch 6/5000\n",
      "37/37 [==============================] - 449s 12s/step - loss: 696.4800 - val_loss: 719.6434\n",
      "Epoch 7/5000\n",
      "37/37 [==============================] - 499s 13s/step - loss: 691.0630 - val_loss: 711.2839\n",
      "Epoch 8/5000\n",
      "37/37 [==============================] - 451s 12s/step - loss: 681.7589 - val_loss: 696.3371\n",
      "Epoch 9/5000\n",
      "37/37 [==============================] - 474s 13s/step - loss: 651.7127 - val_loss: 652.6895\n",
      "Epoch 10/5000\n",
      "37/37 [==============================] - 526s 14s/step - loss: 583.7705 - val_loss: 582.6188\n",
      "Epoch 11/5000\n",
      "37/37 [==============================] - 451s 12s/step - loss: 504.4007 - val_loss: 528.4677\n",
      "Epoch 12/5000\n",
      "37/37 [==============================] - 409s 11s/step - loss: 456.8357 - val_loss: 496.2731\n",
      "Epoch 13/5000\n",
      "37/37 [==============================] - 408s 11s/step - loss: 420.4806 - val_loss: 460.6130\n",
      "Epoch 14/5000\n",
      "37/37 [==============================] - 424s 11s/step - loss: 393.4622 - val_loss: 438.6388\n",
      "Epoch 15/5000\n",
      "37/37 [==============================] - 417s 11s/step - loss: 371.8291 - val_loss: 424.4062\n",
      "Epoch 16/5000\n",
      "37/37 [==============================] - 411s 11s/step - loss: 352.1490 - val_loss: 411.3121\n",
      "Epoch 17/5000\n",
      "37/37 [==============================] - 423s 11s/step - loss: 335.7187 - val_loss: 398.4752\n",
      "Epoch 18/5000\n",
      "37/37 [==============================] - 470s 13s/step - loss: 324.4931 - val_loss: 388.2636\n",
      "Epoch 19/5000\n",
      "37/37 [==============================] - 511s 14s/step - loss: 310.0756 - val_loss: 382.1434\n",
      "Epoch 20/5000\n",
      "37/37 [==============================] - 527s 14s/step - loss: 300.4535 - val_loss: 374.2661\n",
      "Epoch 21/5000\n",
      "37/37 [==============================] - 528s 14s/step - loss: 291.7731 - val_loss: 370.8555\n",
      "Epoch 22/5000\n",
      "37/37 [==============================] - 467s 13s/step - loss: 280.0714 - val_loss: 362.4425\n",
      "Epoch 23/5000\n",
      "37/37 [==============================] - 469s 13s/step - loss: 271.3604 - val_loss: 362.3456\n",
      "Epoch 24/5000\n",
      "37/37 [==============================] - 497s 13s/step - loss: 264.0867 - val_loss: 357.0887\n",
      "Epoch 25/5000\n",
      "37/37 [==============================] - 510s 14s/step - loss: 257.2043 - val_loss: 362.1629\n",
      "Epoch 26/5000\n",
      "37/37 [==============================] - 498s 13s/step - loss: 250.3670 - val_loss: 357.8268\n"
     ]
    }
   ],
   "source": [
    "BaselineASR.fit_generator(train_generator=train_generator,\n",
    "                          validation_generator=validation_generator,\n",
    "                          epochs=MAX_EPOCHS)"
   ]
  },
  {
   "cell_type": "markdown",
   "metadata": {},
   "source": [
    "See training plots."
   ]
  },
  {
   "cell_type": "code",
   "execution_count": 27,
   "metadata": {
    "ExecuteTime": {
     "end_time": "2020-02-11T06:41:10.941808Z",
     "start_time": "2020-02-11T06:41:10.126775Z"
    }
   },
   "outputs": [
    {
     "data": {
      "image/png": "[encoded data removed]",
      "text/plain": [
       "<Figure size 1080x432 with 1 Axes>"
      ]
     },
     "execution_count": 27,
     "metadata": {},
     "output_type": "execute_result"
    }
   ],
   "source": [
    "BaselineASR.plot_history()"
   ]
  },
  {
   "cell_type": "markdown",
   "metadata": {},
   "source": [
    "Evaluate using test data."
   ]
  },
  {
   "cell_type": "code",
   "execution_count": 102,
   "metadata": {
    "ExecuteTime": {
     "end_time": "2020-02-04T09:02:05.849000Z",
     "start_time": "2020-02-04T09:02:05.365000Z"
    }
   },
   "outputs": [
    {
     "data": {
      "text/plain": [
       "(2, 2500, 39)"
      ]
     },
     "execution_count": 102,
     "metadata": {},
     "output_type": "execute_result"
    }
   ],
   "source": [
    "test_generator = DataGenerator(input_dir=test_dir,\n",
    "                                max_seq_length=MAX_SEQ_LENGTH,\n",
    "                                max_label_length=MAX_LABEL_LENGTH,\n",
    "                                ctc_input_length=CTC_INPUT_LENGTH,\n",
    "                                char_to_idx_map=CHAR_TO_IDX_MAP,\n",
    "                                batch_size=2,\n",
    "                                shuffle=False) # set to False to ensure correct alignment between y_true and y_pred\n",
    "\n",
    "X_test = test_generator[0][0]['the_input']\n",
    "X_test.shape"
   ]
  },
  {
   "cell_type": "code",
   "execution_count": 103,
   "metadata": {
    "ExecuteTime": {
     "end_time": "2020-02-04T09:02:12.376000Z",
     "start_time": "2020-02-04T09:02:11.540000Z"
    }
   },
   "outputs": [
    {
     "data": {
      "text/plain": [
       "(2, 1245, 30)"
      ]
     },
     "execution_count": 103,
     "metadata": {},
     "output_type": "execute_result"
    }
   ],
   "source": [
    "ctc_matrix = BaselineASR.predict(X_test)\n",
    "ctc_matrix.shape"
   ]
  },
  {
   "cell_type": "markdown",
   "metadata": {},
   "source": [
    "Calculate and display word error rate."
   ]
  },
  {
   "cell_type": "code",
   "execution_count": 104,
   "metadata": {
    "ExecuteTime": {
     "end_time": "2020-02-04T09:02:12.875000Z",
     "start_time": "2020-02-04T09:02:12.411000Z"
    }
   },
   "outputs": [],
   "source": [
    "def get_y(filename):\n",
    "    with open(filename, 'r') as f:\n",
    "        return f.readline()"
   ]
  },
  {
   "cell_type": "code",
   "execution_count": 105,
   "metadata": {
    "ExecuteTime": {
     "end_time": "2020-02-04T09:02:14.331000Z",
     "start_time": "2020-02-04T09:02:13.405000Z"
    }
   },
   "outputs": [],
   "source": [
    "txts = sorted(glob.glob(test_dir+\"*.txt\"))\n",
    "\n",
    "y_true = [get_y(txt) for txt in txts]\n",
    "y_pred = ctc_decode(ctc_matrix, IDX_TO_CHAR_MAP, greedy=False)"
   ]
  },
  {
   "cell_type": "code",
   "execution_count": 126,
   "metadata": {
    "ExecuteTime": {
     "end_time": "2020-02-04T09:06:51.693000Z",
     "start_time": "2020-02-04T09:06:51.222000Z"
    }
   },
   "outputs": [
    {
     "name": "stdout",
     "output_type": "stream",
     "text": [
      "WER 3.5714 %\n"
     ]
    }
   ],
   "source": [
    "word_error_rate = wer(y_true, y_pred)\n",
    "print('WER %.4f %%' % word_error_rate)"
   ]
  },
  {
   "cell_type": "markdown",
   "metadata": {},
   "source": [
    "Display prediction errors. \n",
    "* Red colors are <span style=\"background-color:rgba(255, 0, 0, 0.23)\">missing word</span>\n",
    "* Green colors are <span style=\"background-color:rgba(0, 128, 0, 0.23)\">insertion word</span>.\n",
    "* Yellow colors are <span style=\"background-color:rgba(255, 165, 0, 0.5)\">substitution word</span> and the references are in parenthesis."
   ]
  },
  {
   "cell_type": "code",
   "execution_count": 130,
   "metadata": {
    "ExecuteTime": {
     "end_time": "2020-02-04T09:18:20.884000Z",
     "start_time": "2020-02-04T09:18:20.334000Z"
    }
   },
   "outputs": [],
   "source": [
    "_ = wer(y_true[0], y_pred[0], write_html=True)"
   ]
  },
  {
   "cell_type": "code",
   "execution_count": 131,
   "metadata": {
    "ExecuteTime": {
     "end_time": "2020-02-04T09:18:24.185000Z",
     "start_time": "2020-02-04T09:18:23.745000Z"
    }
   },
   "outputs": [
    {
     "data": {
      "text/html": [
       "a d a m ,   s e t ,   e n o s ,   k e n a n ,   m a h a l a l <span class=\"r\">e</span> e l ,   y a r e d ,   h e n o k h ,   m e t u s a l a h ,   l a m e k h ,   n u h ,   s e m ,   h a m   d a n   y a f e t . <html><body><head><meta charset=\"utf-8\"></head><style>.g{background-color:#0080004d}.r{background-color:#ff00004d}.y{background-color:#ffa50099}</style></body></html>"
      ],
      "text/plain": [
       "<IPython.core.display.HTML object>"
      ]
     },
     "metadata": {},
     "output_type": "display_data"
    }
   ],
   "source": [
    "with open(\"diff.html\", 'r') as f:\n",
    "    html = f.readlines()[0]\n",
    "display(HTML(html))"
   ]
  }
 ],
 "metadata": {
  "hide_input": false,
  "kernelspec": {
   "display_name": "Python 3",
   "language": "python",
   "name": "python3"
  },
  "language_info": {
   "codemirror_mode": {
    "name": "ipython",
    "version": 3
   },
   "file_extension": ".py",
   "mimetype": "text/x-python",
   "name": "python",
   "nbconvert_exporter": "python",
   "pygments_lexer": "ipython3",
   "version": "3.7.6"
  },
  "toc": {
   "base_numbering": 1,
   "nav_menu": {},
   "number_sections": true,
   "sideBar": true,
   "skip_h1_title": false,
   "title_cell": "Table of Contents",
   "title_sidebar": "Contents",
   "toc_cell": false,
   "toc_position": {},
   "toc_section_display": true,
   "toc_window_display": false
  }
 },
 "nbformat": 4,
 "nbformat_minor": 2
}
