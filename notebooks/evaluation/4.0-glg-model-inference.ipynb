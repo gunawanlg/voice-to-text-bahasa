{
 "cells": [
  {
   "cell_type": "markdown",
   "metadata": {},
   "source": [
    "<span style=\"font-size:36px\"><b>Model Inference</b></span>\n",
    "\n",
    "Copyright &copy; 2020 Gunawan Lumban Gaol\n",
    "\n",
    "Licensed under the Apache License, Version 2.0 (the \"License\"); you may not use this file except in compliance with the License. You may obtain a copy of the License at http://www.apache.org/licenses/LICENSE-2.0\n",
    "\n",
    "Unless required by applicable law or agreed to in writing, software distributed under the License is distributed on an \"AS IS\" BASIS, WITHOUT WARRANTIES OR CONDITIONS OF ANY KIND, either express or implied. See the License for the specific language overning permissions and limitations under the License."
   ]
  },
  {
   "cell_type": "markdown",
   "metadata": {},
   "source": [
    "# Import Packages"
   ]
  },
  {
   "cell_type": "code",
   "execution_count": 1,
   "metadata": {
    "ExecuteTime": {
     "end_time": "2020-02-17T06:48:42.753690Z",
     "start_time": "2020-02-17T06:48:37.076690Z"
    }
   },
   "outputs": [],
   "source": [
    "import os\n",
    "import sys\n",
    "import glob\n",
    "import warnings\n",
    "\n",
    "import numpy as np\n",
    "import IPython.display as ipd\n",
    "import librosa\n",
    "import librosa.display as ld\n",
    "import matplotlib.pyplot as plt\n",
    "from pydub.utils import mediainfo\n",
    "from ipywidgets import interact\n",
    "from sklearn.pipeline import Pipeline\n",
    "from tensorflow.keras.models import load_model\n",
    "\n",
    "from gurih.data.splitter import Splitter\n",
    "from gurih.data.normalizer import AudioNormalizer\n",
    "from gurih.features.extractor import MFCCFeatureExtractor\n",
    "from gurih.models.model import BaselineASRModel\n",
    "from gurih.models.decoder import CTCDecoder\n",
    "from gurih.models.utils import CharMap\n",
    "\n",
    "%load_ext autoreload\n",
    "%autoreload 2"
   ]
  },
  {
   "cell_type": "markdown",
   "metadata": {},
   "source": [
    "# Load Saved Model"
   ]
  },
  {
   "cell_type": "code",
   "execution_count": 2,
   "metadata": {
    "ExecuteTime": {
     "end_time": "2020-02-17T06:48:43.252690Z",
     "start_time": "2020-02-17T06:48:42.753690Z"
    }
   },
   "outputs": [],
   "source": [
    "# Configuration file stored in .json\n",
    "# TODO: read configuration file and create inference Pipeline"
   ]
  },
  {
   "cell_type": "code",
   "execution_count": 3,
   "metadata": {
    "ExecuteTime": {
     "end_time": "2020-02-17T06:48:52.059690Z",
     "start_time": "2020-02-17T06:48:50.844690Z"
    }
   },
   "outputs": [
    {
     "name": "stdout",
     "output_type": "stream",
     "text": [
      "Model directory is set to ../../models/\n",
      "Documentation directory is set to ../../docs/\n",
      "\n",
      "Model: \"BaselineASR_f200_k11_s2_pvalid_nlstm200_ndense29\"\n",
      "_________________________________________________________________\n",
      "Layer (type)                 Output Shape              Param #   \n",
      "=================================================================\n",
      "the_input (InputLayer)       [(None, 3000, 39)]        0         \n",
      "_________________________________________________________________\n",
      "masking (Masking)            (None, 3000, 39)          0         \n",
      "_________________________________________________________________\n",
      "conv1 (Conv1D)               (None, 1495, 200)         86000     \n",
      "_________________________________________________________________\n",
      "bidirectional (Bidirectional (None, 1495, 400)         641600    \n",
      "_________________________________________________________________\n",
      "the_output (TimeDistributed) (None, 1495, 30)          12030     \n",
      "=================================================================\n",
      "Total params: 739,630\n",
      "Trainable params: 739,630\n",
      "Non-trainable params: 0\n",
      "_________________________________________________________________\n"
     ]
    }
   ],
   "source": [
    "model = BaselineASRModel(input_shape=(3000, 39), vocab_len=29, training=False)  # pass false to not save model config\n",
    "model.compile()"
   ]
  },
  {
   "cell_type": "code",
   "execution_count": 4,
   "metadata": {
    "ExecuteTime": {
     "end_time": "2020-02-17T06:48:52.539690Z",
     "start_time": "2020-02-17T06:48:52.059690Z"
    }
   },
   "outputs": [
    {
     "name": "stdout",
     "output_type": "stream",
     "text": [
      "\n",
      "Loaded model D:\\Data Science Academy (2)\\voice-to-text-bahasa\\models\\Model010b\\BaselineASR_f200_k11_s2_pvalid_nlstm200_ndense29.h5 from disk.\n"
     ]
    }
   ],
   "source": [
    "filename = os.path.abspath(\"../../models/Model010b/BaselineASR_f200_k11_s2_pvalid_nlstm200_ndense29.h5\") # must provide abs path\n",
    "model.load(filename)"
   ]
  },
  {
   "cell_type": "markdown",
   "metadata": {},
   "source": [
    "# Create Audio Transcript"
   ]
  },
  {
   "cell_type": "code",
   "execution_count": 5,
   "metadata": {
    "ExecuteTime": {
     "end_time": "2020-02-17T06:48:54.502690Z",
     "start_time": "2020-02-17T06:48:54.000690Z"
    }
   },
   "outputs": [],
   "source": [
    "# Single file\n",
    "# mp3_file = \"blabla.mp3\"\n",
    "# X = [mp3_file]"
   ]
  },
  {
   "cell_type": "code",
   "execution_count": 6,
   "metadata": {
    "ExecuteTime": {
     "end_time": "2020-02-17T06:48:55.060690Z",
     "start_time": "2020-02-17T06:48:54.502690Z"
    }
   },
   "outputs": [
    {
     "name": "stdout",
     "output_type": "stream",
     "text": [
      "Total audio files: 11\n"
     ]
    }
   ],
   "source": [
    "# Multiple files from a directory\n",
    "input_dir = \"../../dataset/sample/\"\n",
    "mp3_files = glob.glob(input_dir+\"*.mp3\")\n",
    "X = mp3_files\n",
    "print(f\"Total audio files: {len(X)}\")"
   ]
  },
  {
   "cell_type": "code",
   "execution_count": 41,
   "metadata": {
    "ExecuteTime": {
     "end_time": "2020-02-17T07:06:54.320690Z",
     "start_time": "2020-02-17T07:06:53.829690Z"
    }
   },
   "outputs": [
    {
     "data": {
      "text/plain": [
       "['../../dataset/sample\\\\2019-09-03_Annisa Rahmawaty_3903350662_INT.mp3',\n",
       " '../../dataset/sample\\\\20190807_3902961838_Putri Despita_PTS.mp3',\n",
       " '../../dataset/sample\\\\20190819_3903089815_Muhamad Iqbal_PTS.mp3',\n",
       " '../../dataset/sample\\\\20190904_3900300934_Denny Fauzi_ NI.mp3',\n",
       " '../../dataset/sample\\\\20190905_3903379373_Noni Simangunsong_INT.mp3',\n",
       " '../../dataset/sample\\\\20190905_3903384721_Eva Suryaningsih.mp3',\n",
       " '../../dataset/sample\\\\202102_1.mp3',\n",
       " '../../dataset/sample\\\\239382.mp3',\n",
       " '../../dataset/sample\\\\Agung Ibrahim_85363151864_3903181630_20190821_INT.mp3',\n",
       " '../../dataset/sample\\\\CRS_M4_RTP_11766328359.mp3',\n",
       " '../../dataset/sample\\\\CRS_PreDD_PTP_11750082079.mp3']"
      ]
     },
     "execution_count": 41,
     "metadata": {},
     "output_type": "execute_result"
    }
   ],
   "source": [
    "X"
   ]
  },
  {
   "cell_type": "markdown",
   "metadata": {},
   "source": [
    "Create transcription from input audio by following steps:\n",
    "1. If channels > 1, split audio files into each channel\n",
    "2. For each channel, if audio `frames > max_seq_length` then the audio will be splitted before transcription"
   ]
  },
  {
   "cell_type": "code",
   "execution_count": 42,
   "metadata": {
    "ExecuteTime": {
     "end_time": "2020-02-17T07:06:58.885690Z",
     "start_time": "2020-02-17T07:06:58.424690Z"
    }
   },
   "outputs": [],
   "source": [
    "x = np.array([X[1]])"
   ]
  },
  {
   "cell_type": "markdown",
   "metadata": {},
   "source": [
    "# Test Mono"
   ]
  },
  {
   "cell_type": "code",
   "execution_count": 35,
   "metadata": {
    "ExecuteTime": {
     "end_time": "2020-02-17T07:05:18.396690Z",
     "start_time": "2020-02-17T07:05:17.875690Z"
    }
   },
   "outputs": [],
   "source": [
    "sr = 16000"
   ]
  },
  {
   "cell_type": "code",
   "execution_count": 36,
   "metadata": {
    "ExecuteTime": {
     "end_time": "2020-02-17T07:05:29.174690Z",
     "start_time": "2020-02-17T07:05:18.396690Z"
    }
   },
   "outputs": [
    {
     "data": {
      "text/plain": [
       "(1, 3209927)"
      ]
     },
     "execution_count": 36,
     "metadata": {},
     "output_type": "execute_result"
    }
   ],
   "source": [
    "# Test mono audio\n",
    "normalizer = AudioNormalizer(sample_rate=sr,\n",
    "                             mono=True,\n",
    "                             write_audio_output=False, # don't output normalized audio\n",
    "                             output_dir=\"\",\n",
    "                             encode=False) # don't output .json\n",
    "x_norm = normalizer.fit_transform(x)"
   ]
  },
  {
   "cell_type": "markdown",
   "metadata": {},
   "source": [
    "Perform next process for each channel."
   ]
  },
  {
   "cell_type": "code",
   "execution_count": 37,
   "metadata": {
    "ExecuteTime": {
     "end_time": "2020-02-17T07:05:36.927690Z",
     "start_time": "2020-02-17T07:05:31.175690Z"
    }
   },
   "outputs": [
    {
     "name": "stdout",
     "output_type": "stream",
     "text": [
      "(1, 3209927)\n",
      "(1, 7, 480081)\n",
      "(7, 3000, 39)\n",
      "(7, 1495, 30)\n",
      "['', '', 'a', '', '', '', '']\n"
     ]
    }
   ],
   "source": [
    "for x_c in x_norm[0]:  # on each channel\n",
    "    x_c = np.expand_dims(x_c, axis=0)\n",
    "    print(x_c.shape)\n",
    "    splitter = Splitter(max_frame_length=16000*30+81,\n",
    "                        strides=16000*30+81,\n",
    "                        padding='same',\n",
    "                        low_memory=False)\n",
    "    x_splitted = splitter.fit_transform(x_c)\n",
    "    print(x_splitted.shape)\n",
    "    \n",
    "    \n",
    "    mfcc_extractor = MFCCFeatureExtractor(sample_rate=sr,\n",
    "                                      frame_size=0.025,\n",
    "                                      frame_stride=0.01,\n",
    "                                      filter_num=26,\n",
    "                                      cep_num=13,\n",
    "                                      NFFT=512,\n",
    "                                      low_freq=0,\n",
    "                                      high_freq=None,\n",
    "                                      pre_emphasis_coeff=0.97,\n",
    "                                      cep_lifter=22,\n",
    "                                      dct_type=2,\n",
    "                                      dct_norm=\"ortho\",\n",
    "                                      append_energy=True,\n",
    "                                      append_delta=True,\n",
    "                                      low_memory=False,\n",
    "                                      write_output=False,\n",
    "                                      output_dir=\".\")\n",
    "\n",
    "    x_freq = mfcc_extractor.fit_transform(x_splitted[0])\n",
    "    print(x_freq.shape)\n",
    "    \n",
    "    ctc_matrix = model.predict(x_freq, low_memory=False)\n",
    "    print(ctc_matrix.shape)\n",
    "    decoder = CTCDecoder(CharMap.IDX_TO_CHAR_MAP)\n",
    "    decoder.fit(ctc_matrix)\n",
    "    y_pred = decoder.predict(ctc_matrix)\n",
    "    print(y_pred)"
   ]
  },
  {
   "cell_type": "markdown",
   "metadata": {},
   "source": [
    "# Test Stereo"
   ]
  },
  {
   "cell_type": "code",
   "execution_count": 116,
   "metadata": {
    "ExecuteTime": {
     "end_time": "2020-02-17T07:50:42.719690Z",
     "start_time": "2020-02-17T07:50:42.167690Z"
    }
   },
   "outputs": [],
   "source": [
    "sr = 16000"
   ]
  },
  {
   "cell_type": "code",
   "execution_count": 117,
   "metadata": {
    "ExecuteTime": {
     "end_time": "2020-02-17T07:50:43.750690Z",
     "start_time": "2020-02-17T07:50:42.722690Z"
    }
   },
   "outputs": [
    {
     "data": {
      "text/plain": [
       "(2, 2097216)"
      ]
     },
     "execution_count": 117,
     "metadata": {},
     "output_type": "execute_result"
    }
   ],
   "source": [
    "# Test mono audio\n",
    "normalizer = AudioNormalizer(sample_rate=sr,\n",
    "                             mono=False,\n",
    "                             write_audio_output=False, # don't output normalized audio\n",
    "                             output_dir=\"\",\n",
    "                             encode=False) # don't output .json\n",
    "x_norm = normalizer.fit_transform(x)\n",
    "x_norm[0].shape"
   ]
  },
  {
   "cell_type": "code",
   "execution_count": 126,
   "metadata": {
    "ExecuteTime": {
     "end_time": "2020-02-17T07:55:03.157690Z",
     "start_time": "2020-02-17T07:54:48.264690Z"
    }
   },
   "outputs": [
    {
     "name": "stdout",
     "output_type": "stream",
     "text": [
      "(1, 2097216)\n",
      "(1, 5, 480081)\n",
      "(1, 3000, 39)\n",
      "(1, 3000, 39)\n",
      "(1, 3000, 39)\n",
      "(1, 3000, 39)\n",
      "(1, 3000, 39)\n",
      "(5, 3000, 39)\n",
      "(5, 1495, 30)\n",
      "['', '', '', 'g', '']\n"
     ]
    },
    {
     "data": {
      "image/png": "[encoded data removed]",
      "text/plain": [
       "<Figure size 1080x432 with 2 Axes>"
      ]
     },
     "metadata": {
      "needs_background": "light"
     },
     "output_type": "display_data"
    },
    {
     "name": "stdout",
     "output_type": "stream",
     "text": [
      "\n",
      "(1, 2097216)\n",
      "(1, 5, 480081)\n",
      "(1, 3000, 39)\n",
      "(1, 3000, 39)\n",
      "(1, 3000, 39)\n",
      "(1, 3000, 39)\n",
      "(1, 3000, 39)\n",
      "(5, 3000, 39)\n",
      "(5, 1495, 30)\n",
      "['', '', '', '', '']\n"
     ]
    },
    {
     "data": {
      "image/png": "[encoded data removed]",
      "text/plain": [
       "<Figure size 1080x432 with 2 Axes>"
      ]
     },
     "metadata": {
      "needs_background": "light"
     },
     "output_type": "display_data"
    },
    {
     "name": "stdout",
     "output_type": "stream",
     "text": [
      "\n"
     ]
    }
   ],
   "source": [
    "for x_c in x_norm[0]:  # on each channel\n",
    "    x_c = np.expand_dims(x_c, axis=0)\n",
    "    print(x_c.shape)\n",
    "    splitter = Splitter(max_frame_length=16000*30+81,\n",
    "                        strides=16000*30+81,\n",
    "                        padding='same',\n",
    "                        low_memory=False)\n",
    "    x_splitted = splitter.fit_transform(x_c)\n",
    "    print(x_splitted.shape)\n",
    "    \n",
    "    x_freqs = []\n",
    "    for split in x_splitted[0]:\n",
    "        split = np.expand_dims(split, axis=0)\n",
    "        mfcc_extractor = MFCCFeatureExtractor(sample_rate=sr,\n",
    "                                              frame_size=0.025,\n",
    "                                              frame_stride=0.01,\n",
    "                                              filter_num=26,\n",
    "                                              cep_num=13,\n",
    "                                              NFFT=512,\n",
    "                                              low_freq=0,\n",
    "                                              high_freq=None,\n",
    "                                              pre_emphasis_coeff=0.97,\n",
    "                                              cep_lifter=22,\n",
    "                                              dct_type=2,\n",
    "                                              dct_norm=\"ortho\",\n",
    "                                              append_energy=True,\n",
    "                                              append_delta=True,\n",
    "                                              low_memory=False,\n",
    "                                              write_output=False,\n",
    "                                              output_dir=\".\")\n",
    "\n",
    "        x_freq = mfcc_extractor.fit_transform(split)\n",
    "        x_freqs.extend(x_freq)\n",
    "        print(x_freq.shape)\n",
    "    x_freqs = np.array(x_freqs)\n",
    "    print(x_freqs.shape)\n",
    "    \n",
    "    ctc_matrix = model.predict(x_freqs, low_memory=False)\n",
    "    print(ctc_matrix.shape)\n",
    "    decoder = CTCDecoder(CharMap.IDX_TO_CHAR_MAP)\n",
    "    decoder.fit(ctc_matrix)\n",
    "    y_pred = decoder.predict(ctc_matrix)\n",
    "    print(y_pred)\n",
    "    \n",
    "    # Create figure for visualization\n",
    "    plt.figure(figsize=(15, 6))\n",
    "    plt.subplot(2, 1, 1)\n",
    "    _ = ld.waveplot(np.asfortranarray(x_c), sr=sr)\n",
    "    plt.title(\"Normalized Audio\")\n",
    "    plt.subplot(2, 1, 2)\n",
    "    _ = ld.specshow(x_freqs.reshape(-1, 39).T, sr=sr, x_axis='time', y_axis='log')\n",
    "#     _ = ld.specshow(x_freq[0].T, sr=sr, x_axis='time', y_axis='log')\n",
    "    plt.title(\"MFCC Features Audio\")\n",
    "    plt.tight_layout()\n",
    "    plt.show()\n",
    "    print()"
   ]
  },
  {
   "cell_type": "code",
   "execution_count": 17,
   "metadata": {
    "ExecuteTime": {
     "end_time": "2020-02-17T05:09:36.213690Z",
     "start_time": "2020-02-17T05:09:36.202690Z"
    }
   },
   "outputs": [],
   "source": [
    "def infer(x, model, sr=16000, force_mono=False):\n",
    "    \"\"\"\n",
    "    Given input audio frames, generate transcription string.\n",
    "    \n",
    "    Parameters\n",
    "    ----------\n",
    "    x : np.array[shape=(m,)]\n",
    "        audio input filename\n",
    "    model : gurih.models.model.BaselineASRModel\n",
    "        instance of \"trained\" ASRModel with predict method returning CTC matrix.\n",
    "    sr : int, [default=16000]\n",
    "        sample rate of audio files, equal to sequence_length divided by audio\n",
    "        duration\n",
    "    force_mono : bool, [default=False]\n",
    "        if True, for mono processing even for audio with channel more than 1\n",
    "    \n",
    "    Returns\n",
    "    -------\n",
    "    y_pred : str,\n",
    "        prediction string of given input audio sequence\n",
    "    \"\"\"\n",
    "    if int(mediainfo(x)['channels']) > 1:\n",
    "        if force_mono is True:\n",
    "            normalizer = AudioNormalizer(sample_rate=sr,\n",
    "                                         mono=True,\n",
    "                                         write_audio_output=False, # don't output normalized audio\n",
    "                                         output_dir=\"\",\n",
    "                                         encode=False) # don't output .json\n",
    "            x_norm = normalizer.fit_transform(x)\n",
    "            print(x_norm.shape)\n",
    "            x_freq = mono_process(x_norm, sr)\n",
    "        else:\n",
    "            warnings.warn(\"Performing channel split and transcripting for each channel. \"\\\n",
    "                           \"You can force mono process by passing force_mono=True.\")\n",
    "            normalizer = AudioNormalizer(sample_rate=sr,\n",
    "                                         mono=False,\n",
    "                                         write_audio_output=False, # don't output normalized audio\n",
    "                                         output_dir=\"\",\n",
    "                                         encode=False) # don't output .json\n",
    "            x_norm = normalizer.fit_transform(x)\n",
    "            print(x_norm.shape)\n",
    "            return\n",
    "            # Process for each channel\n",
    "            x_freq = []\n",
    "            for x_c in x_norm[0]:\n",
    "                x_f = mono_process(x_c, sr)\n",
    "                x_freq.append(x_f)\n",
    "    else:\n",
    "        normalizer = AudioNormalizer(sample_rate=sr,\n",
    "                                     mono=True,\n",
    "                                     write_audio_output=False, # don't output normalized audio\n",
    "                                     output_dir=\"\",\n",
    "                                     encode=False) # don't output .json\n",
    "        x_norm = normalizer.fit_transform(x)\n",
    "        x_freq = mono_process(x_norm, sr)\n",
    "    \n",
    "    for x in x_freq:\n",
    "        ctc_matrix = model.predict(x_freq, low_memory=True)\n",
    "        decoder = CTCDecoder(CharMap.IDX_TO_CHAR_MAP)\n",
    "        decoder.fit(ctc_matrix)\n",
    "        y_pred = decoder.predict(ctc_matrix)\n",
    "        print(y_pred)\n",
    "    \n",
    "    return y_pred"
   ]
  },
  {
   "cell_type": "code",
   "execution_count": 18,
   "metadata": {
    "ExecuteTime": {
     "end_time": "2020-02-17T05:09:38.470690Z",
     "start_time": "2020-02-17T05:09:38.464690Z"
    }
   },
   "outputs": [],
   "source": [
    "def mono_process(x_norm, sr=16000, plot=True):\n",
    "    \"\"\"\n",
    "    Process a channel from given audio input filename.\n",
    "    \n",
    "    Parameters\n",
    "    ----------\n",
    "    x_norm : numpy.ndarray[shape=(sequence_length, )]\n",
    "        loaded and normalized audio input sequence\n",
    "    sr : int, [default=16000]\n",
    "        sample rate of audio files, equal to sequence_length divided by audio\n",
    "        duration\n",
    "    plot : bool, [default=True]\n",
    "        wether to plot audio wave and its processes\n",
    "        \n",
    "    Returns\n",
    "    -------\n",
    "    x_freq : numpy.ndarray[shape=(o, max_frame_length, mfcc_features)]\n",
    "        mfcc features of given input audio sequence. 'o' is the number of\n",
    "        splitted audio equals to floor(sequence_length // max_frame_length)\n",
    "    \"\"\"\n",
    "    if x_norm.ndim == 1:\n",
    "        x_norm = np.expand_dims(x_norm, axis=0)\n",
    "\n",
    "    # Split audio\n",
    "    splitter = Splitter(max_frame_length=16000*30+81,\n",
    "                        strides=16000*30+81,\n",
    "                        padding='same',\n",
    "                        low_memory=False)\n",
    "    x_splitted = splitter.fit_transform(x_norm)\n",
    "    \n",
    "    print(x_splitted.shape)\n",
    "    # Extract MFCC Features\n",
    "    for x_chunk in x_splitted:\n",
    "        mfcc_extractor = MFCCFeatureExtractor(sample_rate=sr,\n",
    "                                              frame_size=0.025,\n",
    "                                              frame_stride=0.01,\n",
    "                                              filter_num=26,\n",
    "                                              cep_num=13,\n",
    "                                              NFFT=512,\n",
    "                                              low_freq=0,\n",
    "                                              high_freq=None,\n",
    "                                              pre_emphasis_coeff=0.97,\n",
    "                                              cep_lifter=22,\n",
    "                                              dct_type=2,\n",
    "                                              dct_norm=\"ortho\",\n",
    "                                              append_energy=True,\n",
    "                                              append_delta=True,\n",
    "                                              low_memory=True,\n",
    "                                              write_output=False,\n",
    "                                              output_dir=\".\")\n",
    "\n",
    "        x_freq = mfcc_extractor.fit_transform(x_splitted)    \n",
    "\n",
    "    # Create figure for visualization\n",
    "    if plot is True:\n",
    "        plt.figure(figsize=(15, 6))\n",
    "        plt.subplot(2, 1, 1)\n",
    "        _ = ld.waveplot(np.asfortranarray(x_norm), sr=sr)\n",
    "        plt.title(\"Normalized Audio\")\n",
    "        plt.subplot(2, 1, 2)\n",
    "        _ = ld.specshow(x_freq, sr=sr)\n",
    "        plt.title(\"MFCC Features Audio\")\n",
    "        plt.show()\n",
    "    \n",
    "    return x_freq"
   ]
  },
  {
   "cell_type": "code",
   "execution_count": 11,
   "metadata": {
    "ExecuteTime": {
     "end_time": "2020-02-17T04:47:37.660690Z",
     "start_time": "2020-02-17T04:47:13.012690Z"
    }
   },
   "outputs": [
    {
     "data": {
      "application/vnd.jupyter.widget-view+json": {
       "model_id": "939365dc5970436889eff383fd1dd44a",
       "version_major": 2,
       "version_minor": 0
      },
      "text/plain": [
       "interactive(children=(Dropdown(description='x', options=('../../dataset/sample\\\\202102_1.mp3',), value='../../…"
      ]
     },
     "metadata": {},
     "output_type": "display_data"
    }
   ],
   "source": [
    "@interact\n",
    "def plot_sample(x=X):\n",
    "    data, sr = librosa.load(x, mono=False, sr=22050)\n",
    "    plt.figure(figsize=(12, 7))\n",
    "    plt.subplot(3, 1, 1)\n",
    "    _ = librosa.display.waveplot(data, sr=sr)\n",
    "    plt.title(x)\n",
    "    plt.subplot(3, 1, 2)\n",
    "    _ = librosa.display.waveplot(np.asfortranarray(data[0]), sr=sr)\n",
    "    plt.title(\"Operator Side\")\n",
    "    plt.subplot(3, 1, 3)\n",
    "    _ = librosa.display.waveplot(np.asfortranarray(data[1]), sr=sr)\n",
    "    plt.title(\"Client Side\")\n",
    "    plt.tight_layout()\n",
    "    plt.show()\n",
    "    return ipd.Audio(x)"
   ]
  }
 ],
 "metadata": {
  "hide_input": false,
  "kernelspec": {
   "display_name": "Python [conda env:gurih] *",
   "language": "python",
   "name": "conda-env-gurih-py"
  },
  "language_info": {
   "codemirror_mode": {
    "name": "ipython",
    "version": 3
   },
   "file_extension": ".py",
   "mimetype": "text/x-python",
   "name": "python",
   "nbconvert_exporter": "python",
   "pygments_lexer": "ipython3",
   "version": "3.7.6"
  },
  "toc": {
   "base_numbering": 1,
   "nav_menu": {},
   "number_sections": true,
   "sideBar": true,
   "skip_h1_title": false,
   "title_cell": "Table of Contents",
   "title_sidebar": "Contents",
   "toc_cell": false,
   "toc_position": {},
   "toc_section_display": true,
   "toc_window_display": false
  }
 },
 "nbformat": 4,
 "nbformat_minor": 4
}
