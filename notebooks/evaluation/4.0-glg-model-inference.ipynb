{
 "cells": [
  {
   "cell_type": "markdown",
   "metadata": {},
   "source": [
    "<span style=\"font-size:36px\"><b>Model Inference</b></span>\n",
    "\n",
    "Copyright &copy; 2020 Gunawan Lumban Gaol\n",
    "\n",
    "Licensed under the Apache License, Version 2.0 (the \"License\"); you may not use this file except in compliance with the License. You may obtain a copy of the License at http://www.apache.org/licenses/LICENSE-2.0\n",
    "\n",
    "Unless required by applicable law or agreed to in writing, software distributed under the License is distributed on an \"AS IS\" BASIS, WITHOUT WARRANTIES OR CONDITIONS OF ANY KIND, either express or implied. See the License for the specific language overning permissions and limitations under the License."
   ]
  },
  {
   "cell_type": "markdown",
   "metadata": {},
   "source": [
    "# Import Packages"
   ]
  },
  {
   "cell_type": "code",
   "execution_count": 61,
   "metadata": {
    "ExecuteTime": {
     "end_time": "2020-02-11T06:21:36.530076Z",
     "start_time": "2020-02-11T06:21:35.664576Z"
    }
   },
   "outputs": [],
   "source": [
    "import os\n",
    "import sys\n",
    "import glob\n",
    "\n",
    "import numpy as np\n",
    "import IPython.display as ipd\n",
    "import librosa\n",
    "import librosa.display as ld\n",
    "import matplotlib.pyplot as plt\n",
    "from pydub.utils import mediainfo\n",
    "from ipywidgets import interact\n",
    "from sklearn.pipeline import Pipeline\n",
    "from tensorflow.keras.models import load_model\n",
    "\n",
    "from gurih.data.splitter import Splitter\n",
    "from gurih.data.normalizer import AudioNormalizer\n",
    "from gurih.features.extractor import MFCCFeatureExtractor"
   ]
  },
  {
   "cell_type": "markdown",
   "metadata": {},
   "source": [
    "# Load Saved Model"
   ]
  },
  {
   "cell_type": "code",
   "execution_count": 3,
   "metadata": {
    "ExecuteTime": {
     "end_time": "2020-02-11T04:27:38.540314Z",
     "start_time": "2020-02-11T04:27:37.526314Z"
    }
   },
   "outputs": [],
   "source": [
    "# model_filepath = '../../models/BaselineASR_f200_k11_s2_pvalid_nlstm200_ndense29.h5'\n",
    "# model = load_model(model_filepath)"
   ]
  },
  {
   "cell_type": "markdown",
   "metadata": {},
   "source": [
    "# Create Audio Transcript"
   ]
  },
  {
   "cell_type": "code",
   "execution_count": 4,
   "metadata": {
    "ExecuteTime": {
     "end_time": "2020-02-11T04:27:40.154314Z",
     "start_time": "2020-02-11T04:27:38.549314Z"
    }
   },
   "outputs": [],
   "source": [
    "# Single file\n",
    "# mp3_file = \"blabla.mp3\"\n",
    "# X = [mp3_file]"
   ]
  },
  {
   "cell_type": "code",
   "execution_count": 5,
   "metadata": {
    "ExecuteTime": {
     "end_time": "2020-02-11T04:27:41.740314Z",
     "start_time": "2020-02-11T04:27:40.157314Z"
    }
   },
   "outputs": [],
   "source": [
    "# Multiple files from a directory\n",
    "input_dir = \"../../dataset/sample/\"\n",
    "mp3_files = glob.glob(input_dir+\"*.mp3\")\n",
    "X = list(mp3_files)"
   ]
  },
  {
   "cell_type": "markdown",
   "metadata": {},
   "source": [
    "If audio duration is more than `max_seq_length` of the model, then the audio will be splitted before transcription."
   ]
  },
  {
   "cell_type": "code",
   "execution_count": 8,
   "metadata": {
    "ExecuteTime": {
     "end_time": "2020-02-10T07:05:09.645433Z",
     "start_time": "2020-02-10T07:05:09.637433Z"
    }
   },
   "outputs": [],
   "source": [
    "SAMPLE_RATE = 16000"
   ]
  },
  {
   "cell_type": "code",
   "execution_count": 10,
   "metadata": {
    "ExecuteTime": {
     "end_time": "2020-02-10T07:05:16.282433Z",
     "start_time": "2020-02-10T07:05:16.267433Z"
    }
   },
   "outputs": [],
   "source": [
    "def mono_process(x):\n",
    "    # Normalize audio\n",
    "    normalizer = AudioNormalizer(sample_rate=SAMPLE_RATE,\n",
    "                                 mono=True,\n",
    "                                 write_audio_output=False, # don't output normalized audio\n",
    "                                 output_dir=\".\",\n",
    "                                 encode=False) # don't output .json\n",
    "    x_norm = normalizer.fit_transform(x)\n",
    "    print(x_norm)\n",
    "    \n",
    "    # Split audio\n",
    "#     splitter = Splitter(max_frame_length=80000,\n",
    "#                         strides=80000,\n",
    "#                         padding='same')\n",
    "#     x_splitted = splitter.fit_transform(x)\n",
    "\n",
    "    # Extract MFCC Features\n",
    "    mfcc_extractor = MFCCFeatureExtractor(sample_rate=SAMPLE_RATE,\n",
    "                                          frame_size=0.025,\n",
    "                                          frame_stride=0.01,\n",
    "                                          filter_num=26,\n",
    "                                          cep_num=13,\n",
    "                                          NFFT=512,\n",
    "                                          low_freq=0,\n",
    "                                          high_freq=None,\n",
    "                                          pre_emphasis_coeff=0.97,\n",
    "                                          cep_lifter=22,\n",
    "                                          dct_type=2,\n",
    "                                          dct_norm=\"ortho\",\n",
    "                                          append_energy=True,\n",
    "                                          append_delta=True,\n",
    "                                          low_memory=False,\n",
    "                                          write_output=False,\n",
    "                                          output_dir=\".\")\n",
    "\n",
    "    x_freq = mfcc_extractor.fit_transform(x_norm)\n",
    "    print(x_freq)\n",
    "\n",
    "    # Create figure for visualization\n",
    "    plt.figure(figsize=(15, 6))\n",
    "    plt.subplot(2, 1, 1)\n",
    "    _ = ld.waveplot(np.asfortranarray(x_norm[x[:-4]]), sr=SAMPLE_RATE)\n",
    "    plt.title(\"Normalized Audio\")\n",
    "    plt.subplot(2, 1, 2)\n",
    "    _ = ld.specshow(x_freq[x[:-4]], sr=SAMPLE_RATE)\n",
    "    plt.title(\"MFCC Features Audio\")\n",
    "    plt.show()\n",
    "    \n",
    "    return [x, x_norm, x_freq]"
   ]
  },
  {
   "cell_type": "code",
   "execution_count": 11,
   "metadata": {
    "ExecuteTime": {
     "end_time": "2020-02-10T07:06:13.967433Z",
     "start_time": "2020-02-10T07:05:17.023433Z"
    }
   },
   "outputs": [
    {
     "name": "stderr",
     "output_type": "stream",
     "text": [
      "D:\\Anaconda2019\\envs\\gurih\\lib\\site-packages\\librosa\\core\\audio.py:161: UserWarning: PySoundFile failed. Trying audioread instead.\n",
      "  warnings.warn('PySoundFile failed. Trying audioread instead.')\n"
     ]
    },
    {
     "name": "stdout",
     "output_type": "stream",
     "text": [
      "{'../../dataset/sample/202102_1': array([ 0.        ,  0.        ,  0.        , ..., -0.01412258,\n",
      "       -0.08815697,  0.        ], dtype=float32)}\n",
      "{'../../dataset/sample/202102_1': array([[ -2.79690931, -14.19891613,  -7.16161911, ...,  -0.26280787,\n",
      "          0.81574658,   0.64531659],\n",
      "       [ -0.79439432,  -3.08435553, -10.94941094, ...,   0.35273131,\n",
      "          2.37041916,   1.18651299],\n",
      "       [ -0.29636958,  -3.68177802, -15.3896097 , ...,   1.54086766,\n",
      "          3.23770472,   0.97511831],\n",
      "       ...,\n",
      "       [ -0.94846153,  -9.91236997, -18.68658963, ...,   1.59404727,\n",
      "         -0.45862431,  -0.01981487],\n",
      "       [ -0.86579204, -13.58654847, -17.73354068, ...,   0.59874749,\n",
      "         -0.62677278,  -0.18354513],\n",
      "       [ -1.00196571, -14.43333513, -16.75610564, ...,  -0.02401861,\n",
      "         -0.33595208,  -0.15311806]])}\n"
     ]
    },
    {
     "ename": "TypeError",
     "evalue": "unhashable type: 'list'",
     "output_type": "error",
     "traceback": [
      "\u001b[1;31m---------------------------------------------------------------------------\u001b[0m",
      "\u001b[1;31mTypeError\u001b[0m                                 Traceback (most recent call last)",
      "\u001b[1;32m<ipython-input-11-7c4492700cd7>\u001b[0m in \u001b[0;36m<module>\u001b[1;34m\u001b[0m\n\u001b[1;32m----> 1\u001b[1;33m \u001b[0mx\u001b[0m\u001b[1;33m,\u001b[0m \u001b[0mx_norm\u001b[0m\u001b[1;33m,\u001b[0m \u001b[0mx_freq\u001b[0m \u001b[1;33m=\u001b[0m \u001b[0mmono_process\u001b[0m\u001b[1;33m(\u001b[0m\u001b[1;33m[\u001b[0m\u001b[1;34m\"../../dataset/sample/202102_1.mp3\"\u001b[0m\u001b[1;33m]\u001b[0m\u001b[1;33m)\u001b[0m\u001b[1;33m\u001b[0m\u001b[1;33m\u001b[0m\u001b[0m\n\u001b[0m",
      "\u001b[1;32m<ipython-input-10-a2e5aa40c664>\u001b[0m in \u001b[0;36mmono_process\u001b[1;34m(x)\u001b[0m\n\u001b[0;32m     35\u001b[0m     \u001b[0mplt\u001b[0m\u001b[1;33m.\u001b[0m\u001b[0mfigure\u001b[0m\u001b[1;33m(\u001b[0m\u001b[0mfigsize\u001b[0m\u001b[1;33m=\u001b[0m\u001b[1;33m(\u001b[0m\u001b[1;36m15\u001b[0m\u001b[1;33m,\u001b[0m \u001b[1;36m6\u001b[0m\u001b[1;33m)\u001b[0m\u001b[1;33m)\u001b[0m\u001b[1;33m\u001b[0m\u001b[1;33m\u001b[0m\u001b[0m\n\u001b[0;32m     36\u001b[0m     \u001b[0mplt\u001b[0m\u001b[1;33m.\u001b[0m\u001b[0msubplot\u001b[0m\u001b[1;33m(\u001b[0m\u001b[1;36m2\u001b[0m\u001b[1;33m,\u001b[0m \u001b[1;36m1\u001b[0m\u001b[1;33m,\u001b[0m \u001b[1;36m1\u001b[0m\u001b[1;33m)\u001b[0m\u001b[1;33m\u001b[0m\u001b[1;33m\u001b[0m\u001b[0m\n\u001b[1;32m---> 37\u001b[1;33m     \u001b[0m_\u001b[0m \u001b[1;33m=\u001b[0m \u001b[0mld\u001b[0m\u001b[1;33m.\u001b[0m\u001b[0mwaveplot\u001b[0m\u001b[1;33m(\u001b[0m\u001b[0mnp\u001b[0m\u001b[1;33m.\u001b[0m\u001b[0masfortranarray\u001b[0m\u001b[1;33m(\u001b[0m\u001b[0mx_norm\u001b[0m\u001b[1;33m[\u001b[0m\u001b[0mx\u001b[0m\u001b[1;33m[\u001b[0m\u001b[1;33m:\u001b[0m\u001b[1;33m-\u001b[0m\u001b[1;36m4\u001b[0m\u001b[1;33m]\u001b[0m\u001b[1;33m]\u001b[0m\u001b[1;33m)\u001b[0m\u001b[1;33m,\u001b[0m \u001b[0msr\u001b[0m\u001b[1;33m=\u001b[0m\u001b[0mSAMPLE_RATE\u001b[0m\u001b[1;33m)\u001b[0m\u001b[1;33m\u001b[0m\u001b[1;33m\u001b[0m\u001b[0m\n\u001b[0m\u001b[0;32m     38\u001b[0m     \u001b[0mplt\u001b[0m\u001b[1;33m.\u001b[0m\u001b[0mtitle\u001b[0m\u001b[1;33m(\u001b[0m\u001b[1;34m\"Normalized Audio\"\u001b[0m\u001b[1;33m)\u001b[0m\u001b[1;33m\u001b[0m\u001b[1;33m\u001b[0m\u001b[0m\n\u001b[0;32m     39\u001b[0m     \u001b[0mplt\u001b[0m\u001b[1;33m.\u001b[0m\u001b[0msubplot\u001b[0m\u001b[1;33m(\u001b[0m\u001b[1;36m2\u001b[0m\u001b[1;33m,\u001b[0m \u001b[1;36m1\u001b[0m\u001b[1;33m,\u001b[0m \u001b[1;36m2\u001b[0m\u001b[1;33m)\u001b[0m\u001b[1;33m\u001b[0m\u001b[1;33m\u001b[0m\u001b[0m\n",
      "\u001b[1;31mTypeError\u001b[0m: unhashable type: 'list'"
     ]
    },
    {
     "data": {
      "image/png": "[encoded data removed]",
      "text/plain": [
       "<Figure size 1080x432 with 1 Axes>"
      ]
     },
     "metadata": {
      "needs_background": "light"
     },
     "output_type": "display_data"
    }
   ],
   "source": [
    "x, x_norm, x_freq = mono_process([\"../../dataset/sample/202102_1.mp3\"])"
   ]
  },
  {
   "cell_type": "code",
   "execution_count": 12,
   "metadata": {
    "ExecuteTime": {
     "end_time": "2020-02-10T06:42:42.255433Z",
     "start_time": "2020-02-10T06:42:41.144433Z"
    }
   },
   "outputs": [
    {
     "data": {
      "application/vnd.jupyter.widget-view+json": {
       "model_id": "e9a34db498f9445a8928a5f32fb52548",
       "version_major": 2,
       "version_minor": 0
      },
      "text/plain": [
       "interactive(children=(Dropdown(description='x', options=('../../dataset/sample\\\\2019-09-03_Annisa Rahmawaty_39…"
      ]
     },
     "metadata": {},
     "output_type": "display_data"
    }
   ],
   "source": [
    "SAMPLE_RATE = 16000 # in Hz\n",
    "MAX_DURATION = 5.0 # in seconds\n",
    "\n",
    "@interact\n",
    "def infer(x=X):\n",
    "    print(x)\n",
    "    \n",
    "    is_mono = mediainfo(x)['channels'] == '1'\n",
    "    if is_mono:\n",
    "        print(\"Starting mono process...\")\n",
    "        mono_process(x)\n",
    "    else:\n",
    "        raise Exception('Please provide audio with mono channel.')\n",
    "    \n",
    "    return ipd.Audio(x)"
   ]
  },
  {
   "cell_type": "code",
   "execution_count": 5,
   "metadata": {
    "ExecuteTime": {
     "end_time": "2020-02-10T06:34:41.585433Z",
     "start_time": "2020-02-10T06:34:20.981433Z"
    }
   },
   "outputs": [],
   "source": [
    "data, sr = librosa.load(\"../../dataset/sample/239382.mp3\", mono=False, sr=16000)"
   ]
  },
  {
   "cell_type": "code",
   "execution_count": 10,
   "metadata": {
    "ExecuteTime": {
     "end_time": "2020-02-10T06:39:25.646433Z",
     "start_time": "2020-02-10T06:38:32.572433Z"
    }
   },
   "outputs": [
    {
     "data": {
      "application/vnd.jupyter.widget-view+json": {
       "model_id": "701ffd611781497eb233921d56f8856d",
       "version_major": 2,
       "version_minor": 0
      },
      "text/plain": [
       "interactive(children=(Dropdown(description='x', options=('../../dataset/sample\\\\2019-09-03_Annisa Rahmawaty_39…"
      ]
     },
     "metadata": {},
     "output_type": "display_data"
    }
   ],
   "source": [
    "@interact\n",
    "def plot_sample(x=X):\n",
    "    data, sr = librosa.load(x, mono=False, sr=22050)\n",
    "    plt.figure(figsize=(12, 7))\n",
    "    plt.subplot(3, 1, 1)\n",
    "    _ = librosa.display.waveplot(data, sr=sr)\n",
    "    plt.title(x)\n",
    "    plt.subplot(3, 1, 2)\n",
    "    _ = librosa.display.waveplot(np.asfortranarray(data[0]), sr=sr)\n",
    "    plt.title(\"Operator Side\")\n",
    "    plt.subplot(3, 1, 3)\n",
    "    _ = librosa.display.waveplot(np.asfortranarray(data[1]), sr=sr)\n",
    "    plt.title(\"Client Side\")\n",
    "    plt.tight_layout()\n",
    "    plt.show()\n",
    "    return ipd.Audio(x)"
   ]
  },
  {
   "cell_type": "code",
   "execution_count": null,
   "metadata": {},
   "outputs": [],
   "source": []
  }
 ],
 "metadata": {
  "hide_input": false,
  "kernelspec": {
   "display_name": "Python [conda env:gurih] *",
   "language": "python",
   "name": "conda-env-gurih-py"
  },
  "language_info": {
   "codemirror_mode": {
    "name": "ipython",
    "version": 3
   },
   "file_extension": ".py",
   "mimetype": "text/x-python",
   "name": "python",
   "nbconvert_exporter": "python",
   "pygments_lexer": "ipython3",
   "version": "3.7.6"
  },
  "toc": {
   "base_numbering": 1,
   "nav_menu": {},
   "number_sections": true,
   "sideBar": true,
   "skip_h1_title": false,
   "title_cell": "Table of Contents",
   "title_sidebar": "Contents",
   "toc_cell": false,
   "toc_position": {},
   "toc_section_display": true,
   "toc_window_display": false
  }
 },
 "nbformat": 4,
 "nbformat_minor": 4
}
