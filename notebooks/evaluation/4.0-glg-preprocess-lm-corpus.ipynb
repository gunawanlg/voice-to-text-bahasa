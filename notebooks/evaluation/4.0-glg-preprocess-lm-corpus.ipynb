{
 "cells": [
  {
   "cell_type": "markdown",
   "metadata": {
    "ExecuteTime": {
     "end_time": "2020-03-19T01:26:13.480203Z",
     "start_time": "2020-03-19T01:26:13.464203Z"
    }
   },
   "source": [
    "<span style=\"font-size:36px\"><b>Preprocess Language Model Corpus</b></span>\n",
    "\n",
    "Copyright &copy; 2020 Gunawan Lumban Gaol\n",
    "\n",
    "Licensed under the Apache License, Version 2.0 (the \"License\"); you may not use this file except in compliance with the License. You may obtain a copy of the License at http://www.apache.org/licenses/LICENSE-2.0\n",
    "\n",
    "Unless required by applicable law or agreed to in writing, software distributed under the License is distributed on an \"AS IS\" BASIS, WITHOUT WARRANTIES OR CONDITIONS OF ANY KIND, either express or implied. See the License for the specific language overning permissions and limitations under the License."
   ]
  },
  {
   "cell_type": "markdown",
   "metadata": {},
   "source": [
    "# Import Packages"
   ]
  },
  {
   "cell_type": "code",
   "execution_count": 1,
   "metadata": {
    "ExecuteTime": {
     "end_time": "2020-03-24T08:26:46.778000Z",
     "start_time": "2020-03-24T08:26:45.615000Z"
    }
   },
   "outputs": [],
   "source": [
    "import os\n",
    "import re\n",
    "import functools\n",
    "import string\n",
    "import random\n",
    "\n",
    "import pandas as pd\n",
    "import num2words\n",
    "from tqdm import tqdm_notebook as tqdm\n",
    "\n",
    "from gurih.models.utils import sparsity"
   ]
  },
  {
   "cell_type": "code",
   "execution_count": 2,
   "metadata": {
    "ExecuteTime": {
     "end_time": "2020-03-24T08:26:46.788000Z",
     "start_time": "2020-03-24T08:26:46.780000Z"
    }
   },
   "outputs": [],
   "source": [
    "def print_stats(stats):\n",
    "    print(f\"Number of documents: {stats['n']}\")\n",
    "    print(f\"Sum of Ni: {stats['Ni']}\")\n",
    "    print(f\"Vocab size: {len(stats['V'])}\")\n",
    "    print(f\"Sparsity: {stats['Sd']}\")"
   ]
  },
  {
   "cell_type": "markdown",
   "metadata": {},
   "source": [
    "# RegExp Collections"
   ]
  },
  {
   "cell_type": "code",
   "execution_count": 3,
   "metadata": {
    "ExecuteTime": {
     "end_time": "2020-03-24T08:26:49.717000Z",
     "start_time": "2020-03-24T08:26:49.706000Z"
    }
   },
   "outputs": [],
   "source": [
    "num_dict = {\n",
    "    \"0\": \"kosong\",\n",
    "    \"1\": \"satu\",\n",
    "    \"2\": \"dua\",\n",
    "    \"3\": \"tiga\",\n",
    "    \"4\": \"empat\",\n",
    "    \"5\": \"lima\",\n",
    "    \"6\": \"enam\",\n",
    "    \"7\": \"tujuh\",\n",
    "    \"8\": \"delapan\",\n",
    "    \"9\": \"sembilan\",\n",
    "    \"*\": \"\",\n",
    "    \"x\": \"\",\n",
    "    \" \": \"\",\n",
    "    \"-\": \"\"\n",
    "}\n",
    "\n",
    "simplified_punctuation_map = {\"?\": \".\",\n",
    "                              \"!\": \".\",\n",
    "                              \";\": \",\",\n",
    "                              \"'\": \"\",\n",
    "                              \"-\": \" \"}"
   ]
  },
  {
   "cell_type": "code",
   "execution_count": 4,
   "metadata": {
    "ExecuteTime": {
     "end_time": "2020-03-24T08:26:50.365000Z",
     "start_time": "2020-03-24T08:26:50.336000Z"
    }
   },
   "outputs": [],
   "source": [
    "# 4,69% --> empat koma enam sembilan persen\n",
    "repl_percentage_with_comma = lambda x: \" \".join([num2words.num2words(int(num), lang='id') for num in x.group(1)]) + \" koma \" + \" \".join([num2words.num2words(int(num), lang='id') for num in x.group(2)]) + \" persen\"\n",
    "regex_percentage_with_comma = functools.partial(re.sub, \"(\\d+),(\\d+)[\\s]{0,1}%\", repl_percentage_with_comma)\n",
    "\n",
    "# rp400.000 --> 400.000\n",
    "regex_currency = functools.partial(re.sub, \"(rp)([\\s]{0,1}\\d)\", r\"\\2\")\n",
    "\n",
    "# 400.000/bulan --> 400.000 per bulan\n",
    "regex_per_month = functools.partial(re.sub, \"(/)([\\s]{0,2}bulan)\", r\" per \\2\")\n",
    "\n",
    "# 3x24 jam --> 3 kali 24 jam\n",
    "# 3x --> 3 kali \n",
    "# 3 x 24 jam --> 3 kali 24 jam\n",
    "regex_frequency = functools.partial(re.sub, \"(\\d+)\\s?x\\s?(\\d+)?\", r\"\\1 kali \\2\")\n",
    "\n",
    "# kontrak 380 170**xx15 96 --> kontrak tiga delapan kosong  satu tujuh kosong     satu lima  sembilan enam\n",
    "regex_contract_number = functools.partial(re.sub, \"(kontrak[\\s]{0,2})([\\d\\s\\*x]+)\", lambda x: f\"{x.group(1)}{' '.join([num_dict[num] for num in x.group(2)])}\")\n",
    "\n",
    "#  021-238432 --> kosong dua satu  dua tiga delapan empat tiga dua\n",
    "regex_phone_number = functools.partial(re.sub, \"(\\s)(0[\\d\\s\\*x-]+)\", lambda x: f\"{x.group(1)}{' '.join([num_dict[num] for num in x.group(2)])}\")\n",
    "\n",
    "# @hoewwedr --> ''\n",
    "regex_remove_username = functools.partial(re.sub, \"(@[A-Za-z0-9]+)\", '')\n",
    "\n",
    "# #yangkamumau --> ''\n",
    "regex_remove_hashtag = functools.partial(re.sub, \"(#[A-Za-z0-9]+)\", '')\n",
    "\n",
    "# https://api.whatsapp.com/send=?phone18273 --> ''\n",
    "regex_remove_url = functools.partial(re.sub, \"^https?:\\/\\/.*[\\r\\n]*\", '')\n",
    "\n",
    "# awdaw.....,,,, --> awdaw.,\n",
    "regex_multiple_punctuations = functools.partial(re.sub, r'([.,])\\1+', r'\\1')\n",
    "\n",
    "# gitu.aku sebel ,banget sama dia , dan kamu . --> gitu. aku sebel, banget sama dia, dan kamu. \n",
    "regex_triplet_punctuations = functools.partial(re.sub, r'(.)\\s?(\\.|,)\\s?(.)?', r'\\1\\2 \\3')\n",
    "\n",
    "# <see simplified punctuation dictionary>\n",
    "regex_simplify_punctuations = lambda x: ''.join([simplified_punctuation_map.get(c, c) for c in x])\n",
    "\n",
    "# remove non used character map\n",
    "regex_remove_non_charmap = functools.partial(re.sub, '[^A-Za-z0-9., ]', '')\n",
    "\n",
    "# 200.000 -->  dua ratus ribu \n",
    "# 200000 --> dua ratus ribu\n",
    "repl_spell_number = lambda x: ' ' + num2words.num2words(int(re.sub(r'[.,]', '', x.group(1))), lang='id') + ' '\n",
    "regex_spell_number = functools.partial(re.sub, r'((\\d+[.,]?)+)', repl_spell_number)\n",
    "\n",
    "# bunga / buah --> bunga atau buah\n",
    "# bunga/ buah --> bunga atau buah\n",
    "# bunga /buah --> bunga atau buah\n",
    "# bunga/buah --> bunga atau buah\n",
    "regex_remove_multiple_spaces = functools.partial(re.sub, ' +', ' ')\n",
    "regex_atau = functools.partial(re.sub, r'(. ?)\\/( ?.)', lambda x: regex_remove_multiple_spaces(x.group(1) + \" atau \" + x.group(2)))"
   ]
  },
  {
   "cell_type": "code",
   "execution_count": 5,
   "metadata": {
    "ExecuteTime": {
     "end_time": "2020-03-24T08:26:51.055000Z",
     "start_time": "2020-03-24T08:26:51.036000Z"
    }
   },
   "outputs": [],
   "source": [
    "assert regex_percentage_with_comma(\"4,69%\") == \"empat koma enam sembilan persen\"\n",
    "assert regex_currency(\"rp400.000\") == \"400.000\"\n",
    "assert regex_per_month(\"400.000/bulan\") == \"400.000 per bulan\"\n",
    "assert regex_frequency(\"3x24 jam\") == \"3 kali 24 jam\"\n",
    "assert regex_frequency(\"3x\") == \"3 kali \"\n",
    "assert regex_frequency(\"3 x 24 jam\") == \"3 kali 24 jam\"\n",
    "assert regex_contract_number(\"kontrak 380 170**xx15 96\") == \"kontrak tiga delapan kosong  satu tujuh kosong     satu lima  sembilan enam\"\n",
    "assert regex_phone_number(\" 021-238432\") == \" kosong dua satu  dua tiga delapan empat tiga dua\"\n",
    "assert regex_remove_username(\"@hoewwedr\") == ''\n",
    "assert regex_remove_hashtag(\"#yangkamumau\") == ''\n",
    "assert regex_remove_url(\"https://api.whatsapp.com/send=?phone18273\") == ''\n",
    "assert regex_multiple_punctuations(\"awdaw.....,,,,\") == \"awdaw.,\"\n",
    "assert regex_triplet_punctuations(\"gitu.aku sebel ,banget sama dia , dan kamu .\") == \"gitu. aku sebel, banget sama dia, dan kamu. \"\n",
    "assert regex_simplify_punctuations(\"?!;'-\") == \".., \"\n",
    "assert regex_spell_number(\"200000\") == ' dua ratus ribu '\n",
    "assert regex_spell_number(\"200.000\") == ' dua ratus ribu '\n",
    "assert regex_spell_number(\"200000000\") == ' dua ratus juta '\n",
    "assert regex_spell_number(\"200,000,000\") == ' dua ratus juta '\n",
    "assert regex_atau(\"bunga / buah\") == \"bunga atau buah\"\n",
    "assert regex_atau(\"bunga/ buah\") == \"bunga atau buah\"\n",
    "assert regex_atau(\"bunga /buah\") == \"bunga atau buah\"\n",
    "assert regex_atau(\"bunga/buah\") == \"bunga atau buah\""
   ]
  },
  {
   "cell_type": "markdown",
   "metadata": {},
   "source": [
    "# Mediakonsumen Corpus\n",
    "\n",
    "Scrape text from https://mediakonsumen.com/tag/home-credit-indonesia."
   ]
  },
  {
   "cell_type": "code",
   "execution_count": 6,
   "metadata": {
    "ExecuteTime": {
     "end_time": "2020-03-24T08:26:51.860000Z",
     "start_time": "2020-03-24T08:26:51.837000Z"
    }
   },
   "outputs": [
    {
     "data": {
      "text/plain": [
       "2241"
      ]
     },
     "execution_count": 6,
     "metadata": {},
     "output_type": "execute_result"
    }
   ],
   "source": [
    "with open(\"../../dataset/corpus/raw/mediakonsumen_raw.txt\", encoding='utf-8') as f:\n",
    "    mediakonsumen_raw = f.readlines()\n",
    "len(mediakonsumen_raw)"
   ]
  },
  {
   "cell_type": "markdown",
   "metadata": {},
   "source": [
    "Run cell below to see what the data looks like."
   ]
  },
  {
   "cell_type": "code",
   "execution_count": 7,
   "metadata": {
    "ExecuteTime": {
     "end_time": "2020-03-24T08:26:52.639000Z",
     "start_time": "2020-03-24T08:26:52.635000Z"
    }
   },
   "outputs": [
    {
     "data": {
      "text/plain": [
       "['Menanggapi keluhan tersebut, Layanan Pelanggan Home Credit sudah menghubungi Ibu Linda Supatmi untuk menindaklanjuti permasalahan ini dan memberikan penjelasan lebih lanjut. Perlu kami informasikan pula bahwa keluhan ini telah terselesaikan dengan baik.\\n',\n",
       " 'Agus Sulistyo\\n',\n",
       " '081398729***\\n',\n",
       " '0812822797**\\n',\n",
       " 'Jakarta Selatan 12520\\n']"
      ]
     },
     "execution_count": 7,
     "metadata": {},
     "output_type": "execute_result"
    }
   ],
   "source": [
    "random.sample(mediakonsumen_raw, 5)"
   ]
  },
  {
   "cell_type": "markdown",
   "metadata": {},
   "source": [
    "We can see some documents are identical! See if this is large enough to become a problem."
   ]
  },
  {
   "cell_type": "code",
   "execution_count": 8,
   "metadata": {
    "ExecuteTime": {
     "end_time": "2020-03-24T08:26:53.848000Z",
     "start_time": "2020-03-24T08:26:53.834000Z"
    }
   },
   "outputs": [
    {
     "name": "stdout",
     "output_type": "stream",
     "text": [
      "Unique documents size: 1349\n",
      "Duplicated documents size: 892\n",
      "Duplicated documents ratio: 0.398\n"
     ]
    }
   ],
   "source": [
    "unique_document_size = len(list(set(mediakonsumen_raw)))\n",
    "duplicated_document_size = len(mediakonsumen_raw) - unique_document_size\n",
    "duplicate_ratio = duplicated_document_size / len(mediakonsumen_raw)\n",
    "print(f\"Unique documents size: {unique_document_size}\")\n",
    "print(f\"Duplicated documents size: {duplicated_document_size}\")\n",
    "print(\"Duplicated documents ratio: {:.3f}\".format(duplicate_ratio))"
   ]
  },
  {
   "cell_type": "markdown",
   "metadata": {},
   "source": [
    "Decide to remove the duplicated documents."
   ]
  },
  {
   "cell_type": "code",
   "execution_count": 9,
   "metadata": {
    "ExecuteTime": {
     "end_time": "2020-03-24T08:26:55.977000Z",
     "start_time": "2020-03-24T08:26:55.970000Z"
    }
   },
   "outputs": [
    {
     "data": {
      "text/plain": [
       "1349"
      ]
     },
     "execution_count": 9,
     "metadata": {},
     "output_type": "execute_result"
    }
   ],
   "source": [
    "corpus = list(set(mediakonsumen_raw))\n",
    "len(corpus)"
   ]
  },
  {
   "cell_type": "code",
   "execution_count": 10,
   "metadata": {
    "ExecuteTime": {
     "end_time": "2020-03-24T08:26:56.451000Z",
     "start_time": "2020-03-24T08:26:56.429000Z"
    }
   },
   "outputs": [],
   "source": [
    "before_cleaning_stats = sparsity(corpus)"
   ]
  },
  {
   "cell_type": "markdown",
   "metadata": {},
   "source": [
    "## Cleaning\n",
    "\n",
    "This process must be done in order. Use the available RegExp collections, or create new one, then add them **one-by-one** while sampling the corpus to keep sanity check."
   ]
  },
  {
   "cell_type": "code",
   "execution_count": 11,
   "metadata": {
    "ExecuteTime": {
     "end_time": "2020-03-24T08:26:58.905000Z",
     "start_time": "2020-03-24T08:26:58.663000Z"
    }
   },
   "outputs": [],
   "source": [
    "corpus = [s.lower() for s in corpus]\n",
    "corpus = [regex_remove_url(s) for s in corpus]\n",
    "corpus = [s.strip() for s in corpus]\n",
    "corpus = [regex_simplify_punctuations(s) for s in corpus]\n",
    "corpus = [regex_percentage_with_comma(s) for s in corpus]\n",
    "corpus = [regex_currency(s) for s in corpus]\n",
    "corpus = [regex_frequency(s) for s in corpus]\n",
    "corpus = [regex_contract_number(s) for s in corpus]\n",
    "corpus = [regex_phone_number(s) for s in corpus]\n",
    "corpus = [regex_spell_number(s) for s in corpus]\n",
    "corpus = [regex_atau(s) for s in corpus]\n",
    "corpus = [regex_remove_non_charmap(s) for s in corpus]\n",
    "corpus = [regex_multiple_punctuations(s) for s in corpus]\n",
    "corpus = [regex_triplet_punctuations(s) for s in corpus]\n",
    "corpus = [regex_remove_multiple_spaces(s) for s in corpus]\n",
    "corpus = [s.strip() for s in corpus if s != '']"
   ]
  },
  {
   "cell_type": "code",
   "execution_count": 12,
   "metadata": {
    "ExecuteTime": {
     "end_time": "2020-03-24T08:26:59.384000Z",
     "start_time": "2020-03-24T08:26:59.378000Z"
    }
   },
   "outputs": [
    {
     "data": {
      "text/plain": [
       "['kebagusan, jakarta selatan dua belas ribu lima ratus dua puluh',\n",
       " 'sehubungan dengan dimuatnya surat pembaca di portal berita mediakonsumen. com pada tanggal lima belas agustus dua ribu delapan belas yang dikirimkan oleh bapak arif nugraha yang berjudul sering mendapat telepon dari marketing home credit sangat mengganggu, maka dengan ini pt home credit indonesia menyampaikan permohonan maaf atas ketidaknyamanan yang dialami oleh pelanggan kami.',\n",
       " 'pertama tama kami menyampaikan permohonan maaf atas ketidaknyamanan yang dialami oleh bapak meri irwan. layanan pelanggan home credit telah menindaklanjuti keluhan ini dengan menghubungi bapak meri irwan untuk memberikan penjelasan lebih lanjut dan mencarikan solusi untuk disepakati bersama.',\n",
       " 'disini saya mau menceritakan masalah ketidaknyamanan dengan solusi home credit. pada bulan april dua ribu delapan belas teman saya mengambil hp, tapi karena alasan bi checking nya tidak bisa dipakai, dipinjamlah nama saya. lha sewaktu itu saya masih kerja, dan sekarang posisi saya tidak lagi bekerja. lalu untuk masalah hp teman saya ini memang bayarnya telat mulu, dan akhirnya dia bilang kalau tidak sanggup membayar.',\n",
       " 'setelah berulang ulang kali menelepon, pihak debt collector menelepon suami saya pada tanggal tiga puluh januari dua ribu dua puluh sebanyak delapan kali, dengan nomor sebagai berikut.']"
      ]
     },
     "execution_count": 12,
     "metadata": {},
     "output_type": "execute_result"
    }
   ],
   "source": [
    "random.sample(corpus, 5)"
   ]
  },
  {
   "cell_type": "markdown",
   "metadata": {},
   "source": [
    "## Compare Stats"
   ]
  },
  {
   "cell_type": "code",
   "execution_count": 13,
   "metadata": {
    "ExecuteTime": {
     "end_time": "2020-03-24T08:27:01.219000Z",
     "start_time": "2020-03-24T08:27:01.198000Z"
    }
   },
   "outputs": [],
   "source": [
    "after_cleaning_stats = sparsity(corpus)"
   ]
  },
  {
   "cell_type": "code",
   "execution_count": 14,
   "metadata": {
    "ExecuteTime": {
     "end_time": "2020-03-24T08:27:01.536000Z",
     "start_time": "2020-03-24T08:27:01.531000Z"
    }
   },
   "outputs": [
    {
     "name": "stdout",
     "output_type": "stream",
     "text": [
      "Number of documents: 1349\n",
      "Sum of Ni: 34872\n",
      "Vocab size: 5874\n",
      "Sparsity: 0.9955992067668632\n",
      "\n",
      "Number of documents: 1347\n",
      "Sum of Ni: 36854\n",
      "Vocab size: 4360\n",
      "Sparsity: 0.9937247570203579\n"
     ]
    }
   ],
   "source": [
    "print_stats(before_cleaning_stats)\n",
    "print()\n",
    "print_stats(after_cleaning_stats)"
   ]
  },
  {
   "cell_type": "markdown",
   "metadata": {},
   "source": [
    "## Save Corpus and Vocab"
   ]
  },
  {
   "cell_type": "code",
   "execution_count": 15,
   "metadata": {
    "ExecuteTime": {
     "end_time": "2020-03-24T08:27:04.191000Z",
     "start_time": "2020-03-24T08:27:04.165000Z"
    }
   },
   "outputs": [],
   "source": [
    "with open(\"../../dataset/corpus/mediakonsumen_corpus.txt\", 'w') as f:\n",
    "    for document in corpus:\n",
    "        f.write(f\"{document}\\n\")"
   ]
  },
  {
   "cell_type": "code",
   "execution_count": 16,
   "metadata": {
    "ExecuteTime": {
     "end_time": "2020-03-24T08:27:04.517000Z",
     "start_time": "2020-03-24T08:27:04.475000Z"
    }
   },
   "outputs": [],
   "source": [
    "with open(\"../../dataset/corpus/mediakonsumen_vocab.txt\", 'w') as f:\n",
    "    for vocab in after_cleaning_stats['V']:\n",
    "        vocab_clean = re.sub('[.,]', '', vocab)\n",
    "        f.write(f\"{vocab_clean}\\n\")"
   ]
  },
  {
   "cell_type": "markdown",
   "metadata": {},
   "source": [
    "# Instagram Comment Corpus"
   ]
  },
  {
   "cell_type": "code",
   "execution_count": 17,
   "metadata": {
    "ExecuteTime": {
     "end_time": "2020-03-24T08:27:05.798000Z",
     "start_time": "2020-03-24T08:27:05.661000Z"
    }
   },
   "outputs": [
    {
     "data": {
      "text/plain": [
       "(26350, 4)"
      ]
     },
     "execution_count": 17,
     "metadata": {},
     "output_type": "execute_result"
    }
   ],
   "source": [
    "instagram_df = pd.read_csv(\"../../dataset/corpus/raw/homecreditid_comments.csv\")\n",
    "instagram_df.shape"
   ]
  },
  {
   "cell_type": "markdown",
   "metadata": {},
   "source": [
    "We only need those conversations in comment sections."
   ]
  },
  {
   "cell_type": "code",
   "execution_count": 18,
   "metadata": {
    "ExecuteTime": {
     "end_time": "2020-03-24T08:27:06.543000Z",
     "start_time": "2020-03-24T08:27:06.538000Z"
    }
   },
   "outputs": [],
   "source": [
    "corpus = instagram_df['owner_comment'].values.tolist()"
   ]
  },
  {
   "cell_type": "markdown",
   "metadata": {},
   "source": [
    "Run cell below to see what the comments looks like."
   ]
  },
  {
   "cell_type": "code",
   "execution_count": 67,
   "metadata": {
    "ExecuteTime": {
     "end_time": "2020-03-19T04:20:17.555203Z",
     "start_time": "2020-03-19T04:20:17.545203Z"
    }
   },
   "outputs": [
    {
     "data": {
      "text/plain": [
       "['https://www.youtube.com/channel/UCvxef6NxP6D_1NBK8hBUAmQ https://youtu.be/ZZuwVpG0ICM https://youtu.be/-OcGPizXO8E subcribe ya',\n",
       " 'Minn udah di umumin blm ini pemenang nya???',\n",
       " 'Kolak, Biji Salak, Es Buah, Gorengan, Sop',\n",
       " 'Ez first try😎',\n",
       " 'Saya berhasil capture']"
      ]
     },
     "execution_count": 67,
     "metadata": {},
     "output_type": "execute_result"
    }
   ],
   "source": [
    "random.sample(corpus, 5)"
   ]
  },
  {
   "cell_type": "markdown",
   "metadata": {},
   "source": [
    "Save corpus statistics before cleaning."
   ]
  },
  {
   "cell_type": "code",
   "execution_count": 19,
   "metadata": {
    "ExecuteTime": {
     "end_time": "2020-03-24T08:27:08.979000Z",
     "start_time": "2020-03-24T08:27:08.704000Z"
    }
   },
   "outputs": [],
   "source": [
    "before_cleaning_stats = sparsity(corpus)"
   ]
  },
  {
   "cell_type": "markdown",
   "metadata": {},
   "source": [
    "## Cleaning\n",
    "\n",
    "This processes must be done in order."
   ]
  },
  {
   "cell_type": "markdown",
   "metadata": {},
   "source": [
    "### Lower Casing"
   ]
  },
  {
   "cell_type": "code",
   "execution_count": 20,
   "metadata": {
    "ExecuteTime": {
     "end_time": "2020-03-24T08:27:10.071000Z",
     "start_time": "2020-03-24T08:27:10.022000Z"
    }
   },
   "outputs": [],
   "source": [
    "corpus = [s.lower() for s in corpus]"
   ]
  },
  {
   "cell_type": "code",
   "execution_count": 21,
   "metadata": {
    "ExecuteTime": {
     "end_time": "2020-03-24T08:27:10.168000Z",
     "start_time": "2020-03-24T08:27:10.163000Z"
    }
   },
   "outputs": [
    {
     "data": {
      "text/plain": [
       "['apakah bisa hci melampaui cicilan rumah gitu? karena saya salah satu client yg merasa diuntungkan dan diberikan kemudahan dalam hal cicilan, terimakasih semoga suatu saat hci makin berkembang ke ranah perumahan2 gitu, hehe suskes selalu ya!',\n",
       " 'komitmen cerdas ala saya adalah selalu mengatur keuangan dengan bijak dan seperlunya saja,misalkan pengen jajan atau blanja bisa kok kita cari yg gak mahal\" dan pastinya yang diskonan dong 😁 selain itu hindari juga jalan\" setiap minggunya karena itu pemicu pemborosan lho kalau kita perlu/butuh apa\" mending kita belinya di @homecreditid ajah karena bisa banget tuh punya barang impian tapi gak kluar duit banyak,bisa dong dicicil perbulannya ringan banget deh pkoknya,jadi uangnya bisa cukup tuh sampe sbulan gajian berikutnya,hidup jadi lebih teratur. @srirezeki5693 @hastuti_erni @ettyzalfa_zulfa #doitcerdas #yangkamumau',\n",
       " 'yeayyy setelah 10 kali coba',\n",
       " '@jkt48shani',\n",
       " 'raja ampat 😍']"
      ]
     },
     "execution_count": 21,
     "metadata": {},
     "output_type": "execute_result"
    }
   ],
   "source": [
    "random.sample(corpus, 5)"
   ]
  },
  {
   "cell_type": "markdown",
   "metadata": {},
   "source": [
    "### Remove @username"
   ]
  },
  {
   "cell_type": "code",
   "execution_count": 22,
   "metadata": {
    "ExecuteTime": {
     "end_time": "2020-03-24T08:27:10.619000Z",
     "start_time": "2020-03-24T08:27:10.504000Z"
    }
   },
   "outputs": [],
   "source": [
    "corpus = [regex_remove_username(s) for s in corpus]"
   ]
  },
  {
   "cell_type": "code",
   "execution_count": 23,
   "metadata": {
    "ExecuteTime": {
     "end_time": "2020-03-24T08:27:10.761000Z",
     "start_time": "2020-03-24T08:27:10.755000Z"
    }
   },
   "outputs": [
    {
     "data": {
      "text/plain": [
       "['tolong pengertiannya dari pihak hci saya sangat terganggu dengan tlp dari hci yang masuk bahkan sehari saya bisa di tlp 5x dan tidak tahu waktu. saya sudah beberapa kalo menolak penawaran yg ditawarkan tp kenapa masih di tlp juga dan berulang kali setiap harinya. saya jadi kesulitan untuk mengangkat tlp masuk dari nomer penting lainnya yg tidak diketahui',\n",
       " 'dampak virus corona penghasilan  turun deratis angsuran tetap berjalan 😢',\n",
       " 'e',\n",
       " 'bernafas dalam air',\n",
       " '... •ketemu setan digang sempit •banyak penghuninya sudah dari dulu •kalau mau beli barang dengan sistem kredit •hanya  selalu berikan #yangkamumau #giveawayhomecredit ikutan juga yukk!! _sammypoerba  ']"
      ]
     },
     "execution_count": 23,
     "metadata": {},
     "output_type": "execute_result"
    }
   ],
   "source": [
    "random.sample(corpus, 5)"
   ]
  },
  {
   "cell_type": "markdown",
   "metadata": {},
   "source": [
    "### Remove Hashtag"
   ]
  },
  {
   "cell_type": "code",
   "execution_count": 24,
   "metadata": {
    "ExecuteTime": {
     "end_time": "2020-03-24T08:27:11.195000Z",
     "start_time": "2020-03-24T08:27:11.074000Z"
    }
   },
   "outputs": [],
   "source": [
    "corpus = [regex_remove_hashtag(s) for s in corpus]"
   ]
  },
  {
   "cell_type": "code",
   "execution_count": 25,
   "metadata": {
    "ExecuteTime": {
     "end_time": "2020-03-24T08:27:11.366000Z",
     "start_time": "2020-03-24T08:27:11.360000Z"
    }
   },
   "outputs": [
    {
     "data": {
      "text/plain": [
       "['kak 😁 convert pulsa bisa dijadikan apa saja ya? transfer bank? topup ovo, gopay, paypro? pasti bisa donk, atau ada keperluan lain untuk bayar ini itu??  ada solusinya, langsung hubungin kami saja ka : line :  wa : 0831-8387-5873 salam kami ',\n",
       " 'min ada head unit double din',\n",
       " 'dari pada buat giveaway kan mending urus komplain dulu gan  ini gk ada pertanggung jawabanya sama sekali homecredit, ati2 guys kalo kalian pake jasa disini',\n",
       " '👍👍',\n",
       " 'stoooppp !!! apa2an ini !!!??? ga boleh sembarangan menuduh kalau ga ada buktinya !!! udah ga usah ikut2an. dosa tau !!!']"
      ]
     },
     "execution_count": 25,
     "metadata": {},
     "output_type": "execute_result"
    }
   ],
   "source": [
    "random.sample(corpus, 5)"
   ]
  },
  {
   "cell_type": "markdown",
   "metadata": {},
   "source": [
    "### Remove Url"
   ]
  },
  {
   "cell_type": "code",
   "execution_count": 26,
   "metadata": {
    "ExecuteTime": {
     "end_time": "2020-03-24T08:27:12.062000Z",
     "start_time": "2020-03-24T08:27:11.919000Z"
    }
   },
   "outputs": [],
   "source": [
    "corpus = [regex_remove_url(s) for s in corpus]"
   ]
  },
  {
   "cell_type": "code",
   "execution_count": 27,
   "metadata": {
    "ExecuteTime": {
     "end_time": "2020-03-24T08:27:12.076000Z",
     "start_time": "2020-03-24T08:27:12.071000Z"
    }
   },
   "outputs": [
    {
     "data": {
      "text/plain": [
       "['  ',\n",
       " 'waspadalah waspadalah',\n",
       " '1. warna hijab wanita 2. sepatu pria 3.logo di dada yang pria 4.warna celana wanita 5. warna celana pria    ',\n",
       " 'rumanh mantan anjirr',\n",
       " 'halo admin,ini maksudnya dengan upload foto dan caption atau cuma repost banner dan caption ?']"
      ]
     },
     "execution_count": 27,
     "metadata": {},
     "output_type": "execute_result"
    }
   ],
   "source": [
    "random.sample(corpus, 5)"
   ]
  },
  {
   "cell_type": "markdown",
   "metadata": {},
   "source": [
    "### Simplify Punctuations\n",
    "\n",
    "1. `?`, `!` --> `.`\n",
    "2. `;` --> `,`\n",
    "3. `'` --> `<empty>`"
   ]
  },
  {
   "cell_type": "code",
   "execution_count": 28,
   "metadata": {
    "ExecuteTime": {
     "end_time": "2020-03-24T08:27:13.525000Z",
     "start_time": "2020-03-24T08:27:12.427000Z"
    }
   },
   "outputs": [],
   "source": [
    "corpus = [''.join([simplified_punctuation_map.get(c, c) for c in s]) for s in corpus]"
   ]
  },
  {
   "cell_type": "code",
   "execution_count": 29,
   "metadata": {
    "ExecuteTime": {
     "end_time": "2020-03-24T08:27:13.534000Z",
     "start_time": "2020-03-24T08:27:13.528000Z"
    }
   },
   "outputs": [
    {
     "data": {
      "text/plain": [
       "['getjanuary gak ada min.',\n",
       " '5 dongg',\n",
       " 'mau credit dana bisa 🙏🙏🙏',\n",
       " 'baca dm ya min plis',\n",
       " 'pelaku pencuri itu orang c, yang pake helm dan jaket merah. dah itu, aja seperti dah cukup penjelasan😮 _ap .octas _rizky_ramadhani']"
      ]
     },
     "execution_count": 29,
     "metadata": {},
     "output_type": "execute_result"
    }
   ],
   "source": [
    "random.sample(corpus, 5)"
   ]
  },
  {
   "cell_type": "markdown",
   "metadata": {},
   "source": [
    "### Remove Non Alphanumerical + Punctuation Character\n",
    "\n",
    "This is done according to the character map used in the model."
   ]
  },
  {
   "cell_type": "code",
   "execution_count": 30,
   "metadata": {
    "ExecuteTime": {
     "end_time": "2020-03-24T08:27:13.682000Z",
     "start_time": "2020-03-24T08:27:13.538000Z"
    }
   },
   "outputs": [],
   "source": [
    "corpus = [regex_remove_non_charmap(s) for s in corpus]"
   ]
  },
  {
   "cell_type": "code",
   "execution_count": 31,
   "metadata": {
    "ExecuteTime": {
     "end_time": "2020-03-24T08:27:13.694000Z",
     "start_time": "2020-03-24T08:27:13.685000Z"
    }
   },
   "outputs": [
    {
     "data": {
      "text/plain": [
       "['kalo di daerah bekasi dimananya storenya ,....',\n",
       " 'sudah jauh datang buat bertemu dg agennyaa hasilnyaa malah zonk, agennya yg ditunggu   tunggu malah telat lagi ,gak tau apaa cuaca nya ituu hujan deras  pakaian pada basah semua, keringnya pakaian dg angin sajaa kesalahan d agennyaa pasti nih .terimakasih   sudah menolak sayaa.',\n",
       " 'zonk berarti aku pdahl da byk x share',\n",
       " 'management gaada majunya',\n",
       " 'tolong respon dm saya min ']"
      ]
     },
     "execution_count": 31,
     "metadata": {},
     "output_type": "execute_result"
    }
   ],
   "source": [
    "random.sample(corpus, 5)"
   ]
  },
  {
   "cell_type": "markdown",
   "metadata": {},
   "source": [
    "### Percentage with Comma"
   ]
  },
  {
   "cell_type": "code",
   "execution_count": 32,
   "metadata": {
    "ExecuteTime": {
     "end_time": "2020-03-24T08:27:14.065000Z",
     "start_time": "2020-03-24T08:27:13.697000Z"
    }
   },
   "outputs": [],
   "source": [
    "corpus = [regex_percentage_with_comma(s) for s in corpus]"
   ]
  },
  {
   "cell_type": "code",
   "execution_count": 33,
   "metadata": {
    "ExecuteTime": {
     "end_time": "2020-03-24T08:27:15.381000Z",
     "start_time": "2020-03-24T08:27:15.375000Z"
    }
   },
   "outputs": [
    {
     "data": {
      "text/plain": [
       "['yuhuyyy done  ',\n",
       " 'haloo min  tolong  bls dm saya.mau tnya klo mitra cilegon serang dimana yah',\n",
       " 'aku udah ikutan nih... hehehe semoga aku dapet kamera, soalnya udah lama pengen banget punya kamera ',\n",
       " ' ngakak v',\n",
       " 'min pengumuman getdesember.']"
      ]
     },
     "execution_count": 33,
     "metadata": {},
     "output_type": "execute_result"
    }
   ],
   "source": [
    "random.sample(corpus, 5)"
   ]
  },
  {
   "cell_type": "markdown",
   "metadata": {},
   "source": [
    "### Currency"
   ]
  },
  {
   "cell_type": "code",
   "execution_count": 34,
   "metadata": {
    "ExecuteTime": {
     "end_time": "2020-03-24T08:27:16.024000Z",
     "start_time": "2020-03-24T08:27:15.892000Z"
    }
   },
   "outputs": [],
   "source": [
    "corpus = [regex_currency(s) for s in corpus]"
   ]
  },
  {
   "cell_type": "code",
   "execution_count": 35,
   "metadata": {
    "ExecuteTime": {
     "end_time": "2020-03-24T08:27:16.062000Z",
     "start_time": "2020-03-24T08:27:16.056000Z"
    }
   },
   "outputs": [
    {
     "data": {
      "text/plain": [
       "['hati2 banyak penipuan mengatasnamakan homekredit',\n",
       " 'semoga aku yang menang',\n",
       " 'kasih info dong biar aku tdk di teror2 telpon pertama ketika diangkat mati terus telp nawarin2  terganggu tau nggak sih',\n",
       " '7 labu ',\n",
       " 'ka anya tau ga perbedaannya ka anya sama cincin.. kalo cincin di jari manis kalo ka anya dihati aku eaaa      ']"
      ]
     },
     "execution_count": 35,
     "metadata": {},
     "output_type": "execute_result"
    }
   ],
   "source": [
    "random.sample(corpus, 5)"
   ]
  },
  {
   "cell_type": "markdown",
   "metadata": {},
   "source": [
    "### Frequency"
   ]
  },
  {
   "cell_type": "code",
   "execution_count": 36,
   "metadata": {
    "ExecuteTime": {
     "end_time": "2020-03-24T08:27:17.176000Z",
     "start_time": "2020-03-24T08:27:16.830000Z"
    }
   },
   "outputs": [],
   "source": [
    "corpus = [regex_frequency(s) for s in corpus]"
   ]
  },
  {
   "cell_type": "code",
   "execution_count": 37,
   "metadata": {
    "ExecuteTime": {
     "end_time": "2020-03-24T08:27:17.186000Z",
     "start_time": "2020-03-24T08:27:17.179000Z"
    }
   },
   "outputs": [
    {
     "data": {
      "text/plain": [
       "['mau ganti hp . yuk  aja sob ',\n",
       " 'penyesalan seumur hidup kalo kredit di , siap siap di teror bahkan keluargapun ikut di teror. blokir aja homecredit. coba sekali penyesalan seumur hidup.',\n",
       " 'mendung, becek, gerimis, genangan, badai   ',\n",
       " 'so usseles aplication, i have money , lu semua rijek data gue, data keluarga gue , cuma gara2 gak ke angkat kalian rijek seenaknya , woi kalian bisa kan hubungi sekitar 1 jam kemudian, lucu kalian',\n",
       " 'harus ikuttttt']"
      ]
     },
     "execution_count": 37,
     "metadata": {},
     "output_type": "execute_result"
    }
   ],
   "source": [
    "random.sample(corpus, 5)"
   ]
  },
  {
   "cell_type": "markdown",
   "metadata": {},
   "source": [
    "### Contract Number"
   ]
  },
  {
   "cell_type": "code",
   "execution_count": 38,
   "metadata": {
    "ExecuteTime": {
     "end_time": "2020-03-24T08:27:17.312000Z",
     "start_time": "2020-03-24T08:27:17.249000Z"
    }
   },
   "outputs": [],
   "source": [
    "corpus = [regex_contract_number(s) for s in corpus]"
   ]
  },
  {
   "cell_type": "code",
   "execution_count": 39,
   "metadata": {
    "ExecuteTime": {
     "end_time": "2020-03-24T08:27:17.544000Z",
     "start_time": "2020-03-24T08:27:17.534000Z"
    }
   },
   "outputs": [
    {
     "data": {
      "text/plain": [
       "['bagaimana klaim saya . saya sudah terlalu banyak dipersulit dari pihak homecredit, tolong dipercepat, jangan terus mengulur waktu, saya sangat kecewa dengan homecredit, terlalu ribet, sangat mempersulit pelanggan tolong segera dipercepat klaim refund tiket saya',\n",
       " 'masa screenshotnya kuburan coba  oke gua cerita tentang kuburan, kuburan adalah tempat dimana kehidupan sesungguhnya baru dimulai siap tidak siap kita semua akan pergi kesana jadi apalah yang harus kita banggakan semua hanya milik allah yang maha pencipta tidak perlu kita sombongkan semua yang kita punya karna allah berfirman alangkah dahsyatnya sekiranya kamu melihat di waktu orang orang yang zalim berada dalam tekanan sakratul maut, sedang para malaikat memukul dengan tangannya, sambil berkata keluarkanlah nyawamu di hari ini kamu dibalas dengansiksa yang sangat menghinakan, karena kamu selalu mengatakan terhadap allah perkataan yang tidak benar dan karena kamu selalu menyombongkan diri terhadap ayat ayatnya. qs. al anam 93 pasti  didalam kubur adalah selamat dari azabnya, maka dari itu cepatlah bergegas untuk berubah menjadi lebih baik dari kemarin, lebih taat dari kemarin  kuyy      ',\n",
       " 'pencapaian saya di tahun 2019 ini adalah dapat menyelesaikan masa masa kuliah per semester dengan lancar. dan tak terasa tahun depan wisuda. akhirnya saya bisa menjawab pertanyaan pertanyaan menjengkelkan terkait kapan wisuda. semoga aja gua juga cepet nikah biar orang orang ga tanya mulu kapan nikah    maneno  ',\n",
       " 'pantun 11 segala barang yang kamu butuhkan semuanya ada di homecredit ni  memang membanggakan tak ada yang bisa menandingi alasan kenapa harus menang aku mau smartphone xiaomi note 10 prosamsung a20s karena kalau ga dapet aku cuma bisa bersedih,tapi mau sedih juga ga jadi ada home credit saya mau beli hp baru 1 kali 2x36 jadi jawabannya adalah 6    ',\n",
       " '27']"
      ]
     },
     "execution_count": 39,
     "metadata": {},
     "output_type": "execute_result"
    }
   ],
   "source": [
    "random.sample(corpus, 5)"
   ]
  },
  {
   "cell_type": "markdown",
   "metadata": {},
   "source": [
    "### Phone Number"
   ]
  },
  {
   "cell_type": "code",
   "execution_count": 40,
   "metadata": {
    "ExecuteTime": {
     "end_time": "2020-03-24T08:27:18.542000Z",
     "start_time": "2020-03-24T08:27:18.400000Z"
    }
   },
   "outputs": [],
   "source": [
    "corpus = [regex_phone_number(s) for s in corpus]"
   ]
  },
  {
   "cell_type": "code",
   "execution_count": 41,
   "metadata": {
    "ExecuteTime": {
     "end_time": "2020-03-24T08:27:18.557000Z",
     "start_time": "2020-03-24T08:27:18.552000Z"
    }
   },
   "outputs": [
    {
     "data": {
      "text/plain": [
       "['no 4',\n",
       " 'video 1 . cintol  serangga, yang kamu lakukan ke saya itu ........  cintol berpikir sangat lama untuk kelanjutannya. sampai sampai dia memesan kopi dulu .  serangga  hey penulis, lanjutkan ceritanya. apa kau tidak mau hadiah. kata serangga kepada penulis, karena sudah lama menunggu penulis  iya iya, lebih baik kalian berdua doakan aku mendapatkan lanjutannya, dan jangan lupa juga, doakan aku mendapatkan hadiah  kata penulisnya, mengajak mereka. c  s  ashiiiaap dengan suara khass . dan saat jalan, tiba tiba penulis mendapat ide . penulis  apa ku tulis jaaaaaaaaaaangkrik saja ya. tapi jaa nya panjang. supaya pembaca kira jahat padahal jangkrik . berbicara dengan hatinya dann. hingga saat ini, kira kira masih itu kelanjutannya .  video 2 . dahlan  kamu cantik. tapi aku belum mencintaimu, tapi gatau kalau.... kamu lepaskan kakiku yang kamu injek  kata dahlan dengan membisikkannya ke hidung mileak. mileak  emang aku injek. enggaa... mileak hampir pingsan karena bau mulut dahlan . dahlan pun bingung. dan langsung menanyakan kepada penulis . dahlan  hey penulis, mengapa kau suruh aku mengucap kata kata bohong itu.  penulis   dasar bodoh. maksudku, kakiku yang harus kau lepas, kau menginjak kakiku.  kata penulisnya dengan sedikit marah .  mileak  dasar orang orang aneh.  mileak pergi. menjadikan hari itu hari sial baginya, karena sudah bertemu dengan 2 orang bodoh .  video 3 . juna nama samaran  aku sisirin ya buu. rambut ibuu.... berarti bukan rambut ayah kan.  dia bilang dengan bodoh bu juned  yaiyalah, emang kamu tahu ayahmu siapa. bu juned bertanya juna  gatau, siapa bu. tanyanya dengan bingung . bu juned  ayahmu adalah orang yang sangat ingin mendapatkan hadiah dari  . perjelas bu juned . juna  ohh penulis cerita ini. tapi,  itu apa bu. tanyanya lagi . bu juned   itu adalah tempat untuk kredit barang atau dana non tunai. bu juned menjelaskan sedangkan pa juned tertawa, karena istrinya tidak tau. istrinya saja masih kredit yu  .0     ',\n",
       " 'ternyata banyak juga yang komplain karena ditelponin terus, nasib saya juga sama, tetapi saya sudah bersurat ke care centrenya, setelah sudah merasa terganggu sekali ditelpon setiap hari untuk ditawarin dana kredit. walaupun sudah berkali kali menolak, pada saat iatirahat ditelpon, lagi bekerja ditelpon, lagi meeting ditelpon, sedang tidur ditelpon, terus terang kapok kredit di hc padahal pelayanannya bagus sekali di denpasar, cepat ramah dan tanggap. seharusnya home kredit musti bisa berbenah...',\n",
       " '19 pantun lagi mancing ketemu anya tiba tiba ketemu buaya mau tau peraturannya. kepoin terus dan follow  ya alasan kenapa aku harus menangkarena saya belum pernah menang di kuisnya home credit 1 kali 2x36 jadi jawabannya adalah 6    ',\n",
       " 'berhasil']"
      ]
     },
     "execution_count": 41,
     "metadata": {},
     "output_type": "execute_result"
    }
   ],
   "source": [
    "random.sample(corpus, 5)"
   ]
  },
  {
   "cell_type": "markdown",
   "metadata": {},
   "source": [
    "### Spell Number"
   ]
  },
  {
   "cell_type": "code",
   "execution_count": 42,
   "metadata": {
    "ExecuteTime": {
     "end_time": "2020-03-24T08:27:19.888000Z",
     "start_time": "2020-03-24T08:27:19.042000Z"
    }
   },
   "outputs": [],
   "source": [
    "corpus = [regex_spell_number(s) for s in corpus]"
   ]
  },
  {
   "cell_type": "code",
   "execution_count": 43,
   "metadata": {
    "ExecuteTime": {
     "end_time": "2020-03-24T08:27:19.898000Z",
     "start_time": "2020-03-24T08:27:19.891000Z"
    }
   },
   "outputs": [
    {
     "data": {
      "text/plain": [
       "['  jawaban aku  enam  kenapa harus saya yang di pilih karna saya mau hadiahin hp baru mama saya , biar bisa vidio call karna terpisah jarak , smoga rekeki aku ya min karna saya yakin dengan  dr give away nya saya pasti bisa ..  yuk ikutan dhea    yakin     ',\n",
       " 'ada peniti di kapal selam  ada kue pancong ditengahnya bolong hati hati jalan malam  dibelakangmu ada pocong dan sundel bolong  panda seratus delapan puluh dua    ',\n",
       " 'r',\n",
       " 'itu yg dipake mas nya hp samsung apa ya .',\n",
       " 'dfggggffjso']"
      ]
     },
     "execution_count": 43,
     "metadata": {},
     "output_type": "execute_result"
    }
   ],
   "source": [
    "random.sample(corpus, 5)"
   ]
  },
  {
   "cell_type": "markdown",
   "metadata": {},
   "source": [
    "### Trim Multiple Spaces"
   ]
  },
  {
   "cell_type": "code",
   "execution_count": 44,
   "metadata": {
    "ExecuteTime": {
     "end_time": "2020-03-24T08:27:22.934000Z",
     "start_time": "2020-03-24T08:27:22.807000Z"
    }
   },
   "outputs": [],
   "source": [
    "corpus = [' '.join(s.split()) for s in corpus]"
   ]
  },
  {
   "cell_type": "code",
   "execution_count": 45,
   "metadata": {
    "ExecuteTime": {
     "end_time": "2020-03-24T08:27:23.107000Z",
     "start_time": "2020-03-24T08:27:23.099000Z"
    }
   },
   "outputs": [
    {
     "data": {
      "text/plain": [
       "['yang c',\n",
       " 'pencapaian terbesar saya di th dua ribu sembilan belas ialah berjodoh dengan home credit indonesia d karena di home credit aku bisa cicil barang impian yang aku mau tanpa kartu kredit, lebih enaknya lagi di home credit ada , jadi ngga pusing deh mikirin bunga wkwk di home credit ada juga asuransi untuk handphone yang kita pilih, jadi semisal ada kerusakan fisik secara tidak disengaja bisa diganti baru lohhh selain itu, bayar cicilan per bulan juga tanpa biaya admin di payment point, ngga kaya pembiayaan lain wkwk terimakasih home credit sudah percaya sama aku, terima juga buat mas sales yang item manis ramah yang udah bantu proses pengajuan cicilanku, prosesnya ngga sampai berhari hari, ngga sampai berjam jam, cuma dua puluh menit, udah di disetujui sama home credit hayooo teman teman seantero jagad netizenesia, silahkan beli dengan dari',\n",
       " 'sembilan',\n",
       " 'ada sembilan',\n",
       " 'hai kalau menurut penerawangan saya sih yang mencuri laptop korban adalah orang a. kenapa orang a. yang pertama adalah karena pelaku kejahatan itu biasanya adalah orang terdekat. nah orang a adalah yang terdekat dengan pemilik laptop. yang kedua karena kejahatan itu terjadi bukan hanya karena ada niat saja, tetapi karena ada kesempatan. nah orang a juga merupakan yang memiliki kesempatan terbesar untuk mengambil laptop tersebut ya ga sih. iyain ajalah yuk ikutan jawab sjiwa ra']"
      ]
     },
     "execution_count": 45,
     "metadata": {},
     "output_type": "execute_result"
    }
   ],
   "source": [
    "random.sample(corpus, 5)"
   ]
  },
  {
   "cell_type": "markdown",
   "metadata": {},
   "source": [
    "### Remove Multiple Punctuations"
   ]
  },
  {
   "cell_type": "code",
   "execution_count": 46,
   "metadata": {
    "ExecuteTime": {
     "end_time": "2020-03-24T08:27:25.172000Z",
     "start_time": "2020-03-24T08:27:24.946000Z"
    }
   },
   "outputs": [],
   "source": [
    "corpus = [regex_multiple_punctuations(s) for s in corpus]"
   ]
  },
  {
   "cell_type": "code",
   "execution_count": 47,
   "metadata": {
    "ExecuteTime": {
     "end_time": "2020-03-24T08:27:25.737000Z",
     "start_time": "2020-03-24T08:27:25.731000Z"
    },
    "scrolled": false
   },
   "outputs": [
    {
     "data": {
      "text/plain": [
       "['sering foto dipesawat, kelilipan abu rokok di post satpam',\n",
       " 'ku mau pinjam uang lg tapi angsuran tingal satu bulan lg bisa gk ngambil lagi',\n",
       " 'warna celana perempuan, warna dan model sepatu cowo, saku pada baju cowo , warna jilbab, warna celana cowo, lambang homecredit di sblh kanan',\n",
       " 'ribet disini harus punya npwp. bpjs ketenagakerjaan. klo yg gk punya gk bs kredit',\n",
       " 'susah cairnya, pdhal ak tuh gk punya masalah bi ceking, dan tdk punya utang di lesing lain, buktinya gk di acc, pengajuan lima belas juta gk acc, katanya klu mau di acc pengajuan lima juta bisa di acc, prettt ternyata data udh masuk ehh tau tau lima juta juga gk di acc. klu niat mau bantu org bik yo jgn terlalu ribet, omongny aja empuk kyk telo']"
      ]
     },
     "execution_count": 47,
     "metadata": {},
     "output_type": "execute_result"
    }
   ],
   "source": [
    "random.sample(corpus, 5)"
   ]
  },
  {
   "cell_type": "markdown",
   "metadata": {},
   "source": [
    "### (Optional) Triplet Punctuactions\n",
    "\n",
    "If using subword model, this step is optional, since space is treated as a basic symbol."
   ]
  },
  {
   "cell_type": "code",
   "execution_count": 48,
   "metadata": {
    "ExecuteTime": {
     "end_time": "2020-03-24T08:27:27.605000Z",
     "start_time": "2020-03-24T08:27:26.813000Z"
    }
   },
   "outputs": [],
   "source": [
    "corpus = [regex_triplet_punctuations(s) for s in corpus]"
   ]
  },
  {
   "cell_type": "code",
   "execution_count": 49,
   "metadata": {
    "ExecuteTime": {
     "end_time": "2020-03-24T08:27:27.615000Z",
     "start_time": "2020-03-24T08:27:27.608000Z"
    },
    "scrolled": true
   },
   "outputs": [
    {
     "data": {
      "text/plain": [
       "['jawabannya enam semoga kali ini saya bisa jadi pemenang nya, semoga saat ini ada rezeki buat saya karena pengen punya hape baru dan sudah sering ikutan giveaway di tapi belum pernah dapet dan semoga semakin sukses yukkk. andriastuty ikutan giveaway nya',\n",
       " 'gerimis, mendung, becek, genengan, badai',\n",
       " 'tiga',\n",
       " 'bales lah kalo ada yang tanya tanya di dm, admin sudah selayaknya bales pertanyaan customer. kami bayar cicilan itu lancarin usaha kalian juga loh, lo kalo telat bayar kepo bgt kan. ',\n",
       " 'ada promo cicilan nol persen gk buat hp samsung. ']"
      ]
     },
     "execution_count": 49,
     "metadata": {},
     "output_type": "execute_result"
    }
   ],
   "source": [
    "random.sample(corpus, 5)"
   ]
  },
  {
   "cell_type": "markdown",
   "metadata": {},
   "source": [
    "### Remove Empty String and Strip"
   ]
  },
  {
   "cell_type": "code",
   "execution_count": 50,
   "metadata": {
    "ExecuteTime": {
     "end_time": "2020-03-24T08:27:29.300000Z",
     "start_time": "2020-03-24T08:27:29.283000Z"
    }
   },
   "outputs": [],
   "source": [
    "corpus = [s.strip() for s in corpus if s != '']"
   ]
  },
  {
   "cell_type": "code",
   "execution_count": 51,
   "metadata": {
    "ExecuteTime": {
     "end_time": "2020-03-24T08:27:29.449000Z",
     "start_time": "2020-03-24T08:27:29.442000Z"
    }
   },
   "outputs": [
    {
     "data": {
      "text/plain": [
       "['bully aja bully hahahaha',\n",
       " 'saya udah punya kontrakpembiyaan multiguna tpi bingung harus kemna ya supaya di acc',\n",
       " 'ada tujuh. simbol atas kanan. payung. pohon di kanan. gedung di kanan. sepatu. jenggot. simbol kanan bawah.',\n",
       " 'nenekku lagi rehat adikku pakek gigi kawat baju putih nampak terlihat ternyata hantu yang telah lewat nuriawaty dua puluh dua indra',\n",
       " 'hai bioskop. ada kenangan tersendiri tiga belas tahun yang lalu di sana, saat aku mengenal mantan pacar yang sekarang udah jadi ayah dari anak anak ku, dan setiap tanggal sepuluh juli kami wajib nonton ke bioskop, bawa anak dua juga karena di bioskop lah awal aku dan dia bertemu setiawan sembilan puluh delapan ncha']"
      ]
     },
     "execution_count": 51,
     "metadata": {},
     "output_type": "execute_result"
    }
   ],
   "source": [
    "random.sample(corpus, 5)"
   ]
  },
  {
   "cell_type": "markdown",
   "metadata": {},
   "source": [
    "### Remove One Word Only Documents"
   ]
  },
  {
   "cell_type": "code",
   "execution_count": 52,
   "metadata": {
    "ExecuteTime": {
     "end_time": "2020-03-24T08:27:30.521000Z",
     "start_time": "2020-03-24T08:27:30.415000Z"
    }
   },
   "outputs": [],
   "source": [
    "corpus = [s for s in corpus if len(s.split()) > 1]"
   ]
  },
  {
   "cell_type": "code",
   "execution_count": 53,
   "metadata": {
    "ExecuteTime": {
     "end_time": "2020-03-24T08:27:30.574000Z",
     "start_time": "2020-03-24T08:27:30.567000Z"
    }
   },
   "outputs": [
    {
     "data": {
      "text/plain": [
       "['rumah mantan, yess gagal move on, bakalan gue ulang dari awal mulai dari kenalan lebih akrab lagi, dekat dengan keluarganya, makan bareng, ngobrol bareng, n jadian lagi yuk ikutan kerumah mantan gue fahmi seratus dua puluh tiga',\n",
       " 'mimin mohon kesediaan membaca dm saya. trims mimin',\n",
       " 'bismillah saya sudah ikutan',\n",
       " 'satu pulang kampung dua angpao tiga baju baru empat tabungan lima investasi',\n",
       " 'min kuis ini udah diumumin belom pemennagnya']"
      ]
     },
     "execution_count": 53,
     "metadata": {},
     "output_type": "execute_result"
    }
   ],
   "source": [
    "random.sample(corpus, 5)"
   ]
  },
  {
   "cell_type": "markdown",
   "metadata": {},
   "source": [
    "## Compare Stats\n",
    "\n",
    "Recalculate stats after cleaning."
   ]
  },
  {
   "cell_type": "code",
   "execution_count": 54,
   "metadata": {
    "ExecuteTime": {
     "end_time": "2020-03-24T08:27:32.248000Z",
     "start_time": "2020-03-24T08:27:31.967000Z"
    }
   },
   "outputs": [],
   "source": [
    "after_cleaning_stats = sparsity(corpus)"
   ]
  },
  {
   "cell_type": "code",
   "execution_count": 55,
   "metadata": {
    "ExecuteTime": {
     "end_time": "2020-03-24T08:27:32.259000Z",
     "start_time": "2020-03-24T08:27:32.251000Z"
    }
   },
   "outputs": [
    {
     "name": "stdout",
     "output_type": "stream",
     "text": [
      "Number of documents: 26350\n",
      "Sum of Ni: 550641\n",
      "Vocab size: 82637\n",
      "Sparsity: 0.9997471206402597\n"
     ]
    }
   ],
   "source": [
    "print_stats(before_cleaning_stats)"
   ]
  },
  {
   "cell_type": "code",
   "execution_count": 56,
   "metadata": {
    "ExecuteTime": {
     "end_time": "2020-03-24T08:27:33.101000Z",
     "start_time": "2020-03-24T08:27:33.088000Z"
    }
   },
   "outputs": [
    {
     "name": "stdout",
     "output_type": "stream",
     "text": [
      "Number of documents: 22751\n",
      "Sum of Ni: 511616\n",
      "Vocab size: 42019\n",
      "Sparsity: 0.9994648224156335\n"
     ]
    }
   ],
   "source": [
    "print_stats(after_cleaning_stats)"
   ]
  },
  {
   "cell_type": "markdown",
   "metadata": {},
   "source": [
    "## Save Corpus and Vocab"
   ]
  },
  {
   "cell_type": "code",
   "execution_count": 57,
   "metadata": {
    "ExecuteTime": {
     "end_time": "2020-03-24T08:27:51.169000Z",
     "start_time": "2020-03-24T08:27:51.016000Z"
    }
   },
   "outputs": [],
   "source": [
    "with open(\"../../dataset/corpus/instagram_corpus.txt\", 'w') as f:\n",
    "    for document in corpus:\n",
    "        f.write(f\"{document}\\n\")"
   ]
  },
  {
   "cell_type": "code",
   "execution_count": 58,
   "metadata": {
    "ExecuteTime": {
     "end_time": "2020-03-24T08:27:51.440000Z",
     "start_time": "2020-03-24T08:27:51.201000Z"
    }
   },
   "outputs": [],
   "source": [
    "with open(\"../../dataset/corpus/instagram_vocab.txt\", 'w') as f:\n",
    "    for vocab in after_cleaning_stats['V']:\n",
    "        vocab_clean = re.sub('[.,]', '', vocab)\n",
    "        f.write(f\"{vocab_clean}\\n\")"
   ]
  },
  {
   "cell_type": "markdown",
   "metadata": {},
   "source": [
    "## (Optional) Sub Word Tokenizer\n",
    "\n",
    "In case we want to use sub word token, or word pieces."
   ]
  },
  {
   "cell_type": "code",
   "execution_count": 2,
   "metadata": {
    "ExecuteTime": {
     "end_time": "2020-03-19T09:54:32.063203Z",
     "start_time": "2020-03-19T09:54:25.553203Z"
    }
   },
   "outputs": [
    {
     "data": {
      "text/plain": [
       "True"
      ]
     },
     "execution_count": 2,
     "metadata": {},
     "output_type": "execute_result"
    }
   ],
   "source": [
    "import sentencepiece as spm\n",
    "spm.SentencePieceTrainer.train('--input=../../dataset/corpus/instagram_corpus.txt --model_prefix=m --vocab_size=8000')"
   ]
  },
  {
   "cell_type": "code",
   "execution_count": 3,
   "metadata": {
    "ExecuteTime": {
     "end_time": "2020-03-19T09:54:40.234203Z",
     "start_time": "2020-03-19T09:54:40.192203Z"
    }
   },
   "outputs": [
    {
     "data": {
      "text/plain": [
       "True"
      ]
     },
     "execution_count": 3,
     "metadata": {},
     "output_type": "execute_result"
    }
   ],
   "source": [
    "sp = spm.SentencePieceProcessor()\n",
    "sp.load('m.model')"
   ]
  },
  {
   "cell_type": "code",
   "execution_count": 18,
   "metadata": {
    "ExecuteTime": {
     "end_time": "2020-03-19T09:57:23.591203Z",
     "start_time": "2020-03-19T09:57:23.574203Z"
    }
   },
   "outputs": [
    {
     "name": "stdout",
     "output_type": "stream",
     "text": [
      "['▁homecredit', '▁kamu', '▁bisa']\n",
      "[123, 72, 16]\n"
     ]
    }
   ],
   "source": [
    "print(sp.encode_as_pieces('homecredit kamu bisa'))\n",
    "print(sp.encode_as_ids('homecredit kamu bisa'))"
   ]
  },
  {
   "cell_type": "code",
   "execution_count": 20,
   "metadata": {
    "ExecuteTime": {
     "end_time": "2020-03-19T09:57:31.769203Z",
     "start_time": "2020-03-19T09:57:31.751203Z"
    }
   },
   "outputs": [
    {
     "name": "stdout",
     "output_type": "stream",
     "text": [
      "homecredit kamu bisa\n",
      "homecredit kamu bisa\n"
     ]
    }
   ],
   "source": [
    "print(sp.decode_pieces(['▁homecredit', '▁kamu', '▁bisa']))\n",
    "print(sp.decode_ids([123, 72, 16]))"
   ]
  },
  {
   "cell_type": "code",
   "execution_count": 26,
   "metadata": {
    "ExecuteTime": {
     "end_time": "2020-03-19T10:05:05.547203Z",
     "start_time": "2020-03-19T10:05:05.530203Z"
    }
   },
   "outputs": [
    {
     "data": {
      "text/plain": [
       "[-6.7618937492370605, -6.207313537597656, -5.053555011749268]"
      ]
     },
     "execution_count": 26,
     "metadata": {},
     "output_type": "execute_result"
    }
   ],
   "source": [
    "[sp.GetScore(id) for id in [123, 72, 16]]"
   ]
  },
  {
   "cell_type": "code",
   "execution_count": 127,
   "metadata": {
    "ExecuteTime": {
     "end_time": "2020-03-19T04:32:22.468203Z",
     "start_time": "2020-03-19T04:32:22.448203Z"
    }
   },
   "outputs": [
    {
     "name": "stdout",
     "output_type": "stream",
     "text": [
      "['▁', 'homecredit', '▁kamu', '▁bisa']\n",
      "['▁ho', 'm', 'e', 'c', 'redit', '▁ka', 'mu', '▁bis', 'a']\n",
      "['▁', 'homecredit', '▁kamu', '▁b', 'i', 's', 'a']\n",
      "['▁', 'home', 'credit', '▁ka', 'mu', '▁', 'b', 'i', 's', 'a']\n",
      "['▁', 'homecredit', '▁kam', 'u', '▁', 'bisa']\n",
      "['▁', 'homecredit', '▁', 'ka', 'mu', '▁bi', 'sa']\n",
      "['▁', 'h', 'o', 'm', 'e', 'c', 'r', 'e', 'd', 'it', '▁', 'k', 'a', 'mu', '▁b', 'i', 'sa']\n",
      "['▁', 'homecredit', '▁ka', 'mu', '▁', 'b', 'isa']\n",
      "['▁ho', 'me', 'c', 'redit', '▁k', 'am', 'u', '▁bisa']\n",
      "['▁', 'home', 'c', 'r', 'e', 'd', 'i', 't', '▁', 'k', 'a', 'm', 'u', '▁bis', 'a']\n",
      "[433, 2096, 106, 396, 5858, 11, 3504, 205, 16]\n",
      "[11, 5089, 5101, 72, 16]\n",
      "[433, 326, 1069, 5101, 131, 757, 205, 1031, 80]\n",
      "[11, 5089, 5101, 11, 86, 80, 200, 205, 57, 42, 410]\n",
      "[44, 396, 5858, 11, 86, 80, 219, 11, 2266]\n",
      "[44, 5101, 72, 16]\n",
      "[11, 94, 326, 1069, 5101, 4045, 205, 16]\n",
      "[123, 72, 791, 410]\n",
      "[1754, 200, 106, 5101, 72, 16]\n",
      "[11, 5089, 5101, 72, 16]\n"
     ]
    }
   ],
   "source": [
    "for n in range(10):\n",
    "    print(sp.sample_encode_as_pieces('homecredit kamu bisa', -1, 0.1))\n",
    "for n in range(10):\n",
    "    print(sp.sample_encode_as_ids('homecredit kamu bisa', -1, 0.1))"
   ]
  },
  {
   "cell_type": "code",
   "execution_count": 128,
   "metadata": {
    "ExecuteTime": {
     "end_time": "2020-03-19T04:33:06.618203Z",
     "start_time": "2020-03-19T04:33:06.603203Z"
    }
   },
   "outputs": [
    {
     "name": "stdout",
     "output_type": "stream",
     "text": [
      "[['▁homecredit', '▁kamu', '▁bisa'], ['▁', 'homecredit', '▁kamu', '▁bisa'], ['▁homecredit', '▁ka', 'mu', '▁bisa'], ['▁homecredit', '▁kamu', '▁', 'bisa'], ['▁homecredit', '▁kamu', '▁bis', 'a'], ['▁home', 'credit', '▁kamu', '▁bisa'], ['▁homecredit', '▁kamu', '▁b', 'isa'], ['▁homecredit', '▁kamu', '▁bi', 'sa'], ['▁homecredit', '▁kam', 'u', '▁bisa'], ['▁homecredit', '▁k', 'a', 'mu', '▁bisa']]\n",
      "[[123, 72, 16], [11, 2390, 72, 16], [123, 380, 219, 16], [123, 72, 11, 2266], [123, 72, 1031, 80], [44, 5101, 72, 16], [123, 72, 57, 2752], [123, 72, 791, 410], [123, 4045, 205, 16], [123, 131, 80, 219, 16]]\n"
     ]
    }
   ],
   "source": [
    "# get 10 best\n",
    "print(sp.nbest_encode_as_pieces('homecredit kamu bisa', 10))\n",
    "print(sp.nbest_encode_as_ids('homecredit kamu bisa', 10))"
   ]
  },
  {
   "cell_type": "markdown",
   "metadata": {},
   "source": [
    " "
   ]
  }
 ],
 "metadata": {
  "hide_input": false,
  "kernelspec": {
   "display_name": "Python 3",
   "language": "python",
   "name": "python3"
  },
  "language_info": {
   "codemirror_mode": {
    "name": "ipython",
    "version": 3
   },
   "file_extension": ".py",
   "mimetype": "text/x-python",
   "name": "python",
   "nbconvert_exporter": "python",
   "pygments_lexer": "ipython3",
   "version": "3.7.3"
  },
  "toc": {
   "base_numbering": 1,
   "nav_menu": {},
   "number_sections": true,
   "sideBar": true,
   "skip_h1_title": false,
   "title_cell": "Table of Contents",
   "title_sidebar": "Contents",
   "toc_cell": false,
   "toc_position": {
    "height": "calc(100% - 180px)",
    "left": "10px",
    "top": "150px",
    "width": "348.926px"
   },
   "toc_section_display": true,
   "toc_window_display": true
  }
 },
 "nbformat": 4,
 "nbformat_minor": 4
}
