{
 "cells": [
  {
   "cell_type": "markdown",
   "metadata": {
    "ExecuteTime": {
     "end_time": "2020-03-19T01:26:13.480203Z",
     "start_time": "2020-03-19T01:26:13.464203Z"
    }
   },
   "source": [
    "<span style=\"font-size:36px\"><b>Preprocess Language Model Corpus</b></span>\n",
    "\n",
    "Copyright &copy; 2020 Gunawan Lumban Gaol\n",
    "\n",
    "Licensed under the Apache License, Version 2.0 (the \"License\"); you may not use this file except in compliance with the License. You may obtain a copy of the License at http://www.apache.org/licenses/LICENSE-2.0\n",
    "\n",
    "Unless required by applicable law or agreed to in writing, software distributed under the License is distributed on an \"AS IS\" BASIS, WITHOUT WARRANTIES OR CONDITIONS OF ANY KIND, either express or implied. See the License for the specific language overning permissions and limitations under the License."
   ]
  },
  {
   "cell_type": "markdown",
   "metadata": {},
   "source": [
    "# Import Packages"
   ]
  },
  {
   "cell_type": "code",
   "execution_count": 61,
   "metadata": {
    "ExecuteTime": {
     "end_time": "2020-03-19T04:20:17.304203Z",
     "start_time": "2020-03-19T04:20:17.299203Z"
    }
   },
   "outputs": [],
   "source": [
    "import os\n",
    "import re\n",
    "import functools\n",
    "import string\n",
    "import random\n",
    "\n",
    "import pandas as pd\n",
    "import num2words\n",
    "from tqdm import tqdm_notebook as tqdm\n",
    "\n",
    "from gurih.models.utils import sparsity"
   ]
  },
  {
   "cell_type": "markdown",
   "metadata": {},
   "source": [
    "# RegExp Collections"
   ]
  },
  {
   "cell_type": "code",
   "execution_count": 62,
   "metadata": {
    "ExecuteTime": {
     "end_time": "2020-03-19T04:20:17.336203Z",
     "start_time": "2020-03-19T04:20:17.313203Z"
    }
   },
   "outputs": [],
   "source": [
    "num_dict = {\n",
    "    \"0\": \"kosong\",\n",
    "    \"1\": \"satu\",\n",
    "    \"2\": \"dua\",\n",
    "    \"3\": \"tiga\",\n",
    "    \"4\": \"empat\",\n",
    "    \"5\": \"lima\",\n",
    "    \"6\": \"enam\",\n",
    "    \"7\": \"tujuh\",\n",
    "    \"8\": \"delapan\",\n",
    "    \"9\": \"sembilan\",\n",
    "    \"*\": \"\",\n",
    "    \"x\": \"\",\n",
    "    \" \": \"\",\n",
    "    \"-\": \"\"\n",
    "}"
   ]
  },
  {
   "cell_type": "code",
   "execution_count": 63,
   "metadata": {
    "ExecuteTime": {
     "end_time": "2020-03-19T04:20:17.360203Z",
     "start_time": "2020-03-19T04:20:17.339203Z"
    }
   },
   "outputs": [],
   "source": [
    "# 4,69% --> empat koma enam sembilan persen\n",
    "repl_percentage_with_comma = lambda x: \" \".join([num2words.num2words(int(num), lang='id') for num in x.group(1)]) + \" koma \" + \" \".join([num2words.num2words(int(num), lang='id') for num in x.group(2)]) + \" persen\"\n",
    "regex_percentage_with_comma = functools.partial(re.sub, \"(\\d+),(\\d+)[\\s]{0,1}%\", repl_percentage_with_comma)\n",
    "\n",
    "# rp400.000 --> 400.000\n",
    "regex_currency = functools.partial(re.sub, \"(rp)([\\s]{0,1}\\d)\", r\"\\2\")\n",
    "\n",
    "# 400.000/bulan --> 400.000 per bulan\n",
    "regex_per_month = functools.partial(re.sub, \"(/)([\\s]{0,2}bulan)\", r\" per \\2\")\n",
    "\n",
    "# 3x24 jam --> 3 kali 24 jam\n",
    "# 3x --> 3 kali \n",
    "# 3 x 24 jam --> 3 kali 24 jam\n",
    "regex_frequency = functools.partial(re.sub, \"(\\d+)\\s?x\\s?(\\d+)?\", r\"\\1 kali \\2\")\n",
    "\n",
    "# kontrak 380 170**xx15 96 --> kontrak tiga delapan kosong  satu tujuh kosong     satu lima  sembilan enam\n",
    "regex_contract_number = functools.partial(re.sub, \"(kontrak[\\s]{0,2})([\\d\\s\\*x]+)\", lambda x: f\"{x.group(1)}{' '.join([num_dict[num] for num in x.group(2)])}\")\n",
    "\n",
    "#  021-238432 --> kosong dua satu  dua tiga delapan empat tiga dua\n",
    "regex_phone_number = functools.partial(re.sub, \"(\\s)(0[\\d\\s\\*x-]+)\", lambda x: f\"{x.group(1)}{' '.join([num_dict[num] for num in x.group(2)])}\")\n",
    "\n",
    "# @hoewwedr --> ''\n",
    "regex_remove_username = functools.partial(re.sub, \"(@[A-Za-z0-9]+)\", '')\n",
    "\n",
    "# #yangkamumau --> ''\n",
    "regex_remove_hashtag = functools.partial(re.sub, \"(#[A-Za-z0-9]+)\", '')\n",
    "\n",
    "# https://api.whatsapp.com/send=?phone18273 --> ''\n",
    "regex_remove_url = functools.partial(re.sub, \"^https?:\\/\\/.*[\\r\\n]*\", '')\n",
    "\n",
    "# awdaw.....,,,, --> awdaw.,\n",
    "regex_multiple_punctuations = functools.partial(re.sub, r'([.,])\\1+', r'\\1')\n",
    "\n",
    "# gitu.aku sebel ,banget sama dia , dan kamu . --> gitu. aku sebel, banget sama dia, dan kamu. \n",
    "regex_triplet_punctuations = functools.partial(re.sub, r'(.)\\s?(\\.|,)\\s?(.)?', r'\\1\\2 \\3')"
   ]
  },
  {
   "cell_type": "code",
   "execution_count": 64,
   "metadata": {
    "ExecuteTime": {
     "end_time": "2020-03-19T04:20:17.372203Z",
     "start_time": "2020-03-19T04:20:17.364203Z"
    }
   },
   "outputs": [],
   "source": [
    "assert regex_percentage_with_comma(\"4,69%\") == \"empat koma enam sembilan persen\"\n",
    "assert regex_currency(\"rp400.000\") == \"400.000\"\n",
    "assert regex_per_month(\"400.000/bulan\") == \"400.000 per bulan\"\n",
    "assert regex_frequency(\"3x24 jam\") == \"3 kali 24 jam\"\n",
    "assert regex_frequency(\"3x\") == \"3 kali \"\n",
    "assert regex_frequency(\"3 x 24 jam\") == \"3 kali 24 jam\"\n",
    "assert regex_contract_number(\"kontrak 380 170**xx15 96\") == \"kontrak tiga delapan kosong  satu tujuh kosong     satu lima  sembilan enam\"\n",
    "assert regex_phone_number(\" 021-238432\") == \" kosong dua satu  dua tiga delapan empat tiga dua\"\n",
    "assert regex_remove_username(\"@hoewwedr\") == ''\n",
    "assert regex_remove_hashtag(\"#yangkamumau\") == ''\n",
    "assert regex_remove_url(\"https://api.whatsapp.com/send=?phone18273\") == ''\n",
    "assert regex_multiple_punctuations(\"awdaw.....,,,,\") == \"awdaw.,\"\n",
    "assert regex_triplet_punctuations(\"gitu.aku sebel ,banget sama dia , dan kamu .\") == \"gitu. aku sebel, banget sama dia, dan kamu. \""
   ]
  },
  {
   "cell_type": "markdown",
   "metadata": {},
   "source": [
    "# Instagram Comment Corpus"
   ]
  },
  {
   "cell_type": "code",
   "execution_count": 65,
   "metadata": {
    "ExecuteTime": {
     "end_time": "2020-03-19T04:20:17.529203Z",
     "start_time": "2020-03-19T04:20:17.377203Z"
    }
   },
   "outputs": [
    {
     "data": {
      "text/plain": [
       "(26350, 4)"
      ]
     },
     "execution_count": 65,
     "metadata": {},
     "output_type": "execute_result"
    }
   ],
   "source": [
    "instagram_df = pd.read_csv(\"../../dataset/corpus/homecreditid_comments.csv\")\n",
    "instagram_df.shape"
   ]
  },
  {
   "cell_type": "markdown",
   "metadata": {},
   "source": [
    "We only need those conversations in comment sections."
   ]
  },
  {
   "cell_type": "code",
   "execution_count": 66,
   "metadata": {
    "ExecuteTime": {
     "end_time": "2020-03-19T04:20:17.542203Z",
     "start_time": "2020-03-19T04:20:17.533203Z"
    }
   },
   "outputs": [],
   "source": [
    "corpus = instagram_df['owner_comment'].values.tolist()"
   ]
  },
  {
   "cell_type": "markdown",
   "metadata": {},
   "source": [
    "Run cell below to see what the comments looks like."
   ]
  },
  {
   "cell_type": "code",
   "execution_count": 67,
   "metadata": {
    "ExecuteTime": {
     "end_time": "2020-03-19T04:20:17.555203Z",
     "start_time": "2020-03-19T04:20:17.545203Z"
    }
   },
   "outputs": [
    {
     "data": {
      "text/plain": [
       "['https://www.youtube.com/channel/UCvxef6NxP6D_1NBK8hBUAmQ https://youtu.be/ZZuwVpG0ICM https://youtu.be/-OcGPizXO8E subcribe ya',\n",
       " 'Minn udah di umumin blm ini pemenang nya???',\n",
       " 'Kolak, Biji Salak, Es Buah, Gorengan, Sop',\n",
       " 'Ez first try😎',\n",
       " 'Saya berhasil capture']"
      ]
     },
     "execution_count": 67,
     "metadata": {},
     "output_type": "execute_result"
    }
   ],
   "source": [
    "random.sample(corpus, 5)"
   ]
  },
  {
   "cell_type": "markdown",
   "metadata": {},
   "source": [
    "Save corpus statistics before cleaning."
   ]
  },
  {
   "cell_type": "code",
   "execution_count": 68,
   "metadata": {
    "ExecuteTime": {
     "end_time": "2020-03-19T04:20:17.865203Z",
     "start_time": "2020-03-19T04:20:17.560203Z"
    }
   },
   "outputs": [],
   "source": [
    "before_cleaning_stats = sparsity(corpus)"
   ]
  },
  {
   "cell_type": "markdown",
   "metadata": {},
   "source": [
    "## Cleaning\n",
    "\n",
    "This processes must be done in order."
   ]
  },
  {
   "cell_type": "markdown",
   "metadata": {},
   "source": [
    "### Lower Casing"
   ]
  },
  {
   "cell_type": "code",
   "execution_count": 69,
   "metadata": {
    "ExecuteTime": {
     "end_time": "2020-03-19T04:20:17.907203Z",
     "start_time": "2020-03-19T04:20:17.870203Z"
    }
   },
   "outputs": [],
   "source": [
    "corpus = [s.lower() for s in corpus]"
   ]
  },
  {
   "cell_type": "code",
   "execution_count": 70,
   "metadata": {
    "ExecuteTime": {
     "end_time": "2020-03-19T04:20:17.935203Z",
     "start_time": "2020-03-19T04:20:17.912203Z"
    }
   },
   "outputs": [
    {
     "data": {
      "text/plain": [
       "['caranya gmana ka',\n",
       " '66 #tekatekuis',\n",
       " 'min give away belum diumumin pemenangnya',\n",
       " 'ada 12 kak',\n",
       " 'susah ngajuiin blm 5 detik udah di tolak engga bgs']"
      ]
     },
     "execution_count": 70,
     "metadata": {},
     "output_type": "execute_result"
    }
   ],
   "source": [
    "random.sample(corpus, 5)"
   ]
  },
  {
   "cell_type": "markdown",
   "metadata": {},
   "source": [
    "### Remove @username"
   ]
  },
  {
   "cell_type": "code",
   "execution_count": 71,
   "metadata": {
    "ExecuteTime": {
     "end_time": "2020-03-19T04:20:18.025203Z",
     "start_time": "2020-03-19T04:20:17.938203Z"
    }
   },
   "outputs": [],
   "source": [
    "corpus = [regex_remove_username(s) for s in corpus]"
   ]
  },
  {
   "cell_type": "code",
   "execution_count": 72,
   "metadata": {
    "ExecuteTime": {
     "end_time": "2020-03-19T04:20:18.035203Z",
     "start_time": "2020-03-19T04:20:18.027203Z"
    }
   },
   "outputs": [
    {
     "data": {
      "text/plain": [
       "['23 easy',\n",
       " 'hutang flexi fast 23 jt bayarnya sampe 43 jt... tolong bantuannya yg kasusnya sama, sedang kesusahan bayar.bunga jangan gede2...',\n",
       " 'done 😘',\n",
       " 'percayalah riba itu merugikan, kalau mau suatu barang tapi uang belum cukup mending tahan dulu aja tabung',\n",
       " 'done, wish me luck']"
      ]
     },
     "execution_count": 72,
     "metadata": {},
     "output_type": "execute_result"
    }
   ],
   "source": [
    "random.sample(corpus, 5)"
   ]
  },
  {
   "cell_type": "markdown",
   "metadata": {},
   "source": [
    "### Remove Hashtag"
   ]
  },
  {
   "cell_type": "code",
   "execution_count": 73,
   "metadata": {
    "ExecuteTime": {
     "end_time": "2020-03-19T04:20:18.131203Z",
     "start_time": "2020-03-19T04:20:18.037203Z"
    }
   },
   "outputs": [],
   "source": [
    "corpus = [regex_remove_hashtag(s) for s in corpus]"
   ]
  },
  {
   "cell_type": "code",
   "execution_count": 74,
   "metadata": {
    "ExecuteTime": {
     "end_time": "2020-03-19T04:20:18.145203Z",
     "start_time": "2020-03-19T04:20:18.134203Z"
    }
   },
   "outputs": [
    {
     "data": {
      "text/plain": [
       "['_',\n",
       " '_rachmadi .moko  bangga yah alumni mentee kalian jadi artis sebentar lg ',\n",
       " 'alhamdulillah dapet rumah baru',\n",
       " '  ',\n",
       " 'ga ada kotak']"
      ]
     },
     "execution_count": 74,
     "metadata": {},
     "output_type": "execute_result"
    }
   ],
   "source": [
    "random.sample(corpus, 5)"
   ]
  },
  {
   "cell_type": "markdown",
   "metadata": {},
   "source": [
    "### Remove Url"
   ]
  },
  {
   "cell_type": "code",
   "execution_count": 75,
   "metadata": {
    "ExecuteTime": {
     "end_time": "2020-03-19T04:20:18.282203Z",
     "start_time": "2020-03-19T04:20:18.149203Z"
    }
   },
   "outputs": [],
   "source": [
    "corpus = [regex_remove_url(s) for s in corpus]"
   ]
  },
  {
   "cell_type": "code",
   "execution_count": 76,
   "metadata": {
    "ExecuteTime": {
     "end_time": "2020-03-19T04:20:18.294203Z",
     "start_time": "2020-03-19T04:20:18.285203Z"
    }
   },
   "outputs": [
    {
     "data": {
      "text/plain": [
       "['bismillah, menurut saya yang mengambil handphone korban adalah orang d karena dari gambar terlihat jelas bahwa orang tersebut mempunyai 2 smartphone dan yang harus di lihat ialah tampang muka si pria tersebut harus dicurigai,kenapa?karena dari gaya si pria tersebut seakan akan ingin mau menghindar atau mau menutup nutupi bahwasanya dia mencuri handphone korban _paranginangin    ',\n",
       " 'ada 11',\n",
       " 'ini home credit kl nelepon org kayak mau bangkrut yaaa... tlp lebih rajin drpd pacar.. yg ngutang siapa yg ditagih siapa.. mane mulutnya multiguna bgt lagi.. kalo telepon lgsg auto buka puasa kali yaaaaaaa...',\n",
       " 'pengumuman pemenang giveaway 100k kapan min ',\n",
       " 'kerusakan dapat diperhatikan sisi kiri bawa tas orang a.pencuri hp adalah orang c 5 orang a & c membawa benda sejenis pisau lipat.']"
      ]
     },
     "execution_count": 76,
     "metadata": {},
     "output_type": "execute_result"
    }
   ],
   "source": [
    "random.sample(corpus, 5)"
   ]
  },
  {
   "cell_type": "markdown",
   "metadata": {},
   "source": [
    "### Simplify Punctuations\n",
    "\n",
    "1. `?`, `!` --> `.`\n",
    "2. `;` --> `,`\n",
    "3. `'` --> `<empty>`"
   ]
  },
  {
   "cell_type": "code",
   "execution_count": 77,
   "metadata": {
    "ExecuteTime": {
     "end_time": "2020-03-19T04:20:18.323203Z",
     "start_time": "2020-03-19T04:20:18.298203Z"
    }
   },
   "outputs": [],
   "source": [
    "simplified_punctuation_map = {\"?\": \".\",\n",
    "                              \"!\": \".\",\n",
    "                              \";\": \",\",\n",
    "                              \"'\": \"\"}"
   ]
  },
  {
   "cell_type": "code",
   "execution_count": 78,
   "metadata": {
    "ExecuteTime": {
     "end_time": "2020-03-19T04:20:19.097203Z",
     "start_time": "2020-03-19T04:20:18.326203Z"
    }
   },
   "outputs": [],
   "source": [
    "corpus = [''.join([simplified_punctuation_map.get(c, c) for c in s]) for s in corpus]"
   ]
  },
  {
   "cell_type": "code",
   "execution_count": 79,
   "metadata": {
    "ExecuteTime": {
     "end_time": "2020-03-19T04:20:19.105203Z",
     "start_time": "2020-03-19T04:20:19.100203Z"
    }
   },
   "outputs": [
    {
     "data": {
      "text/plain": [
       "['ke kota makassar jg dong🙏',\n",
       " 'saya dpt penwaran ny . smpt di tlp jg . tp gk tw klnjtnnya gmn min',\n",
       " 'bener2 nggak waras karyawan kalian. umur berapa sih orang call center kalian. sampe ga tau waktu. ini maghrib woy. lagi buka puasa, lagi sibuk solat ngaji orang kalian telepon. fix mesti dilaporin sih ini, meresahkan masyarakat.',\n",
       " 'nenekku lagi rehat addikku pakek gigi kawat baju putih nampak terlihat ternyata hantu yang telah lewat dieu :    .asra27  ',\n",
       " 'min cek dm']"
      ]
     },
     "execution_count": 79,
     "metadata": {},
     "output_type": "execute_result"
    }
   ],
   "source": [
    "random.sample(corpus, 5)"
   ]
  },
  {
   "cell_type": "markdown",
   "metadata": {},
   "source": [
    "### Remove Non Alphanumerical + Punctuation Character\n",
    "\n",
    "This is done according to the character map used in the model."
   ]
  },
  {
   "cell_type": "code",
   "execution_count": 80,
   "metadata": {
    "ExecuteTime": {
     "end_time": "2020-03-19T04:20:19.130203Z",
     "start_time": "2020-03-19T04:20:19.108203Z"
    }
   },
   "outputs": [],
   "source": [
    "regex_remove_non_charmap = functools.partial(re.sub, '[^A-Za-z0-9., ]', '')"
   ]
  },
  {
   "cell_type": "code",
   "execution_count": 81,
   "metadata": {
    "ExecuteTime": {
     "end_time": "2020-03-19T04:20:19.254203Z",
     "start_time": "2020-03-19T04:20:19.133203Z"
    }
   },
   "outputs": [],
   "source": [
    "corpus = [regex_remove_non_charmap(s) for s in corpus]"
   ]
  },
  {
   "cell_type": "code",
   "execution_count": 82,
   "metadata": {
    "ExecuteTime": {
     "end_time": "2020-03-19T04:20:19.267203Z",
     "start_time": "2020-03-19T04:20:19.258203Z"
    }
   },
   "outputs": [
    {
     "data": {
      "text/plain": [
       "['gerimis, genangan, mendung, becek, dan badai',\n",
       " 'mawar. jam . lampu. kancing. garam. lambang home credit',\n",
       " ' malam jumat nginap di rumah mertua. nonton dvd warkop setan kredit. butuh elektronik di tanggal tua, jangan ragu pergi ke home credit.     ayo ikutan giveaway homecreditid    ',\n",
       " 'c karena di antaranya yang lain paling mencurigakan. tasnya diletakkan di depan sehingga lebih mudah menilep barang. pakai helm supaya kamera cctv tidak bisa menangkap mukanya dengan jelas. kalau yang lain pasti mikir2 mau mencuri karena mukanya dengan mudah tertangkap kamera cctv.  dia juga pakai sarung tangan yang bisa melindungi jarijarinya tidak meninggalkan jejak sidik jari agar polisi kesulitan menemukan identitasnya.  jaketnya juga menjadi tempat yang aman buat menyimpan laptop curian seandainya tasnya digeledah security satpam misalnya. pokoknya sempurna banget si c ini.  yuk ikutan  chudhori sweet ',\n",
       " 'aku sebagai mahasiswa selalu membawa air minum dengan tumbler ke kampus. karena dengan itu aku bisa menghemat pengeluaran ku untuk membeli minuman dikala haus. selain berhemat, aku juga telah berkontribusi dalam penyelamatan bumi dari sampah plastik.. aku sekarang bisa mendapatkan barang yang aku mau dengan cara berhemat dalam pengeluaran untuk membeli minuman kemasan. fridayjr  ridhoahmad10  ']"
      ]
     },
     "execution_count": 82,
     "metadata": {},
     "output_type": "execute_result"
    }
   ],
   "source": [
    "random.sample(corpus, 5)"
   ]
  },
  {
   "cell_type": "markdown",
   "metadata": {},
   "source": [
    "### Percentage with Comma"
   ]
  },
  {
   "cell_type": "code",
   "execution_count": 83,
   "metadata": {
    "ExecuteTime": {
     "end_time": "2020-03-19T04:20:19.485203Z",
     "start_time": "2020-03-19T04:20:19.270203Z"
    }
   },
   "outputs": [],
   "source": [
    "corpus = [regex_percentage_with_comma(s) for s in corpus]"
   ]
  },
  {
   "cell_type": "code",
   "execution_count": 84,
   "metadata": {
    "ExecuteTime": {
     "end_time": "2020-03-19T04:20:19.500203Z",
     "start_time": "2020-03-19T04:20:19.493203Z"
    }
   },
   "outputs": [
    {
     "data": {
      "text/plain": [
       "['sudaaah... ayo menangkan.',\n",
       " 'pantai ya pantai,ini lah hasil sreenshot  destinasi pilihan saya,ehmmm belum kesana aja udh bayangin ya seru seru ya ,enak kyk nya bisa berlibur ke pantai ,angin semilir sepoi sepoi,belari larian  kpn nech bisa kepantai .yukh ke pantai yukh sob      ',\n",
       " 'min lihat dm saya.',\n",
       " '',\n",
       " 'cari pesugihan ke gunung lawu pulangnya dikuntit sama hantu buruan beli yang kamu mau home credit siap membantu ariaabbas  alian  ']"
      ]
     },
     "execution_count": 84,
     "metadata": {},
     "output_type": "execute_result"
    }
   ],
   "source": [
    "random.sample(corpus, 5)"
   ]
  },
  {
   "cell_type": "markdown",
   "metadata": {},
   "source": [
    "### Currency"
   ]
  },
  {
   "cell_type": "code",
   "execution_count": 85,
   "metadata": {
    "ExecuteTime": {
     "end_time": "2020-03-19T04:20:19.646203Z",
     "start_time": "2020-03-19T04:20:19.503203Z"
    }
   },
   "outputs": [],
   "source": [
    "corpus = [regex_currency(s) for s in corpus]"
   ]
  },
  {
   "cell_type": "code",
   "execution_count": 86,
   "metadata": {
    "ExecuteTime": {
     "end_time": "2020-03-19T04:20:19.659203Z",
     "start_time": "2020-03-19T04:20:19.650203Z"
    }
   },
   "outputs": [
    {
     "data": {
      "text/plain": [
       "['aku udh ikutan yaa min  ',\n",
       " 'so beautiful. tag to me ',\n",
       " 'cek dm lah min',\n",
       " 'pergi kebulan naik pitam bareng rombongan sirkus',\n",
       " 'pencapaian saya di tahun 2019 ini,saya sebagai sales agent home credit sangat bangga karna bisa memberikan pelayan terbaik dan bisa mewujudkan barang impian nasabah terima kasih home credit.24  exo . ']"
      ]
     },
     "execution_count": 86,
     "metadata": {},
     "output_type": "execute_result"
    }
   ],
   "source": [
    "random.sample(corpus, 5)"
   ]
  },
  {
   "cell_type": "markdown",
   "metadata": {},
   "source": [
    "### Frequency"
   ]
  },
  {
   "cell_type": "code",
   "execution_count": 87,
   "metadata": {
    "ExecuteTime": {
     "end_time": "2020-03-19T04:20:19.957203Z",
     "start_time": "2020-03-19T04:20:19.665203Z"
    }
   },
   "outputs": [],
   "source": [
    "corpus = [regex_frequency(s) for s in corpus]"
   ]
  },
  {
   "cell_type": "code",
   "execution_count": 88,
   "metadata": {
    "ExecuteTime": {
     "end_time": "2020-03-19T04:20:19.968203Z",
     "start_time": "2020-03-19T04:20:19.960203Z"
    }
   },
   "outputs": [
    {
     "data": {
      "text/plain": [
       "['lets break the quizkotak pangkat 3 8 itu berarti kotak  2, karena 23  8. kemudian kotak x segitiga pangkat 3  54. berarti 2 kali segitiga pangkat 3  54, 54 dibagi 2  27 yg artinya segitiga pangkat 3  27 ini berarti segitiga  3 karena 3327. lalu kotak x segitiga x bulet x bulet 6, artinya 2 kali 3x bulet x bulet  6. ini berarti bulet  1 karena 2 kali 3x1 kali 1 6 . pertanyaannya  kotak  segitiga  bulet  berapa. artinya 2316 sehingga jawabannya 6 betul bukan. harus menang sih, karena gw udah jawab dan jabarkan pemecahan kuis ini. dan juga gamau kalah kece nih kalo pake hp xiaomi note 10 pro, biar bisa lebih produktif, berkarya, dan jadi membanggakan. yuk coba pecahin kuisnya    ',\n",
       " 'bagus fotonyaa',\n",
       " 'dapat capture pantai.. yeayy...saya akan berjemur dan menghirup udara pantai yg konon bisa jadi therapy buat orang yg punya penyakit asma sepertiku. lalu saya juga mau ajak suamiku untuk photo sesion alaala pra wedding..hehe maklum waktu nikah dulu gak sempet punya photo pra wed.  ngebayangin difoto saat  sunset,saling pegangan  tangan romantis. aihhh bakalan asyikkk bangettt kalo bisa terwujud. doakan aku yaa   ana   ',\n",
       " 'done    ig ,      irh  ',\n",
       " 'bismillah 5 bola.']"
      ]
     },
     "execution_count": 88,
     "metadata": {},
     "output_type": "execute_result"
    }
   ],
   "source": [
    "random.sample(corpus, 5)"
   ]
  },
  {
   "cell_type": "markdown",
   "metadata": {},
   "source": [
    "### Contract Number"
   ]
  },
  {
   "cell_type": "code",
   "execution_count": 89,
   "metadata": {
    "ExecuteTime": {
     "end_time": "2020-03-19T04:20:20.052203Z",
     "start_time": "2020-03-19T04:20:19.970203Z"
    }
   },
   "outputs": [],
   "source": [
    "corpus = [regex_contract_number(s) for s in corpus]"
   ]
  },
  {
   "cell_type": "code",
   "execution_count": 90,
   "metadata": {
    "ExecuteTime": {
     "end_time": "2020-03-19T04:20:20.061203Z",
     "start_time": "2020-03-19T04:20:20.054203Z"
    }
   },
   "outputs": [
    {
     "data": {
      "text/plain": [
       "['hai mimin, cek di ig aku ya.. semoga beruntung',\n",
       " 'order skrng. pelangsing badan penggemuk badan pemutih badan pembersih jerawat peninggi badan dll',\n",
       " 'bismillah . untuk perempuan  yang pertama jilbab, kedua celana dan untuk laki pertama baju a tidak memiliki gambar dibagian dada kiri sedangkan yang b memiliki gambar dibagian dada kirinya , kedua celana,ketiga sepatu alhamdulillah done',\n",
       " 'yakin mau cicil disini jgn sampe lo nyesel akan di telp setiap hari,fuck',\n",
       " '']"
      ]
     },
     "execution_count": 90,
     "metadata": {},
     "output_type": "execute_result"
    }
   ],
   "source": [
    "random.sample(corpus, 5)"
   ]
  },
  {
   "cell_type": "markdown",
   "metadata": {},
   "source": [
    "### Phone Number"
   ]
  },
  {
   "cell_type": "code",
   "execution_count": 91,
   "metadata": {
    "ExecuteTime": {
     "end_time": "2020-03-19T04:20:20.201203Z",
     "start_time": "2020-03-19T04:20:20.065203Z"
    }
   },
   "outputs": [],
   "source": [
    "corpus = [regex_phone_number(s) for s in corpus]"
   ]
  },
  {
   "cell_type": "code",
   "execution_count": 92,
   "metadata": {
    "ExecuteTime": {
     "end_time": "2020-03-19T04:20:20.212203Z",
     "start_time": "2020-03-19T04:20:20.203203Z"
    }
   },
   "outputs": [
    {
     "data": {
      "text/plain": [
       "['belanja',\n",
       " 'saya minta tolong mas atau mba homecredit,  jgn telpon no saya terus sehari bisa puluhan kali ditelpon, ini saya gk ngutang, tapi teman saya yang pake no saya sbg registrasi awal, tolong lah jgn ganggu..ini tiap hr diteror terus,  ini no tmn saya yg ngutang an ricky eka ferdian kosong delapan lima delapan dua satu enam tujuh kosong enam satu tujuh ',\n",
       " 'sesat',\n",
       " 'aku dapat gambar pantai. 3 pantai yg ingin aku datangi bersama teman2 ku  1. pantai tanjung bira bulukumba 2. pantai kuta bali 3. pantai pink lombok yang ingin saya lakukan di pantai tanjung bira sya mau sekali menyentuh pasir putihnya yg terkenal sehalus tepung, disana tuhh.. katanya bersih dan nyaman gak seramai kyak dipantai2 yg terkenal jdi bgus untuk menenangkan pikiran, kita jg bisa bermain snorkeling dan diving. trus di pantai kuta bali yg terkenal akan ombaknya yg bagus untuk berselancar dan menikmati sunset yg terkenal akan keindahan sunsetnya dan... pantai pink di lombok aku mauu jg ke sana pengen main2 dngan pasirnya yg berwarna merah mudapink itumah wrn kesukaanku di sana tuh kita jg bisa berpetualang sambil bermain snorkeling dan diving. btw dri permainan2 diatas aku blum prnah merasakannya yang pastinya dri ketiga pantai diatas gak boleh trlewatkan yg namanya fotofoto bareng, main bareng, berenang bareng, kuliner bareng, jalanjalan, dan nginap bareng bersama mereka yz   bismillah.. semoga saja bisa terwujud, pen bngettt prg pantai jalan2 paling tdk yg terdekatlah di pantai tanjung bira  ',\n",
       " 'jawaban saya adalah 6 2  2  2  8 2 kali 3 x 3 kali 3  54 2 kali 3 x 1 kali 1  6 1 kali 2 x 3  6 alasan kenapa saya yang harus menang adalah  karena saya ingin sekali mendapatkan smartphone baru. untuk mengganti smartphone lama saya yang sudah tidak semangat lagi untuk hidup, ditambah lagi baterainya yang sudah mirip sekali seperti ikan kembung. semoga dengan mengikuti giveaway dari  aku bisa dapet xiaomi note 10 pro atau  samsung a20s  nah sahanat, jika kalian ingin mendapatkan beerbagai informasi menarik dan juga ikutan aktivasi seru lainnya seperti kuis kali ini, yuk follow  sekarang juga  winda.naz nabilalalalala87 .ns']"
      ]
     },
     "execution_count": 92,
     "metadata": {},
     "output_type": "execute_result"
    }
   ],
   "source": [
    "random.sample(corpus, 5)"
   ]
  },
  {
   "cell_type": "markdown",
   "metadata": {},
   "source": [
    "### Spell Number"
   ]
  },
  {
   "cell_type": "code",
   "execution_count": 93,
   "metadata": {
    "ExecuteTime": {
     "end_time": "2020-03-19T04:20:20.240203Z",
     "start_time": "2020-03-19T04:20:20.215203Z"
    }
   },
   "outputs": [],
   "source": [
    "regex_spell_number = functools.partial(re.sub, r'(\\d+)', lambda x: ' ' + num2words.num2words(int(x.group(1)), lang='id') + ' ')"
   ]
  },
  {
   "cell_type": "code",
   "execution_count": 94,
   "metadata": {
    "ExecuteTime": {
     "end_time": "2020-03-19T04:20:20.727203Z",
     "start_time": "2020-03-19T04:20:20.242203Z"
    }
   },
   "outputs": [],
   "source": [
    "corpus = [regex_spell_number(s) for s in corpus]"
   ]
  },
  {
   "cell_type": "code",
   "execution_count": 95,
   "metadata": {
    "ExecuteTime": {
     "end_time": "2020-03-19T04:20:20.738203Z",
     "start_time": "2020-03-19T04:20:20.729203Z"
    }
   },
   "outputs": [
    {
     "data": {
      "text/plain": [
       "['min tolong bales dm ..',\n",
       " 'promo hp bunga kosong dong min',\n",
       " 'kota jakarta',\n",
       " 'menurut saya,  yg berinsial nama nya d  orang nya. pencurinya  yang permainan nya rapi.  saat ia ingin beraksi dengan pencurian nyad ,ia ambil yg saat suasana si korban sia itu lagi tak terlena oleh si d pun beraksi melakukan nya.  dan setelah bus stop dan korban a telah sampai tujuan nya dan si a ingin menelepon temannya minta di jemput dan hp nya pun tak ada lagi, dan setelah akhir nya pun pencuri si d pun berhasil melakukan pencurian nya.',\n",
       " 'gebyar promo cuci gudang   order  tiga  bal   satu  bal    ongkir se   eluang usaha kami tawarkan untuk anda  tersedia bal pakaian bekas import  tanpa cacatreject. daftar nama bal yang ready   jaket hoodie isi  tiga ratus  pcs harga  dua . nol . nol   jaket outdoor isi  dua ratus lima puluh  pcs harga  dua . lima ratus . nol   jaket jeans isi  tiga ratus  pcs harga  dua . lima ratus . nol   celana jeans panjang isi  dua ratus lima puluh  harga  dua . tujuh ratus . nol   baju kaos cowokcewek isi  empat ratus  pcs harga  dua . nol . nol   baju kameja panjangpendek isi  tiga ratus  pcs harga  dua . nol . nol   celana cargo pendek isi  tiga ratus  pcs harga  dua . nol . nol   celana cargo panjang isi  tiga ratus  pcs harga  dua . lima ratus . nol   celana jeans pendek isi  tiga ratus  pcs harga  dua . nol . nol   jaket kulit cowokcewek isi  dua ratus lima puluh  pcs harga  tiga . nol . nol   tas pesta wanita isi  dua ratus lima puluh  pcs harga  dua . lima ratus . nol   tas  ransel isi.  tiga ratus  pcs harga  dua . nol . nol   topi isi  tiga ratus  pcs harga  dua . nol . nol   baju daster isi  tiga ratus  pcs harga  dua . lima ratus . nol   bale blouse isi  tiga ratus  pcs  dua . lima ratus . nol   bale jas isi  dua ratus lima puluh  pcs harga  dua . lima ratus . nol , untuk harga paket bal sepatu  isi bal campur adidas,converse,vans,nike,puma   satu  bal seratus sepuluh  pasang  harga   dua . lima ratus . nol    satu  bal dua ratus dua puluh  pasang harga   tiga . lima ratus . nol    satu  bal tiga ratus tiga puluh  pasang harga   empat . lima ratus . nol    satu  bal lima ratus lima puluh  pasang harga   lima . lima ratus . nol  bisa pilih merek dan sizeukuran size  tiga puluh tujuh  sampai  empat puluh empat  keterangan    kami hanya jual per ball,tidak layani grosirsatuan   pembayaran dikirim kerekening bank yang kami tentukan   barang dikirim setelah pembayaran sudah kami terima   tidak melayani rekber   tidak melayani  vc   tidak melayani chat  via lapak fbig bagi yang minat serius chat lewat whatsapp  kosong delapan dua tiga dua empat lima sembilan tujuh satu sembilan lima untuk fast respon melayani pemesanan dari seluruh  siap kirim jadwal pengiriman paket bal  pemesanan open setiap hari senin  minggu.  pengiriman hari senin  sabtu. minggu .  transfer sebelum pukul  seribu empat ratus  wib paket dikirim di hari yang sama, apabila lewat dari jam  seribu empat ratus  wib maka paket dikirim esok harinya.  kode tracking  no resi paket akan dibagikan dihari yang sama atau paling lambat besoknya  jl.terusan buahbatu cipagalo rtrw. seribu enam ,kujangsari,bandung kidul,kota bandung. dijamin amanah...']"
      ]
     },
     "execution_count": 95,
     "metadata": {},
     "output_type": "execute_result"
    }
   ],
   "source": [
    "random.sample(corpus, 5)"
   ]
  },
  {
   "cell_type": "markdown",
   "metadata": {},
   "source": [
    "### Trim Multiple Spaces"
   ]
  },
  {
   "cell_type": "code",
   "execution_count": 96,
   "metadata": {
    "ExecuteTime": {
     "end_time": "2020-03-19T04:20:20.866203Z",
     "start_time": "2020-03-19T04:20:20.741203Z"
    }
   },
   "outputs": [],
   "source": [
    "corpus = [' '.join(s.split()) for s in corpus]"
   ]
  },
  {
   "cell_type": "code",
   "execution_count": 97,
   "metadata": {
    "ExecuteTime": {
     "end_time": "2020-03-19T04:20:20.876203Z",
     "start_time": "2020-03-19T04:20:20.869203Z"
    }
   },
   "outputs": [
    {
     "data": {
      "text/plain": [
       "['lima',\n",
       " 'semangat',\n",
       " 'lima',\n",
       " 'lima min, matanya siwer ketutup an belek',\n",
       " 'hilih mending jangan dah home credit mah pembohong wkwkw kapok dah enggak lagi bikin tambah puyeng dan kesel']"
      ]
     },
     "execution_count": 97,
     "metadata": {},
     "output_type": "execute_result"
    }
   ],
   "source": [
    "random.sample(corpus, 5)"
   ]
  },
  {
   "cell_type": "markdown",
   "metadata": {},
   "source": [
    "### Remove Multiple Punctuations"
   ]
  },
  {
   "cell_type": "code",
   "execution_count": 98,
   "metadata": {
    "ExecuteTime": {
     "end_time": "2020-03-19T04:20:21.073203Z",
     "start_time": "2020-03-19T04:20:20.880203Z"
    }
   },
   "outputs": [],
   "source": [
    "corpus = [regex_multiple_punctuations(s) for s in corpus]"
   ]
  },
  {
   "cell_type": "code",
   "execution_count": 99,
   "metadata": {
    "ExecuteTime": {
     "end_time": "2020-03-19T04:20:21.084203Z",
     "start_time": "2020-03-19T04:20:21.075203Z"
    },
    "scrolled": false
   },
   "outputs": [
    {
     "data": {
      "text/plain": [
       "['kerenn',\n",
       " 'maksudnya ini min .',\n",
       " 'agak nyesel dulu pernah pake hc, karena databest kita dijual belikan. tiba dua banyak banget yang nawarin pinjaman ini itu. di tlp siang sore mlm, yang mau credit di hc atau selain hc mending ga usahlah. ganggu. kok kalian bisa sih nyebarin data best customer seenaknya atau di perjual beli kan. berharap suatu hari yang begini gini bisa di hukum',\n",
       " 'jasa convert pulsa jadi saldo atm bank rate telkomsel tri xl axis seratus . nol up tsel delapan puluh tujuh three delapan puluh empat xl axis sembilan puluh empat tiga ratus . nol up tsel delapan puluh sembilan three delapan puluh enam xl axis sembilan puluh lima sembilan ratus sembilan puluh sembilan . nol up tsel sembilan puluh three delapan puluh tujuh xl axis sembilan puluh enam dua . empat ratus sembilan puluh sembilan . nol up tsel sembilan puluh dua three delapan puluh delapan xl axis sembilan puluh tujuh catatan sebelum transaksi silahkan baca terlebih dahulu syarat dan ketentuan transaksi. penjahat terutama penipu dilarang transaksi disini. bni bca bri mandiri ovo dana gratis biaya transfer contact admin cp admin wa kosong delapan tiga satu delapan tiga delapan tujuh lima delapan tujuh tiga cp admin ig. cp admin line pakai ya',\n",
       " 'min, saya ga ngutang kenapa ditelpon melulu, saya udah bilang nomor saya dimasukin orang sebagai jaminan, dia ngaku sodara saya padahal bukan sodara saya dia, pakai nomor saya tanpa izin trus home kredit nelpon melulu, sangat mengganggu saya,']"
      ]
     },
     "execution_count": 99,
     "metadata": {},
     "output_type": "execute_result"
    }
   ],
   "source": [
    "random.sample(corpus, 5)"
   ]
  },
  {
   "cell_type": "markdown",
   "metadata": {},
   "source": [
    "### (Optional) Triplet Punctuactions\n",
    "\n",
    "If using subword model, this step is optional, since space is treated as a basic symbol."
   ]
  },
  {
   "cell_type": "code",
   "execution_count": 100,
   "metadata": {
    "ExecuteTime": {
     "end_time": "2020-03-19T04:20:21.756203Z",
     "start_time": "2020-03-19T04:20:21.087203Z"
    }
   },
   "outputs": [],
   "source": [
    "corpus = [regex_triplet_punctuations(s) for s in corpus]"
   ]
  },
  {
   "cell_type": "code",
   "execution_count": 101,
   "metadata": {
    "ExecuteTime": {
     "end_time": "2020-03-19T04:20:21.764203Z",
     "start_time": "2020-03-19T04:20:21.758203Z"
    },
    "scrolled": true
   },
   "outputs": [
    {
     "data": {
      "text/plain": [
       "['di medan untuk toko kamera yg di support dmana ya. ',\n",
       " 'hasil capture saya adalah bioskop, tempat favorit saya dan keluarga karena disana kita bisa mencari hiburan dengan melihat film layar lebar. banyaknya film yang ditayangkan di bioskop seperti drama, komedi, horor, dsb sehingga kita bisa memiliki pilihan film yang ingin dilihat. bioskop sendiri memiliki manfaat sebagai penghibur serta penghilang stress bagi saya. belum seru rasanya kalo kesana tanpa kalian zaa',\n",
       " 'pocong ganti piyama. genderuwo pun pake celana. jalan hidup kian bermakna. karena ada solusinya. .isme',\n",
       " 'aku pilih orang e soalnya dia lagi jualin hp murah, siapa tau hasil curian dari orang yg di slide satu yuk ikutan navrat',\n",
       " 'ini pantun horor dari saya, satu. ada peniti, ada kue pancong, hatihati, dibelakangmu ada pocong. dua. lalu aku buka mata, laraklirik kanankiri, tibatiba muncul seorang wanita, dengan wajah sangat ngeri. tiga. siangsiang kejepit pintu, suara tangis tak tertahan, tak usah takut kepada hantu, percayalah kepada tuhan. betulllllll tooooh. yns sebelas']"
      ]
     },
     "execution_count": 101,
     "metadata": {},
     "output_type": "execute_result"
    }
   ],
   "source": [
    "random.sample(corpus, 5)"
   ]
  },
  {
   "cell_type": "markdown",
   "metadata": {},
   "source": [
    "### Remove Empty String and Strip"
   ]
  },
  {
   "cell_type": "code",
   "execution_count": 102,
   "metadata": {
    "ExecuteTime": {
     "end_time": "2020-03-19T04:20:21.795203Z",
     "start_time": "2020-03-19T04:20:21.767203Z"
    }
   },
   "outputs": [],
   "source": [
    "corpus = [s.strip() for s in corpus if s != '']"
   ]
  },
  {
   "cell_type": "code",
   "execution_count": 103,
   "metadata": {
    "ExecuteTime": {
     "end_time": "2020-03-19T04:20:21.810203Z",
     "start_time": "2020-03-19T04:20:21.799203Z"
    }
   },
   "outputs": [
    {
     "data": {
      "text/plain": [
       "['baca dm nya',\n",
       " 'jalanjalan ke jepang bersama keluarga sambil berfotofoto ootd dibawah pohon sakura ternyata pas dicetak ada yang ngga biasa ada mba sadako ikutan say cheese di dalam fotonya',\n",
       " 'enam',\n",
       " 'saya minta tolong mas atau mba homecredit, jgn telpon no saya terus sehari bisa puluhan kali ditelpon, ini saya gk ngutang, tapi teman saya yang pake no saya sbg registrasi awal, tolong lah jgn ganggu. ini tiap hr diteror terus, ini no tmn saya yg ngutang an ricky eka ferdian kosong delapan lima delapan dua satu enam tujuh kosong enam satu tujuh',\n",
       " 'min cek dm saya']"
      ]
     },
     "execution_count": 103,
     "metadata": {},
     "output_type": "execute_result"
    }
   ],
   "source": [
    "random.sample(corpus, 5)"
   ]
  },
  {
   "cell_type": "markdown",
   "metadata": {},
   "source": [
    "### Remove One Word Only Documents"
   ]
  },
  {
   "cell_type": "code",
   "execution_count": 104,
   "metadata": {
    "ExecuteTime": {
     "end_time": "2020-03-19T04:20:21.910203Z",
     "start_time": "2020-03-19T04:20:21.813203Z"
    }
   },
   "outputs": [],
   "source": [
    "corpus = [s for s in corpus if len(s.split()) > 1]"
   ]
  },
  {
   "cell_type": "code",
   "execution_count": 105,
   "metadata": {
    "ExecuteTime": {
     "end_time": "2020-03-19T04:20:21.922203Z",
     "start_time": "2020-03-19T04:20:21.914203Z"
    }
   },
   "outputs": [
    {
     "data": {
      "text/plain": [
       "['satu. pulang kampung dua. angpau tiga. baju baru empat. tabungan lima. investasi',\n",
       " 'ketika ada masalah barang hilang disuatu tempat pasti kita akan mencurigai dan bahkan menuduh orang dua yang ada disekitar kita, hal ini sangatlah wajar karena disamping panik dan emosi. . postingan diatas selain orang yang kehilangan laptop juga ada pria yang membawa box a, wanita yang selfie kemudian ada kue red velvet dan tas besar disampingnyab, pria berjaket sedang pesan menuc, dan wanita yang buru dua keluar sambil membawa tas kecil d. nah klo kita langsung menuduh orang dua tersebut diatas tanpa bukti yang jelas pasti nanti bakal terjadi keributan, dan ini biasanya yang diinginkan oleh pelaku pencurian, agar terhindar dari pengecekan. dari postingan diatas saya memilih b sebagai pencuri karena ada bukti yaitu tangan yang ada noda merah dan tisue yang jatuh bernoda merah dari kue dibawah meja pemilik laptop. kemungkinan wanita tersebut sedang makan kue dan memegang tissue, nah disaat pemilik laptop pergi, dia ada kesempatan mengambil laptop, tapi karena buruburu tisue yang dipegang terjatuh dibawah meja pemilik laptop, setelah mendapatkan laptop wanita tersebut langsung memasukannya kedalam tas. nah ketika pemilik laptop kembali dan kehilangan laptopnya, si wanita tersebut berpurapura selfie untuk mengalihkan perhatian. agar lebih menguatkan bukti bahwa si b adalah pencurinya bisa memakai cctv dan melakukan pengecekan pada isi tas nya. . nah daripada mencuri barang milik orang lain selain berdosa dan nanti juga akan berhubungan dengan pihak berwajib, lebih baik beli aja lewat proses mudah dan pasti banyak promonya',\n",
       " 'bercerita tentang pastinya oppo f sebelas, yuppp d zaman digital ini pastinya smartphoned sdh menjadi kebutuhan seharihari bkn saja sebagai alat komunikasi tetapi sebagai alat dalam bersosialisasi, bertransaksi dll. itulah knp oppo f sebelas menjadi pilihan saya. untuk si maling handphoned yaitu si org d, knp. wlpn dia mencoba berlagak sok sibuk telponan tetapi cctv menangkap sebuah handphoned yg hilang pada saku celana kiri dia.',\n",
       " 'duri dilempar tertusuk hati hati dirasa tidak berbunyi ketika lari tersandung kaki di kamar kosong tanpa penghuni',\n",
       " 'dua buah bola']"
      ]
     },
     "execution_count": 105,
     "metadata": {},
     "output_type": "execute_result"
    }
   ],
   "source": [
    "random.sample(corpus, 5)"
   ]
  },
  {
   "cell_type": "markdown",
   "metadata": {},
   "source": [
    "## Compare Stats\n",
    "\n",
    "Recalculate stats after cleaning."
   ]
  },
  {
   "cell_type": "code",
   "execution_count": 106,
   "metadata": {
    "ExecuteTime": {
     "end_time": "2020-03-19T04:20:21.953203Z",
     "start_time": "2020-03-19T04:20:21.925203Z"
    }
   },
   "outputs": [],
   "source": [
    "def print_stats(stats):\n",
    "    print(f\"Number of documents: {stats['n']}\")\n",
    "    print(f\"Sum of Ni: {stats['Ni']}\")\n",
    "    print(f\"Vocab size: {len(stats['V'])}\")\n",
    "    print(f\"Sparsity: {stats['Sd']}\")"
   ]
  },
  {
   "cell_type": "code",
   "execution_count": 107,
   "metadata": {
    "ExecuteTime": {
     "end_time": "2020-03-19T04:20:22.182203Z",
     "start_time": "2020-03-19T04:20:21.958203Z"
    }
   },
   "outputs": [],
   "source": [
    "after_cleaning_stats = sparsity(corpus)"
   ]
  },
  {
   "cell_type": "code",
   "execution_count": 108,
   "metadata": {
    "ExecuteTime": {
     "end_time": "2020-03-19T04:20:22.194203Z",
     "start_time": "2020-03-19T04:20:22.184203Z"
    }
   },
   "outputs": [
    {
     "name": "stdout",
     "output_type": "stream",
     "text": [
      "Number of documents: 26350\n",
      "Sum of Ni: 550641\n",
      "Vocab size: 82637\n",
      "Sparsity: 0.9997471206402597\n"
     ]
    }
   ],
   "source": [
    "print_stats(before_cleaning_stats)"
   ]
  },
  {
   "cell_type": "code",
   "execution_count": 109,
   "metadata": {
    "ExecuteTime": {
     "end_time": "2020-03-19T04:20:22.222203Z",
     "start_time": "2020-03-19T04:20:22.200203Z"
    }
   },
   "outputs": [
    {
     "name": "stdout",
     "output_type": "stream",
     "text": [
      "Number of documents: 22749\n",
      "Sum of Ni: 512310\n",
      "Vocab size: 42653\n",
      "Sparsity: 0.9994720157837877\n"
     ]
    }
   ],
   "source": [
    "print_stats(after_cleaning_stats)"
   ]
  },
  {
   "cell_type": "markdown",
   "metadata": {},
   "source": [
    "## Save Corpus and Vocab"
   ]
  },
  {
   "cell_type": "code",
   "execution_count": 110,
   "metadata": {
    "ExecuteTime": {
     "end_time": "2020-03-19T04:20:22.350203Z",
     "start_time": "2020-03-19T04:20:22.226203Z"
    }
   },
   "outputs": [],
   "source": [
    "with open(\"../../dataset/corpus/instagram_corpus.txt\", 'w') as f:\n",
    "    for document in corpus:\n",
    "        f.write(f\"{document}\\n\")"
   ]
  },
  {
   "cell_type": "code",
   "execution_count": 111,
   "metadata": {
    "ExecuteTime": {
     "end_time": "2020-03-19T04:20:22.459203Z",
     "start_time": "2020-03-19T04:20:22.353203Z"
    }
   },
   "outputs": [],
   "source": [
    "with open(\"../../dataset/corpus/instagram_vocab.txt\", 'w') as f:\n",
    "    for vocab in after_cleaning_stats['V']:\n",
    "        f.write(f\"{vocab}\\n\")"
   ]
  },
  {
   "cell_type": "markdown",
   "metadata": {},
   "source": [
    "## (Optional) Sub Word Tokenizer\n",
    "\n",
    "In case we want to use sub word token, or word pieces."
   ]
  },
  {
   "cell_type": "code",
   "execution_count": 122,
   "metadata": {
    "ExecuteTime": {
     "end_time": "2020-03-19T04:30:24.704203Z",
     "start_time": "2020-03-19T04:30:18.897203Z"
    }
   },
   "outputs": [
    {
     "data": {
      "text/plain": [
       "True"
      ]
     },
     "execution_count": 122,
     "metadata": {},
     "output_type": "execute_result"
    }
   ],
   "source": [
    "import sentencepiece as spm\n",
    "spm.SentencePieceTrainer.train('--input=../../dataset/corpus/instagram_corpus.txt --model_prefix=m --vocab_size=8000')"
   ]
  },
  {
   "cell_type": "code",
   "execution_count": 123,
   "metadata": {
    "ExecuteTime": {
     "end_time": "2020-03-19T04:30:26.108203Z",
     "start_time": "2020-03-19T04:30:26.059203Z"
    }
   },
   "outputs": [
    {
     "data": {
      "text/plain": [
       "True"
      ]
     },
     "execution_count": 123,
     "metadata": {},
     "output_type": "execute_result"
    }
   ],
   "source": [
    "sp = spm.SentencePieceProcessor()\n",
    "sp.load('m.model')"
   ]
  },
  {
   "cell_type": "code",
   "execution_count": 124,
   "metadata": {
    "ExecuteTime": {
     "end_time": "2020-03-19T04:30:26.916203Z",
     "start_time": "2020-03-19T04:30:26.906203Z"
    }
   },
   "outputs": [
    {
     "name": "stdout",
     "output_type": "stream",
     "text": [
      "['▁homecredit', '▁kamu', '▁bisa']\n",
      "[123, 72, 16]\n"
     ]
    }
   ],
   "source": [
    "print(sp.encode_as_pieces('homecredit kamu bisa'))\n",
    "print(sp.encode_as_ids('homecredit kamu bisa'))"
   ]
  },
  {
   "cell_type": "code",
   "execution_count": 127,
   "metadata": {
    "ExecuteTime": {
     "end_time": "2020-03-19T04:32:22.468203Z",
     "start_time": "2020-03-19T04:32:22.448203Z"
    }
   },
   "outputs": [
    {
     "name": "stdout",
     "output_type": "stream",
     "text": [
      "['▁', 'homecredit', '▁kamu', '▁bisa']\n",
      "['▁ho', 'm', 'e', 'c', 'redit', '▁ka', 'mu', '▁bis', 'a']\n",
      "['▁', 'homecredit', '▁kamu', '▁b', 'i', 's', 'a']\n",
      "['▁', 'home', 'credit', '▁ka', 'mu', '▁', 'b', 'i', 's', 'a']\n",
      "['▁', 'homecredit', '▁kam', 'u', '▁', 'bisa']\n",
      "['▁', 'homecredit', '▁', 'ka', 'mu', '▁bi', 'sa']\n",
      "['▁', 'h', 'o', 'm', 'e', 'c', 'r', 'e', 'd', 'it', '▁', 'k', 'a', 'mu', '▁b', 'i', 'sa']\n",
      "['▁', 'homecredit', '▁ka', 'mu', '▁', 'b', 'isa']\n",
      "['▁ho', 'me', 'c', 'redit', '▁k', 'am', 'u', '▁bisa']\n",
      "['▁', 'home', 'c', 'r', 'e', 'd', 'i', 't', '▁', 'k', 'a', 'm', 'u', '▁bis', 'a']\n",
      "[433, 2096, 106, 396, 5858, 11, 3504, 205, 16]\n",
      "[11, 5089, 5101, 72, 16]\n",
      "[433, 326, 1069, 5101, 131, 757, 205, 1031, 80]\n",
      "[11, 5089, 5101, 11, 86, 80, 200, 205, 57, 42, 410]\n",
      "[44, 396, 5858, 11, 86, 80, 219, 11, 2266]\n",
      "[44, 5101, 72, 16]\n",
      "[11, 94, 326, 1069, 5101, 4045, 205, 16]\n",
      "[123, 72, 791, 410]\n",
      "[1754, 200, 106, 5101, 72, 16]\n",
      "[11, 5089, 5101, 72, 16]\n"
     ]
    }
   ],
   "source": [
    "for n in range(10):\n",
    "    print(sp.sample_encode_as_pieces('homecredit kamu bisa', -1, 0.1))\n",
    "for n in range(10):\n",
    "    print(sp.sample_encode_as_ids('homecredit kamu bisa', -1, 0.1))"
   ]
  },
  {
   "cell_type": "code",
   "execution_count": 128,
   "metadata": {
    "ExecuteTime": {
     "end_time": "2020-03-19T04:33:06.618203Z",
     "start_time": "2020-03-19T04:33:06.603203Z"
    }
   },
   "outputs": [
    {
     "name": "stdout",
     "output_type": "stream",
     "text": [
      "[['▁homecredit', '▁kamu', '▁bisa'], ['▁', 'homecredit', '▁kamu', '▁bisa'], ['▁homecredit', '▁ka', 'mu', '▁bisa'], ['▁homecredit', '▁kamu', '▁', 'bisa'], ['▁homecredit', '▁kamu', '▁bis', 'a'], ['▁home', 'credit', '▁kamu', '▁bisa'], ['▁homecredit', '▁kamu', '▁b', 'isa'], ['▁homecredit', '▁kamu', '▁bi', 'sa'], ['▁homecredit', '▁kam', 'u', '▁bisa'], ['▁homecredit', '▁k', 'a', 'mu', '▁bisa']]\n",
      "[[123, 72, 16], [11, 2390, 72, 16], [123, 380, 219, 16], [123, 72, 11, 2266], [123, 72, 1031, 80], [44, 5101, 72, 16], [123, 72, 57, 2752], [123, 72, 791, 410], [123, 4045, 205, 16], [123, 131, 80, 219, 16]]\n"
     ]
    }
   ],
   "source": [
    "# get 10 best\n",
    "print(sp.nbest_encode_as_pieces('homecredit kamu bisa', 10))\n",
    "print(sp.nbest_encode_as_ids('homecredit kamu bisa', 10))"
   ]
  },
  {
   "cell_type": "markdown",
   "metadata": {},
   "source": [
    " "
   ]
  }
 ],
 "metadata": {
  "hide_input": false,
  "kernelspec": {
   "display_name": "Python [conda env:gurih] *",
   "language": "python",
   "name": "conda-env-gurih-py"
  },
  "language_info": {
   "codemirror_mode": {
    "name": "ipython",
    "version": 3
   },
   "file_extension": ".py",
   "mimetype": "text/x-python",
   "name": "python",
   "nbconvert_exporter": "python",
   "pygments_lexer": "ipython3",
   "version": "3.7.6"
  },
  "toc": {
   "base_numbering": 1,
   "nav_menu": {},
   "number_sections": true,
   "sideBar": true,
   "skip_h1_title": false,
   "title_cell": "Table of Contents",
   "title_sidebar": "Contents",
   "toc_cell": false,
   "toc_position": {
    "height": "calc(100% - 180px)",
    "left": "10px",
    "top": "150px",
    "width": "341.484px"
   },
   "toc_section_display": true,
   "toc_window_display": true
  }
 },
 "nbformat": 4,
 "nbformat_minor": 4
}
