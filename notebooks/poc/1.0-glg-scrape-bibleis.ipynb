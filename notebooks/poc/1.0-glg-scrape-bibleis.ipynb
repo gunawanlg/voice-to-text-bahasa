{
 "cells": [
  {
   "cell_type": "markdown",
   "metadata": {},
   "source": [
    "<span style=\"font-size:36px\"><b>Scrape Bibleis</b></span>\n",
    "\n",
    "Copyright &copy; 2020 Gunawan Lumban Gaol\n",
    "\n",
    "Licensed under the Apache License, Version 2.0 (the \"License\"); you may not use this file except in compliance with the License. You may obtain a copy of the License at http://www.apache.org/licenses/LICENSE-2.0\n",
    "\n",
    "Unless required by applicable law or agreed to in writing, software distributed under the License is distributed on an \"AS IS\" BASIS, WITHOUT WARRANTIES OR CONDITIONS OF ANY KIND, either express or implied. See the License for the specific language overning permissions and limitations under the License."
   ]
  },
  {
   "cell_type": "code",
   "execution_count": null,
   "metadata": {
    "ExecuteTime": {
     "end_time": "2020-02-03T03:06:05.956500Z",
     "start_time": "2020-02-03T03:06:05.665500Z"
    }
   },
   "outputs": [],
   "source": [
    "from gurih.data.scraper import BibleIsScraper"
   ]
  },
  {
   "cell_type": "code",
   "execution_count": null,
   "metadata": {
    "ExecuteTime": {
     "end_time": "2020-02-03T03:06:06.173500Z",
     "start_time": "2020-02-03T03:06:05.960500Z"
    }
   },
   "outputs": [],
   "source": [
    "base_url = \"https://live.bible.is/bible/INDASV/MRK/1?audio_type=audio\"\n",
    "scraper = BibleIsScraper(base_url, './chromedriver.exe')"
   ]
  },
  {
   "cell_type": "markdown",
   "metadata": {},
   "source": [
    "You can edit either scrape only the text or audio or both."
   ]
  },
  {
   "cell_type": "code",
   "execution_count": null,
   "metadata": {
    "ExecuteTime": {
     "end_time": "2020-02-03T03:06:07.138500Z",
     "start_time": "2020-02-03T03:06:06.939500Z"
    }
   },
   "outputs": [],
   "source": [
    "scraper.scrape_audio = False\n",
    "# scarper.scrape_text = False"
   ]
  },
  {
   "cell_type": "markdown",
   "metadata": {},
   "source": [
    "Test `scrape_page` method, ensures expected return value."
   ]
  },
  {
   "cell_type": "code",
   "execution_count": null,
   "metadata": {
    "ExecuteTime": {
     "end_time": "2020-02-03T03:07:02.281500Z",
     "start_time": "2020-02-03T03:06:07.839500Z"
    }
   },
   "outputs": [],
   "source": [
    "# url with hanging verses\n",
    "# test_url = \"https://live.bible.is/bible/INDASV/EZR/2?audio_type=audio\"\n",
    "# test_url = \"https://live.bible.is/bible/INDASV/1CH/6?audio_type=audio\"\n",
    "\n",
    "# url with no p element\n",
    "test_url = 'https://live.bible.is/bible/INDASV/JOB/4?audio_type=audio'\n",
    "scraper.scrape_page(test_url)"
   ]
  },
  {
   "cell_type": "markdown",
   "metadata": {},
   "source": [
    "Get all urls from base urls."
   ]
  },
  {
   "cell_type": "code",
   "execution_count": null,
   "metadata": {
    "ExecuteTime": {
     "end_time": "2020-01-30T08:21:00.667000Z",
     "start_time": "2020-01-30T08:20:29.061000Z"
    }
   },
   "outputs": [],
   "source": [
    "scraper.get_urls()"
   ]
  },
  {
   "cell_type": "code",
   "execution_count": null,
   "metadata": {
    "ExecuteTime": {
     "end_time": "2020-01-30T08:21:00.887000Z",
     "start_time": "2020-01-30T08:21:00.671000Z"
    }
   },
   "outputs": [],
   "source": [
    "len(scraper.urls)"
   ]
  },
  {
   "cell_type": "markdown",
   "metadata": {},
   "source": [
    "For every page, get verses and mp3s."
   ]
  },
  {
   "cell_type": "code",
   "execution_count": null,
   "metadata": {
    "ExecuteTime": {
     "end_time": "2020-02-03T03:08:04.210500Z",
     "start_time": "2020-02-03T03:08:03.903500Z"
    }
   },
   "outputs": [],
   "source": [
    "df_res_continue = pd.read_csv(\"../../dataset/raw/bibleis/bibleis_transcription_v2.csv\")\n",
    "df_res_continue.shape"
   ]
  },
  {
   "cell_type": "code",
   "execution_count": null,
   "metadata": {
    "ExecuteTime": {
     "end_time": "2020-02-03T03:13:16.671000Z",
     "start_time": "2020-02-03T03:13:16.513500Z"
    }
   },
   "outputs": [],
   "source": [
    "l_cont = df_res_continue[df_res_continue['chapter_string'].isnull()]['url']\n",
    "len(l_cont)"
   ]
  },
  {
   "cell_type": "code",
   "execution_count": null,
   "metadata": {
    "ExecuteTime": {
     "end_time": "2020-02-03T03:46:11.631000Z",
     "start_time": "2020-02-03T03:13:23.761000Z"
    },
    "scrolled": false
   },
   "outputs": [],
   "source": [
    "scraper.run(list(l_cont.values))"
   ]
  },
  {
   "cell_type": "markdown",
   "metadata": {},
   "source": [
    "Save scraped data to csv."
   ]
  },
  {
   "cell_type": "code",
   "execution_count": null,
   "metadata": {
    "ExecuteTime": {
     "end_time": "2020-02-03T03:47:05.598500Z",
     "start_time": "2020-02-03T03:47:05.361000Z"
    }
   },
   "outputs": [],
   "source": [
    "scraper.write_csv('../../dataset/raw/bibleis/bibleis_transcription_v2_add.csv')"
   ]
  },
  {
   "cell_type": "markdown",
   "metadata": {},
   "source": [
    "If needed, rescrape broken audio files."
   ]
  },
  {
   "cell_type": "code",
   "execution_count": null,
   "metadata": {},
   "outputs": [],
   "source": [
    "import glob\n",
    "mp3s = glob.glob(\"../../dataset/raw/*.mp3\")\n",
    "\n",
    "l = [x for x in mp3s if (os.stat(x).st_size < 3e5)]\n",
    "smol_files = [\"https://live.bible.is/bible/\" + x[:-4].replace(\"_\", \"/\") + \"?audio_type=audio\" for x in l]\n",
    "\n",
    "print(len(smol_files))\n",
    "print(smol_files[0])\n",
    "\n",
    "scraper.run(smol_files)"
   ]
  }
 ],
 "metadata": {
  "hide_input": false,
  "kernelspec": {
   "display_name": "Python 3",
   "language": "python",
   "name": "python3"
  },
  "language_info": {
   "codemirror_mode": {
    "name": "ipython",
    "version": 3
   },
   "file_extension": ".py",
   "mimetype": "text/x-python",
   "name": "python",
   "nbconvert_exporter": "python",
   "pygments_lexer": "ipython3",
   "version": "3.7.6"
  },
  "toc": {
   "base_numbering": 1,
   "nav_menu": {},
   "number_sections": true,
   "sideBar": true,
   "skip_h1_title": false,
   "title_cell": "Table of Contents",
   "title_sidebar": "Contents",
   "toc_cell": false,
   "toc_position": {},
   "toc_section_display": true,
   "toc_window_display": false
  }
 },
 "nbformat": 4,
 "nbformat_minor": 2
}
